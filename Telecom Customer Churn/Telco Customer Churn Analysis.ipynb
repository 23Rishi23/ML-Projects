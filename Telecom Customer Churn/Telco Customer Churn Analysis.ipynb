{
 "cells": [
  {
   "cell_type": "markdown",
   "id": "2b4abd39",
   "metadata": {},
   "source": [
    "## 1. Importing Libraries"
   ]
  },
  {
   "cell_type": "code",
   "execution_count": 2,
   "id": "eb64c278",
   "metadata": {},
   "outputs": [],
   "source": [
    "import numpy as np\n",
    "import pandas as pd\n",
    "from matplotlib import pyplot as plt\n",
    "import seaborn as sns"
   ]
  },
  {
   "cell_type": "markdown",
   "id": "5fbc5aa8",
   "metadata": {},
   "source": [
    "## 2. Data Check"
   ]
  },
  {
   "cell_type": "code",
   "execution_count": 3,
   "id": "8dbb314f",
   "metadata": {},
   "outputs": [],
   "source": [
    "df = pd.read_csv(\"C:/Users/Appa/Documents/DataScience/WA_Fn-UseC_-Telco-Customer-Churn.csv\")"
   ]
  },
  {
   "cell_type": "code",
   "execution_count": 4,
   "id": "b2dba151",
   "metadata": {},
   "outputs": [
    {
     "data": {
      "text/html": [
       "<div>\n",
       "<style scoped>\n",
       "    .dataframe tbody tr th:only-of-type {\n",
       "        vertical-align: middle;\n",
       "    }\n",
       "\n",
       "    .dataframe tbody tr th {\n",
       "        vertical-align: top;\n",
       "    }\n",
       "\n",
       "    .dataframe thead th {\n",
       "        text-align: right;\n",
       "    }\n",
       "</style>\n",
       "<table border=\"1\" class=\"dataframe\">\n",
       "  <thead>\n",
       "    <tr style=\"text-align: right;\">\n",
       "      <th></th>\n",
       "      <th>customerID</th>\n",
       "      <th>gender</th>\n",
       "      <th>SeniorCitizen</th>\n",
       "      <th>Partner</th>\n",
       "      <th>Dependents</th>\n",
       "      <th>tenure</th>\n",
       "      <th>PhoneService</th>\n",
       "      <th>MultipleLines</th>\n",
       "      <th>InternetService</th>\n",
       "      <th>OnlineSecurity</th>\n",
       "      <th>...</th>\n",
       "      <th>DeviceProtection</th>\n",
       "      <th>TechSupport</th>\n",
       "      <th>StreamingTV</th>\n",
       "      <th>StreamingMovies</th>\n",
       "      <th>Contract</th>\n",
       "      <th>PaperlessBilling</th>\n",
       "      <th>PaymentMethod</th>\n",
       "      <th>MonthlyCharges</th>\n",
       "      <th>TotalCharges</th>\n",
       "      <th>Churn</th>\n",
       "    </tr>\n",
       "  </thead>\n",
       "  <tbody>\n",
       "    <tr>\n",
       "      <th>0</th>\n",
       "      <td>7590-VHVEG</td>\n",
       "      <td>Female</td>\n",
       "      <td>0</td>\n",
       "      <td>Yes</td>\n",
       "      <td>No</td>\n",
       "      <td>1</td>\n",
       "      <td>No</td>\n",
       "      <td>No phone service</td>\n",
       "      <td>DSL</td>\n",
       "      <td>No</td>\n",
       "      <td>...</td>\n",
       "      <td>No</td>\n",
       "      <td>No</td>\n",
       "      <td>No</td>\n",
       "      <td>No</td>\n",
       "      <td>Month-to-month</td>\n",
       "      <td>Yes</td>\n",
       "      <td>Electronic check</td>\n",
       "      <td>29.85</td>\n",
       "      <td>29.85</td>\n",
       "      <td>No</td>\n",
       "    </tr>\n",
       "    <tr>\n",
       "      <th>1</th>\n",
       "      <td>5575-GNVDE</td>\n",
       "      <td>Male</td>\n",
       "      <td>0</td>\n",
       "      <td>No</td>\n",
       "      <td>No</td>\n",
       "      <td>34</td>\n",
       "      <td>Yes</td>\n",
       "      <td>No</td>\n",
       "      <td>DSL</td>\n",
       "      <td>Yes</td>\n",
       "      <td>...</td>\n",
       "      <td>Yes</td>\n",
       "      <td>No</td>\n",
       "      <td>No</td>\n",
       "      <td>No</td>\n",
       "      <td>One year</td>\n",
       "      <td>No</td>\n",
       "      <td>Mailed check</td>\n",
       "      <td>56.95</td>\n",
       "      <td>1889.5</td>\n",
       "      <td>No</td>\n",
       "    </tr>\n",
       "    <tr>\n",
       "      <th>2</th>\n",
       "      <td>3668-QPYBK</td>\n",
       "      <td>Male</td>\n",
       "      <td>0</td>\n",
       "      <td>No</td>\n",
       "      <td>No</td>\n",
       "      <td>2</td>\n",
       "      <td>Yes</td>\n",
       "      <td>No</td>\n",
       "      <td>DSL</td>\n",
       "      <td>Yes</td>\n",
       "      <td>...</td>\n",
       "      <td>No</td>\n",
       "      <td>No</td>\n",
       "      <td>No</td>\n",
       "      <td>No</td>\n",
       "      <td>Month-to-month</td>\n",
       "      <td>Yes</td>\n",
       "      <td>Mailed check</td>\n",
       "      <td>53.85</td>\n",
       "      <td>108.15</td>\n",
       "      <td>Yes</td>\n",
       "    </tr>\n",
       "    <tr>\n",
       "      <th>3</th>\n",
       "      <td>7795-CFOCW</td>\n",
       "      <td>Male</td>\n",
       "      <td>0</td>\n",
       "      <td>No</td>\n",
       "      <td>No</td>\n",
       "      <td>45</td>\n",
       "      <td>No</td>\n",
       "      <td>No phone service</td>\n",
       "      <td>DSL</td>\n",
       "      <td>Yes</td>\n",
       "      <td>...</td>\n",
       "      <td>Yes</td>\n",
       "      <td>Yes</td>\n",
       "      <td>No</td>\n",
       "      <td>No</td>\n",
       "      <td>One year</td>\n",
       "      <td>No</td>\n",
       "      <td>Bank transfer (automatic)</td>\n",
       "      <td>42.30</td>\n",
       "      <td>1840.75</td>\n",
       "      <td>No</td>\n",
       "    </tr>\n",
       "    <tr>\n",
       "      <th>4</th>\n",
       "      <td>9237-HQITU</td>\n",
       "      <td>Female</td>\n",
       "      <td>0</td>\n",
       "      <td>No</td>\n",
       "      <td>No</td>\n",
       "      <td>2</td>\n",
       "      <td>Yes</td>\n",
       "      <td>No</td>\n",
       "      <td>Fiber optic</td>\n",
       "      <td>No</td>\n",
       "      <td>...</td>\n",
       "      <td>No</td>\n",
       "      <td>No</td>\n",
       "      <td>No</td>\n",
       "      <td>No</td>\n",
       "      <td>Month-to-month</td>\n",
       "      <td>Yes</td>\n",
       "      <td>Electronic check</td>\n",
       "      <td>70.70</td>\n",
       "      <td>151.65</td>\n",
       "      <td>Yes</td>\n",
       "    </tr>\n",
       "  </tbody>\n",
       "</table>\n",
       "<p>5 rows × 21 columns</p>\n",
       "</div>"
      ],
      "text/plain": [
       "   customerID  gender  SeniorCitizen Partner Dependents  tenure PhoneService  \\\n",
       "0  7590-VHVEG  Female              0     Yes         No       1           No   \n",
       "1  5575-GNVDE    Male              0      No         No      34          Yes   \n",
       "2  3668-QPYBK    Male              0      No         No       2          Yes   \n",
       "3  7795-CFOCW    Male              0      No         No      45           No   \n",
       "4  9237-HQITU  Female              0      No         No       2          Yes   \n",
       "\n",
       "      MultipleLines InternetService OnlineSecurity  ... DeviceProtection  \\\n",
       "0  No phone service             DSL             No  ...               No   \n",
       "1                No             DSL            Yes  ...              Yes   \n",
       "2                No             DSL            Yes  ...               No   \n",
       "3  No phone service             DSL            Yes  ...              Yes   \n",
       "4                No     Fiber optic             No  ...               No   \n",
       "\n",
       "  TechSupport StreamingTV StreamingMovies        Contract PaperlessBilling  \\\n",
       "0          No          No              No  Month-to-month              Yes   \n",
       "1          No          No              No        One year               No   \n",
       "2          No          No              No  Month-to-month              Yes   \n",
       "3         Yes          No              No        One year               No   \n",
       "4          No          No              No  Month-to-month              Yes   \n",
       "\n",
       "               PaymentMethod MonthlyCharges  TotalCharges Churn  \n",
       "0           Electronic check          29.85         29.85    No  \n",
       "1               Mailed check          56.95        1889.5    No  \n",
       "2               Mailed check          53.85        108.15   Yes  \n",
       "3  Bank transfer (automatic)          42.30       1840.75    No  \n",
       "4           Electronic check          70.70        151.65   Yes  \n",
       "\n",
       "[5 rows x 21 columns]"
      ]
     },
     "execution_count": 4,
     "metadata": {},
     "output_type": "execute_result"
    }
   ],
   "source": [
    "df.head()"
   ]
  },
  {
   "cell_type": "code",
   "execution_count": 5,
   "id": "82903e1d",
   "metadata": {},
   "outputs": [
    {
     "data": {
      "text/html": [
       "<div>\n",
       "<style scoped>\n",
       "    .dataframe tbody tr th:only-of-type {\n",
       "        vertical-align: middle;\n",
       "    }\n",
       "\n",
       "    .dataframe tbody tr th {\n",
       "        vertical-align: top;\n",
       "    }\n",
       "\n",
       "    .dataframe thead th {\n",
       "        text-align: right;\n",
       "    }\n",
       "</style>\n",
       "<table border=\"1\" class=\"dataframe\">\n",
       "  <thead>\n",
       "    <tr style=\"text-align: right;\">\n",
       "      <th></th>\n",
       "      <th>SeniorCitizen</th>\n",
       "      <th>tenure</th>\n",
       "      <th>MonthlyCharges</th>\n",
       "    </tr>\n",
       "  </thead>\n",
       "  <tbody>\n",
       "    <tr>\n",
       "      <th>count</th>\n",
       "      <td>7043.000000</td>\n",
       "      <td>7043.000000</td>\n",
       "      <td>7043.000000</td>\n",
       "    </tr>\n",
       "    <tr>\n",
       "      <th>mean</th>\n",
       "      <td>0.162147</td>\n",
       "      <td>32.371149</td>\n",
       "      <td>64.761692</td>\n",
       "    </tr>\n",
       "    <tr>\n",
       "      <th>std</th>\n",
       "      <td>0.368612</td>\n",
       "      <td>24.559481</td>\n",
       "      <td>30.090047</td>\n",
       "    </tr>\n",
       "    <tr>\n",
       "      <th>min</th>\n",
       "      <td>0.000000</td>\n",
       "      <td>0.000000</td>\n",
       "      <td>18.250000</td>\n",
       "    </tr>\n",
       "    <tr>\n",
       "      <th>25%</th>\n",
       "      <td>0.000000</td>\n",
       "      <td>9.000000</td>\n",
       "      <td>35.500000</td>\n",
       "    </tr>\n",
       "    <tr>\n",
       "      <th>50%</th>\n",
       "      <td>0.000000</td>\n",
       "      <td>29.000000</td>\n",
       "      <td>70.350000</td>\n",
       "    </tr>\n",
       "    <tr>\n",
       "      <th>75%</th>\n",
       "      <td>0.000000</td>\n",
       "      <td>55.000000</td>\n",
       "      <td>89.850000</td>\n",
       "    </tr>\n",
       "    <tr>\n",
       "      <th>max</th>\n",
       "      <td>1.000000</td>\n",
       "      <td>72.000000</td>\n",
       "      <td>118.750000</td>\n",
       "    </tr>\n",
       "  </tbody>\n",
       "</table>\n",
       "</div>"
      ],
      "text/plain": [
       "       SeniorCitizen       tenure  MonthlyCharges\n",
       "count    7043.000000  7043.000000     7043.000000\n",
       "mean        0.162147    32.371149       64.761692\n",
       "std         0.368612    24.559481       30.090047\n",
       "min         0.000000     0.000000       18.250000\n",
       "25%         0.000000     9.000000       35.500000\n",
       "50%         0.000000    29.000000       70.350000\n",
       "75%         0.000000    55.000000       89.850000\n",
       "max         1.000000    72.000000      118.750000"
      ]
     },
     "execution_count": 5,
     "metadata": {},
     "output_type": "execute_result"
    }
   ],
   "source": [
    "df.describe()"
   ]
  },
  {
   "cell_type": "code",
   "execution_count": 6,
   "id": "dfec16c5",
   "metadata": {},
   "outputs": [
    {
     "name": "stdout",
     "output_type": "stream",
     "text": [
      "<class 'pandas.core.frame.DataFrame'>\n",
      "RangeIndex: 7043 entries, 0 to 7042\n",
      "Data columns (total 21 columns):\n",
      " #   Column            Non-Null Count  Dtype  \n",
      "---  ------            --------------  -----  \n",
      " 0   customerID        7043 non-null   object \n",
      " 1   gender            7043 non-null   object \n",
      " 2   SeniorCitizen     7043 non-null   int64  \n",
      " 3   Partner           7043 non-null   object \n",
      " 4   Dependents        7043 non-null   object \n",
      " 5   tenure            7043 non-null   int64  \n",
      " 6   PhoneService      7043 non-null   object \n",
      " 7   MultipleLines     7043 non-null   object \n",
      " 8   InternetService   7043 non-null   object \n",
      " 9   OnlineSecurity    7043 non-null   object \n",
      " 10  OnlineBackup      7043 non-null   object \n",
      " 11  DeviceProtection  7043 non-null   object \n",
      " 12  TechSupport       7043 non-null   object \n",
      " 13  StreamingTV       7043 non-null   object \n",
      " 14  StreamingMovies   7043 non-null   object \n",
      " 15  Contract          7043 non-null   object \n",
      " 16  PaperlessBilling  7043 non-null   object \n",
      " 17  PaymentMethod     7043 non-null   object \n",
      " 18  MonthlyCharges    7043 non-null   float64\n",
      " 19  TotalCharges      7043 non-null   object \n",
      " 20  Churn             7043 non-null   object \n",
      "dtypes: float64(1), int64(2), object(18)\n",
      "memory usage: 1.1+ MB\n"
     ]
    }
   ],
   "source": [
    "df.info()"
   ]
  },
  {
   "cell_type": "code",
   "execution_count": 7,
   "id": "6a1041fc",
   "metadata": {},
   "outputs": [
    {
     "data": {
      "text/plain": [
       "customerID          0\n",
       "gender              0\n",
       "SeniorCitizen       0\n",
       "Partner             0\n",
       "Dependents          0\n",
       "tenure              0\n",
       "PhoneService        0\n",
       "MultipleLines       0\n",
       "InternetService     0\n",
       "OnlineSecurity      0\n",
       "OnlineBackup        0\n",
       "DeviceProtection    0\n",
       "TechSupport         0\n",
       "StreamingTV         0\n",
       "StreamingMovies     0\n",
       "Contract            0\n",
       "PaperlessBilling    0\n",
       "PaymentMethod       0\n",
       "MonthlyCharges      0\n",
       "TotalCharges        0\n",
       "Churn               0\n",
       "dtype: int64"
      ]
     },
     "execution_count": 7,
     "metadata": {},
     "output_type": "execute_result"
    }
   ],
   "source": [
    "df.isna().sum()"
   ]
  },
  {
   "cell_type": "markdown",
   "id": "84f0f18a",
   "metadata": {},
   "source": [
    "## 3. Thorough Exploratory Data Analysis"
   ]
  },
  {
   "cell_type": "code",
   "execution_count": 8,
   "id": "b93b65bc",
   "metadata": {},
   "outputs": [],
   "source": [
    "df.drop('customerID',axis='columns',inplace=True)"
   ]
  },
  {
   "cell_type": "code",
   "execution_count": 9,
   "id": "e99368e9",
   "metadata": {},
   "outputs": [
    {
     "data": {
      "text/plain": [
       "gender               object\n",
       "SeniorCitizen         int64\n",
       "Partner              object\n",
       "Dependents           object\n",
       "tenure                int64\n",
       "PhoneService         object\n",
       "MultipleLines        object\n",
       "InternetService      object\n",
       "OnlineSecurity       object\n",
       "OnlineBackup         object\n",
       "DeviceProtection     object\n",
       "TechSupport          object\n",
       "StreamingTV          object\n",
       "StreamingMovies      object\n",
       "Contract             object\n",
       "PaperlessBilling     object\n",
       "PaymentMethod        object\n",
       "MonthlyCharges      float64\n",
       "TotalCharges         object\n",
       "Churn                object\n",
       "dtype: object"
      ]
     },
     "execution_count": 9,
     "metadata": {},
     "output_type": "execute_result"
    }
   ],
   "source": [
    "df.dtypes"
   ]
  },
  {
   "cell_type": "code",
   "execution_count": 10,
   "id": "4275af9f",
   "metadata": {},
   "outputs": [
    {
     "data": {
      "text/plain": [
       "0         29.85\n",
       "1       1889.50\n",
       "2        108.15\n",
       "3       1840.75\n",
       "4        151.65\n",
       "         ...   \n",
       "7038    1990.50\n",
       "7039    7362.90\n",
       "7040     346.45\n",
       "7041     306.60\n",
       "7042    6844.50\n",
       "Name: TotalCharges, Length: 7043, dtype: float64"
      ]
     },
     "execution_count": 10,
     "metadata": {},
     "output_type": "execute_result"
    }
   ],
   "source": [
    "pd.to_numeric(df['TotalCharges'], errors = 'coerce')"
   ]
  },
  {
   "cell_type": "code",
   "execution_count": 11,
   "id": "f638ed56",
   "metadata": {},
   "outputs": [
    {
     "data": {
      "text/html": [
       "<div>\n",
       "<style scoped>\n",
       "    .dataframe tbody tr th:only-of-type {\n",
       "        vertical-align: middle;\n",
       "    }\n",
       "\n",
       "    .dataframe tbody tr th {\n",
       "        vertical-align: top;\n",
       "    }\n",
       "\n",
       "    .dataframe thead th {\n",
       "        text-align: right;\n",
       "    }\n",
       "</style>\n",
       "<table border=\"1\" class=\"dataframe\">\n",
       "  <thead>\n",
       "    <tr style=\"text-align: right;\">\n",
       "      <th></th>\n",
       "      <th>gender</th>\n",
       "      <th>SeniorCitizen</th>\n",
       "      <th>Partner</th>\n",
       "      <th>Dependents</th>\n",
       "      <th>tenure</th>\n",
       "      <th>PhoneService</th>\n",
       "      <th>MultipleLines</th>\n",
       "      <th>InternetService</th>\n",
       "      <th>OnlineSecurity</th>\n",
       "      <th>OnlineBackup</th>\n",
       "      <th>DeviceProtection</th>\n",
       "      <th>TechSupport</th>\n",
       "      <th>StreamingTV</th>\n",
       "      <th>StreamingMovies</th>\n",
       "      <th>Contract</th>\n",
       "      <th>PaperlessBilling</th>\n",
       "      <th>PaymentMethod</th>\n",
       "      <th>MonthlyCharges</th>\n",
       "      <th>TotalCharges</th>\n",
       "      <th>Churn</th>\n",
       "    </tr>\n",
       "  </thead>\n",
       "  <tbody>\n",
       "    <tr>\n",
       "      <th>488</th>\n",
       "      <td>Female</td>\n",
       "      <td>0</td>\n",
       "      <td>Yes</td>\n",
       "      <td>Yes</td>\n",
       "      <td>0</td>\n",
       "      <td>No</td>\n",
       "      <td>No phone service</td>\n",
       "      <td>DSL</td>\n",
       "      <td>Yes</td>\n",
       "      <td>No</td>\n",
       "      <td>Yes</td>\n",
       "      <td>Yes</td>\n",
       "      <td>Yes</td>\n",
       "      <td>No</td>\n",
       "      <td>Two year</td>\n",
       "      <td>Yes</td>\n",
       "      <td>Bank transfer (automatic)</td>\n",
       "      <td>52.55</td>\n",
       "      <td></td>\n",
       "      <td>No</td>\n",
       "    </tr>\n",
       "    <tr>\n",
       "      <th>753</th>\n",
       "      <td>Male</td>\n",
       "      <td>0</td>\n",
       "      <td>No</td>\n",
       "      <td>Yes</td>\n",
       "      <td>0</td>\n",
       "      <td>Yes</td>\n",
       "      <td>No</td>\n",
       "      <td>No</td>\n",
       "      <td>No internet service</td>\n",
       "      <td>No internet service</td>\n",
       "      <td>No internet service</td>\n",
       "      <td>No internet service</td>\n",
       "      <td>No internet service</td>\n",
       "      <td>No internet service</td>\n",
       "      <td>Two year</td>\n",
       "      <td>No</td>\n",
       "      <td>Mailed check</td>\n",
       "      <td>20.25</td>\n",
       "      <td></td>\n",
       "      <td>No</td>\n",
       "    </tr>\n",
       "    <tr>\n",
       "      <th>936</th>\n",
       "      <td>Female</td>\n",
       "      <td>0</td>\n",
       "      <td>Yes</td>\n",
       "      <td>Yes</td>\n",
       "      <td>0</td>\n",
       "      <td>Yes</td>\n",
       "      <td>No</td>\n",
       "      <td>DSL</td>\n",
       "      <td>Yes</td>\n",
       "      <td>Yes</td>\n",
       "      <td>Yes</td>\n",
       "      <td>No</td>\n",
       "      <td>Yes</td>\n",
       "      <td>Yes</td>\n",
       "      <td>Two year</td>\n",
       "      <td>No</td>\n",
       "      <td>Mailed check</td>\n",
       "      <td>80.85</td>\n",
       "      <td></td>\n",
       "      <td>No</td>\n",
       "    </tr>\n",
       "    <tr>\n",
       "      <th>1082</th>\n",
       "      <td>Male</td>\n",
       "      <td>0</td>\n",
       "      <td>Yes</td>\n",
       "      <td>Yes</td>\n",
       "      <td>0</td>\n",
       "      <td>Yes</td>\n",
       "      <td>Yes</td>\n",
       "      <td>No</td>\n",
       "      <td>No internet service</td>\n",
       "      <td>No internet service</td>\n",
       "      <td>No internet service</td>\n",
       "      <td>No internet service</td>\n",
       "      <td>No internet service</td>\n",
       "      <td>No internet service</td>\n",
       "      <td>Two year</td>\n",
       "      <td>No</td>\n",
       "      <td>Mailed check</td>\n",
       "      <td>25.75</td>\n",
       "      <td></td>\n",
       "      <td>No</td>\n",
       "    </tr>\n",
       "    <tr>\n",
       "      <th>1340</th>\n",
       "      <td>Female</td>\n",
       "      <td>0</td>\n",
       "      <td>Yes</td>\n",
       "      <td>Yes</td>\n",
       "      <td>0</td>\n",
       "      <td>No</td>\n",
       "      <td>No phone service</td>\n",
       "      <td>DSL</td>\n",
       "      <td>Yes</td>\n",
       "      <td>Yes</td>\n",
       "      <td>Yes</td>\n",
       "      <td>Yes</td>\n",
       "      <td>Yes</td>\n",
       "      <td>No</td>\n",
       "      <td>Two year</td>\n",
       "      <td>No</td>\n",
       "      <td>Credit card (automatic)</td>\n",
       "      <td>56.05</td>\n",
       "      <td></td>\n",
       "      <td>No</td>\n",
       "    </tr>\n",
       "    <tr>\n",
       "      <th>3331</th>\n",
       "      <td>Male</td>\n",
       "      <td>0</td>\n",
       "      <td>Yes</td>\n",
       "      <td>Yes</td>\n",
       "      <td>0</td>\n",
       "      <td>Yes</td>\n",
       "      <td>No</td>\n",
       "      <td>No</td>\n",
       "      <td>No internet service</td>\n",
       "      <td>No internet service</td>\n",
       "      <td>No internet service</td>\n",
       "      <td>No internet service</td>\n",
       "      <td>No internet service</td>\n",
       "      <td>No internet service</td>\n",
       "      <td>Two year</td>\n",
       "      <td>No</td>\n",
       "      <td>Mailed check</td>\n",
       "      <td>19.85</td>\n",
       "      <td></td>\n",
       "      <td>No</td>\n",
       "    </tr>\n",
       "    <tr>\n",
       "      <th>3826</th>\n",
       "      <td>Male</td>\n",
       "      <td>0</td>\n",
       "      <td>Yes</td>\n",
       "      <td>Yes</td>\n",
       "      <td>0</td>\n",
       "      <td>Yes</td>\n",
       "      <td>Yes</td>\n",
       "      <td>No</td>\n",
       "      <td>No internet service</td>\n",
       "      <td>No internet service</td>\n",
       "      <td>No internet service</td>\n",
       "      <td>No internet service</td>\n",
       "      <td>No internet service</td>\n",
       "      <td>No internet service</td>\n",
       "      <td>Two year</td>\n",
       "      <td>No</td>\n",
       "      <td>Mailed check</td>\n",
       "      <td>25.35</td>\n",
       "      <td></td>\n",
       "      <td>No</td>\n",
       "    </tr>\n",
       "    <tr>\n",
       "      <th>4380</th>\n",
       "      <td>Female</td>\n",
       "      <td>0</td>\n",
       "      <td>Yes</td>\n",
       "      <td>Yes</td>\n",
       "      <td>0</td>\n",
       "      <td>Yes</td>\n",
       "      <td>No</td>\n",
       "      <td>No</td>\n",
       "      <td>No internet service</td>\n",
       "      <td>No internet service</td>\n",
       "      <td>No internet service</td>\n",
       "      <td>No internet service</td>\n",
       "      <td>No internet service</td>\n",
       "      <td>No internet service</td>\n",
       "      <td>Two year</td>\n",
       "      <td>No</td>\n",
       "      <td>Mailed check</td>\n",
       "      <td>20.00</td>\n",
       "      <td></td>\n",
       "      <td>No</td>\n",
       "    </tr>\n",
       "    <tr>\n",
       "      <th>5218</th>\n",
       "      <td>Male</td>\n",
       "      <td>0</td>\n",
       "      <td>Yes</td>\n",
       "      <td>Yes</td>\n",
       "      <td>0</td>\n",
       "      <td>Yes</td>\n",
       "      <td>No</td>\n",
       "      <td>No</td>\n",
       "      <td>No internet service</td>\n",
       "      <td>No internet service</td>\n",
       "      <td>No internet service</td>\n",
       "      <td>No internet service</td>\n",
       "      <td>No internet service</td>\n",
       "      <td>No internet service</td>\n",
       "      <td>One year</td>\n",
       "      <td>Yes</td>\n",
       "      <td>Mailed check</td>\n",
       "      <td>19.70</td>\n",
       "      <td></td>\n",
       "      <td>No</td>\n",
       "    </tr>\n",
       "    <tr>\n",
       "      <th>6670</th>\n",
       "      <td>Female</td>\n",
       "      <td>0</td>\n",
       "      <td>Yes</td>\n",
       "      <td>Yes</td>\n",
       "      <td>0</td>\n",
       "      <td>Yes</td>\n",
       "      <td>Yes</td>\n",
       "      <td>DSL</td>\n",
       "      <td>No</td>\n",
       "      <td>Yes</td>\n",
       "      <td>Yes</td>\n",
       "      <td>Yes</td>\n",
       "      <td>Yes</td>\n",
       "      <td>No</td>\n",
       "      <td>Two year</td>\n",
       "      <td>No</td>\n",
       "      <td>Mailed check</td>\n",
       "      <td>73.35</td>\n",
       "      <td></td>\n",
       "      <td>No</td>\n",
       "    </tr>\n",
       "    <tr>\n",
       "      <th>6754</th>\n",
       "      <td>Male</td>\n",
       "      <td>0</td>\n",
       "      <td>No</td>\n",
       "      <td>Yes</td>\n",
       "      <td>0</td>\n",
       "      <td>Yes</td>\n",
       "      <td>Yes</td>\n",
       "      <td>DSL</td>\n",
       "      <td>Yes</td>\n",
       "      <td>Yes</td>\n",
       "      <td>No</td>\n",
       "      <td>Yes</td>\n",
       "      <td>No</td>\n",
       "      <td>No</td>\n",
       "      <td>Two year</td>\n",
       "      <td>Yes</td>\n",
       "      <td>Bank transfer (automatic)</td>\n",
       "      <td>61.90</td>\n",
       "      <td></td>\n",
       "      <td>No</td>\n",
       "    </tr>\n",
       "  </tbody>\n",
       "</table>\n",
       "</div>"
      ],
      "text/plain": [
       "      gender  SeniorCitizen Partner Dependents  tenure PhoneService  \\\n",
       "488   Female              0     Yes        Yes       0           No   \n",
       "753     Male              0      No        Yes       0          Yes   \n",
       "936   Female              0     Yes        Yes       0          Yes   \n",
       "1082    Male              0     Yes        Yes       0          Yes   \n",
       "1340  Female              0     Yes        Yes       0           No   \n",
       "3331    Male              0     Yes        Yes       0          Yes   \n",
       "3826    Male              0     Yes        Yes       0          Yes   \n",
       "4380  Female              0     Yes        Yes       0          Yes   \n",
       "5218    Male              0     Yes        Yes       0          Yes   \n",
       "6670  Female              0     Yes        Yes       0          Yes   \n",
       "6754    Male              0      No        Yes       0          Yes   \n",
       "\n",
       "         MultipleLines InternetService       OnlineSecurity  \\\n",
       "488   No phone service             DSL                  Yes   \n",
       "753                 No              No  No internet service   \n",
       "936                 No             DSL                  Yes   \n",
       "1082               Yes              No  No internet service   \n",
       "1340  No phone service             DSL                  Yes   \n",
       "3331                No              No  No internet service   \n",
       "3826               Yes              No  No internet service   \n",
       "4380                No              No  No internet service   \n",
       "5218                No              No  No internet service   \n",
       "6670               Yes             DSL                   No   \n",
       "6754               Yes             DSL                  Yes   \n",
       "\n",
       "             OnlineBackup     DeviceProtection          TechSupport  \\\n",
       "488                    No                  Yes                  Yes   \n",
       "753   No internet service  No internet service  No internet service   \n",
       "936                   Yes                  Yes                   No   \n",
       "1082  No internet service  No internet service  No internet service   \n",
       "1340                  Yes                  Yes                  Yes   \n",
       "3331  No internet service  No internet service  No internet service   \n",
       "3826  No internet service  No internet service  No internet service   \n",
       "4380  No internet service  No internet service  No internet service   \n",
       "5218  No internet service  No internet service  No internet service   \n",
       "6670                  Yes                  Yes                  Yes   \n",
       "6754                  Yes                   No                  Yes   \n",
       "\n",
       "              StreamingTV      StreamingMovies  Contract PaperlessBilling  \\\n",
       "488                   Yes                   No  Two year              Yes   \n",
       "753   No internet service  No internet service  Two year               No   \n",
       "936                   Yes                  Yes  Two year               No   \n",
       "1082  No internet service  No internet service  Two year               No   \n",
       "1340                  Yes                   No  Two year               No   \n",
       "3331  No internet service  No internet service  Two year               No   \n",
       "3826  No internet service  No internet service  Two year               No   \n",
       "4380  No internet service  No internet service  Two year               No   \n",
       "5218  No internet service  No internet service  One year              Yes   \n",
       "6670                  Yes                   No  Two year               No   \n",
       "6754                   No                   No  Two year              Yes   \n",
       "\n",
       "                  PaymentMethod  MonthlyCharges TotalCharges Churn  \n",
       "488   Bank transfer (automatic)           52.55                 No  \n",
       "753                Mailed check           20.25                 No  \n",
       "936                Mailed check           80.85                 No  \n",
       "1082               Mailed check           25.75                 No  \n",
       "1340    Credit card (automatic)           56.05                 No  \n",
       "3331               Mailed check           19.85                 No  \n",
       "3826               Mailed check           25.35                 No  \n",
       "4380               Mailed check           20.00                 No  \n",
       "5218               Mailed check           19.70                 No  \n",
       "6670               Mailed check           73.35                 No  \n",
       "6754  Bank transfer (automatic)           61.90                 No  "
      ]
     },
     "execution_count": 11,
     "metadata": {},
     "output_type": "execute_result"
    }
   ],
   "source": [
    "df[pd.to_numeric(df['TotalCharges'], errors = 'coerce').isnull()]"
   ]
  },
  {
   "cell_type": "code",
   "execution_count": 12,
   "id": "0a247f20",
   "metadata": {},
   "outputs": [
    {
     "data": {
      "text/plain": [
       "(7043, 20)"
      ]
     },
     "execution_count": 12,
     "metadata": {},
     "output_type": "execute_result"
    }
   ],
   "source": [
    "df.shape"
   ]
  },
  {
   "cell_type": "code",
   "execution_count": 13,
   "id": "25fe1303",
   "metadata": {},
   "outputs": [],
   "source": [
    "df1 = df[df['TotalCharges'] != ' ']"
   ]
  },
  {
   "cell_type": "code",
   "execution_count": 14,
   "id": "53ce3d12",
   "metadata": {},
   "outputs": [
    {
     "data": {
      "text/plain": [
       "(7032, 20)"
      ]
     },
     "execution_count": 14,
     "metadata": {},
     "output_type": "execute_result"
    }
   ],
   "source": [
    "df1.shape"
   ]
  },
  {
   "cell_type": "code",
   "execution_count": 15,
   "id": "0cd30a0b",
   "metadata": {},
   "outputs": [
    {
     "data": {
      "text/plain": [
       "gender               object\n",
       "SeniorCitizen         int64\n",
       "Partner              object\n",
       "Dependents           object\n",
       "tenure                int64\n",
       "PhoneService         object\n",
       "MultipleLines        object\n",
       "InternetService      object\n",
       "OnlineSecurity       object\n",
       "OnlineBackup         object\n",
       "DeviceProtection     object\n",
       "TechSupport          object\n",
       "StreamingTV          object\n",
       "StreamingMovies      object\n",
       "Contract             object\n",
       "PaperlessBilling     object\n",
       "PaymentMethod        object\n",
       "MonthlyCharges      float64\n",
       "TotalCharges         object\n",
       "Churn                object\n",
       "dtype: object"
      ]
     },
     "execution_count": 15,
     "metadata": {},
     "output_type": "execute_result"
    }
   ],
   "source": [
    "df1.dtypes"
   ]
  },
  {
   "cell_type": "code",
   "execution_count": 16,
   "id": "6b580297",
   "metadata": {},
   "outputs": [
    {
     "name": "stderr",
     "output_type": "stream",
     "text": [
      "C:\\Users\\Appa\\AppData\\Local\\Temp\\ipykernel_24556\\1462773625.py:1: SettingWithCopyWarning: \n",
      "A value is trying to be set on a copy of a slice from a DataFrame.\n",
      "Try using .loc[row_indexer,col_indexer] = value instead\n",
      "\n",
      "See the caveats in the documentation: https://pandas.pydata.org/pandas-docs/stable/user_guide/indexing.html#returning-a-view-versus-a-copy\n",
      "  df1['TotalCharges'] = pd.to_numeric(df1['TotalCharges'])\n"
     ]
    }
   ],
   "source": [
    "df1['TotalCharges'] = pd.to_numeric(df1['TotalCharges'])"
   ]
  },
  {
   "cell_type": "code",
   "execution_count": 17,
   "id": "7cf84d83",
   "metadata": {},
   "outputs": [
    {
     "data": {
      "text/plain": [
       "gender               object\n",
       "SeniorCitizen         int64\n",
       "Partner              object\n",
       "Dependents           object\n",
       "tenure                int64\n",
       "PhoneService         object\n",
       "MultipleLines        object\n",
       "InternetService      object\n",
       "OnlineSecurity       object\n",
       "OnlineBackup         object\n",
       "DeviceProtection     object\n",
       "TechSupport          object\n",
       "StreamingTV          object\n",
       "StreamingMovies      object\n",
       "Contract             object\n",
       "PaperlessBilling     object\n",
       "PaymentMethod        object\n",
       "MonthlyCharges      float64\n",
       "TotalCharges        float64\n",
       "Churn                object\n",
       "dtype: object"
      ]
     },
     "execution_count": 17,
     "metadata": {},
     "output_type": "execute_result"
    }
   ],
   "source": [
    "df1.dtypes"
   ]
  },
  {
   "cell_type": "code",
   "execution_count": null,
   "id": "ca581be5",
   "metadata": {},
   "outputs": [],
   "source": []
  },
  {
   "cell_type": "markdown",
   "id": "a9a7fc26",
   "metadata": {},
   "source": [
    "### Customer Churn with respect to Gender"
   ]
  },
  {
   "cell_type": "code",
   "execution_count": 18,
   "id": "87bc520f",
   "metadata": {},
   "outputs": [
    {
     "data": {
      "text/plain": [
       "array(['Female', 'Male'], dtype=object)"
      ]
     },
     "execution_count": 18,
     "metadata": {},
     "output_type": "execute_result"
    }
   ],
   "source": [
    "df1.gender.unique()"
   ]
  },
  {
   "cell_type": "code",
   "execution_count": 19,
   "id": "a1370719",
   "metadata": {},
   "outputs": [
    {
     "data": {
      "text/plain": [
       "<matplotlib.legend.Legend at 0x260a34ddbe0>"
      ]
     },
     "execution_count": 19,
     "metadata": {},
     "output_type": "execute_result"
    },
    {
     "data": {
      "image/png": "[encoded data removed]",
      "text/plain": [
       "<Figure size 1080x720 with 1 Axes>"
      ]
     },
     "metadata": {
      "needs_background": "light"
     },
     "output_type": "display_data"
    }
   ],
   "source": [
    "gender_churn_no = df1[df1.Churn == 'No'].gender\n",
    "gender_churn_yes = df1[df1.Churn == 'Yes'].gender\n",
    "\n",
    "plt.figure(figsize=(15,10))\n",
    "plt.xlabel('Gender')\n",
    "plt.ylabel('Number of Customers')\n",
    "plt.title('Customer Churn vs. Gender')\n",
    "plt.hist([gender_churn_yes, gender_churn_no], color = ['green', 'red'], label = ['Churn = Yes', 'Churn = No'])\n",
    "plt.legend()"
   ]
  },
  {
   "cell_type": "markdown",
   "id": "48bf1483",
   "metadata": {},
   "source": [
    "### Results:\n",
    "    1. We can identify that there is no variation in Customer Churn with respect to gender."
   ]
  },
  {
   "cell_type": "markdown",
   "id": "87721fe9",
   "metadata": {},
   "source": [
    "### Customer Churn with respect to Customer Tenure"
   ]
  },
  {
   "cell_type": "code",
   "execution_count": 20,
   "id": "9b6f4149",
   "metadata": {},
   "outputs": [
    {
     "data": {
      "text/plain": [
       "array([ 1, 34,  2, 45,  8, 22, 10, 28, 62, 13, 16, 58, 49, 25, 69, 52, 71,\n",
       "       21, 12, 30, 47, 72, 17, 27,  5, 46, 11, 70, 63, 43, 15, 60, 18, 66,\n",
       "        9,  3, 31, 50, 64, 56,  7, 42, 35, 48, 29, 65, 38, 68, 32, 55, 37,\n",
       "       36, 41,  6,  4, 33, 67, 23, 57, 61, 14, 20, 53, 40, 59, 24, 44, 19,\n",
       "       54, 51, 26, 39], dtype=int64)"
      ]
     },
     "execution_count": 20,
     "metadata": {},
     "output_type": "execute_result"
    }
   ],
   "source": [
    "df1.tenure.unique()"
   ]
  },
  {
   "cell_type": "code",
   "execution_count": 21,
   "id": "ccc511db",
   "metadata": {},
   "outputs": [
    {
     "data": {
      "text/plain": [
       "<matplotlib.legend.Legend at 0x260a5d692b0>"
      ]
     },
     "execution_count": 21,
     "metadata": {},
     "output_type": "execute_result"
    },
    {
     "data": {
      "image/png": "[encoded data removed]",
      "text/plain": [
       "<Figure size 1080x720 with 1 Axes>"
      ]
     },
     "metadata": {
      "needs_background": "light"
     },
     "output_type": "display_data"
    }
   ],
   "source": [
    "tenure_churn_no = df1[df1.Churn == 'No'].tenure\n",
    "tenure_churn_yes = df1[df1.Churn == 'Yes'].tenure\n",
    "\n",
    "plt.figure(figsize=(15,10))\n",
    "plt.xlabel('Tenure')\n",
    "plt.ylabel('Number of Customers')\n",
    "plt.title('Customer Churn vs. Tenure')\n",
    "plt.hist([tenure_churn_yes, tenure_churn_no], color = ['green', 'red'], label = ['Churn = Yes', 'Churn = No'])\n",
    "plt.legend()"
   ]
  },
  {
   "cell_type": "markdown",
   "id": "32708cdf",
   "metadata": {},
   "source": [
    "### Results\n",
    "    1. Tenure measures the sense of loyalty of the customers to the brand.\n",
    "    2. As expected those whom's customer churn status is Yes decreases with increase in loyalty.\n",
    "    3. An effective strategy to reduce customer churn would be to increase the average tenure of onboarded customers."
   ]
  },
  {
   "cell_type": "markdown",
   "id": "f23e2b9b",
   "metadata": {},
   "source": [
    "### Customer Churn with respect to Monthly Charges"
   ]
  },
  {
   "cell_type": "code",
   "execution_count": 22,
   "id": "8b433b04",
   "metadata": {},
   "outputs": [
    {
     "data": {
      "text/plain": [
       "array([29.85, 56.95, 53.85, ..., 63.1 , 44.2 , 78.7 ])"
      ]
     },
     "execution_count": 22,
     "metadata": {},
     "output_type": "execute_result"
    }
   ],
   "source": [
    "df1['MonthlyCharges'].unique()"
   ]
  },
  {
   "cell_type": "code",
   "execution_count": 23,
   "id": "f9c57e99",
   "metadata": {},
   "outputs": [
    {
     "data": {
      "text/plain": [
       "<matplotlib.legend.Legend at 0x260a584e6a0>"
      ]
     },
     "execution_count": 23,
     "metadata": {},
     "output_type": "execute_result"
    },
    {
     "data": {
      "image/png": "[encoded data removed]",
      "text/plain": [
       "<Figure size 1080x720 with 1 Axes>"
      ]
     },
     "metadata": {
      "needs_background": "light"
     },
     "output_type": "display_data"
    }
   ],
   "source": [
    "mc_churn_no = df1[df1.Churn == 'No'].MonthlyCharges\n",
    "mc_churn_yes = df1[df1.Churn == 'Yes'].MonthlyCharges\n",
    "\n",
    "plt.figure(figsize=(15,10))\n",
    "plt.xlabel('MonthlyCharges')\n",
    "plt.ylabel('Number of Customers')\n",
    "plt.title('Customer Churn vs. MonthlyCharges')\n",
    "plt.hist([mc_churn_yes, mc_churn_no], color = ['green', 'red'], label = ['Churn = Yes', 'Churn = No'])\n",
    "plt.legend()"
   ]
  },
  {
   "cell_type": "markdown",
   "id": "b72f44e4",
   "metadata": {},
   "source": [
    "### Results\n",
    "    1. The initial results are as expected, Customer Churn increase with an increase in monthly charges.\n",
    "    2. However after the charge of Rs. 80 per month, the churn begins to decrease.\n",
    "    3. A few reasons behind this decrease are that customers are enjoying their services that they receive from the telecom company and are choosing these high end service plans which effectively wants them to continue with these."
   ]
  },
  {
   "cell_type": "markdown",
   "id": "0ff25ffa",
   "metadata": {},
   "source": [
    "### Customer Churn with respect to Method of Payment"
   ]
  },
  {
   "cell_type": "code",
   "execution_count": 24,
   "id": "2aba064c",
   "metadata": {},
   "outputs": [
    {
     "data": {
      "text/plain": [
       "array(['Electronic check', 'Mailed check', 'Bank transfer (automatic)',\n",
       "       'Credit card (automatic)'], dtype=object)"
      ]
     },
     "execution_count": 24,
     "metadata": {},
     "output_type": "execute_result"
    }
   ],
   "source": [
    "df1.PaymentMethod.unique()"
   ]
  },
  {
   "cell_type": "code",
   "execution_count": 25,
   "id": "e081533a",
   "metadata": {},
   "outputs": [
    {
     "data": {
      "text/plain": [
       "<matplotlib.legend.Legend at 0x260a5b84d90>"
      ]
     },
     "execution_count": 25,
     "metadata": {},
     "output_type": "execute_result"
    },
    {
     "data": {
      "image/png": "[encoded data removed]",
      "text/plain": [
       "<Figure size 1080x720 with 1 Axes>"
      ]
     },
     "metadata": {
      "needs_background": "light"
     },
     "output_type": "display_data"
    }
   ],
   "source": [
    "pm_churn_no = df1[df1.Churn == 'No'].PaymentMethod\n",
    "pm_churn_yes = df1[df1.Churn == 'Yes'].PaymentMethod\n",
    "\n",
    "plt.figure(figsize=(15,10))\n",
    "plt.xlabel('PaymentMethod')\n",
    "plt.ylabel('Number of Customers')\n",
    "plt.title('Customer Churn vs. PaymentMethod')\n",
    "plt.hist([pm_churn_yes, pm_churn_no], color = ['green', 'red'], label = ['Churn = Yes', 'Churn = No'])\n",
    "plt.legend()"
   ]
  },
  {
   "cell_type": "markdown",
   "id": "2bd3e3a9",
   "metadata": {},
   "source": [
    "### Results\n",
    "    1. From the chart we can identify that the churn is highest for those who pay through Electronic Checks (Non automatic payments) and the churn is lowest for those who pay through Credit Card (Automatic payments).\n",
    "    2. Although E-checks are much more safer than Mailed Paper Checks, they take a longer duration to process, which might be the reason why customers aren't preferring E-checks because they want their transmission to be rapid so they receive their service again.\n",
    "    3. For the customers who stay onboard with the company (Churn = No), all methods of payments are equally preferred. "
   ]
  },
  {
   "cell_type": "markdown",
   "id": "38fb50e4",
   "metadata": {},
   "source": [
    "### Customer Churn with respect to Medium of Billing (Paper or Electronic)"
   ]
  },
  {
   "cell_type": "code",
   "execution_count": 26,
   "id": "c04e28b0",
   "metadata": {},
   "outputs": [
    {
     "data": {
      "text/plain": [
       "<matplotlib.legend.Legend at 0x260a5c15580>"
      ]
     },
     "execution_count": 26,
     "metadata": {},
     "output_type": "execute_result"
    },
    {
     "data": {
      "image/png": "[encoded data removed]",
      "text/plain": [
       "<Figure size 1080x720 with 1 Axes>"
      ]
     },
     "metadata": {
      "needs_background": "light"
     },
     "output_type": "display_data"
    }
   ],
   "source": [
    "pb_churn_no = df1[df1.Churn == 'No'].PaperlessBilling\n",
    "pb_churn_yes = df1[df1.Churn == 'Yes'].PaperlessBilling\n",
    "\n",
    "plt.figure(figsize=(15,10))\n",
    "plt.xlabel('Paperless Billing')\n",
    "plt.ylabel('Number of Customers')\n",
    "plt.title('Customer Churn vs. Paperless Billing')\n",
    "plt.hist([pb_churn_yes, pb_churn_no], color = ['green', 'red'], label = ['Churn = Yes', 'Churn = No'])\n",
    "plt.legend()"
   ]
  },
  {
   "cell_type": "markdown",
   "id": "8ae1f576",
   "metadata": {},
   "source": [
    "### Results\n",
    "    1. We can see that Churn is higher when the customers are asking to pay their bills using paper cash rather than electronic payment methods."
   ]
  },
  {
   "cell_type": "markdown",
   "id": "f15b94c0",
   "metadata": {},
   "source": [
    "### Customer Churn with respect to Type of Internet Service"
   ]
  },
  {
   "cell_type": "code",
   "execution_count": 27,
   "id": "4e8df46d",
   "metadata": {},
   "outputs": [
    {
     "data": {
      "text/plain": [
       "<matplotlib.legend.Legend at 0x260a5c95bb0>"
      ]
     },
     "execution_count": 27,
     "metadata": {},
     "output_type": "execute_result"
    },
    {
     "data": {
      "image/png": "[encoded data removed]",
      "text/plain": [
       "<Figure size 1080x720 with 1 Axes>"
      ]
     },
     "metadata": {
      "needs_background": "light"
     },
     "output_type": "display_data"
    }
   ],
   "source": [
    "is_churn_no = df1[df1.Churn == 'No'].InternetService\n",
    "is_churn_yes = df1[df1.Churn == 'Yes'].InternetService\n",
    "\n",
    "plt.figure(figsize=(15,10))\n",
    "plt.xlabel('Internet Service')\n",
    "plt.ylabel('Number of Customers')\n",
    "plt.title('Customer Churn vs. Internet Service')\n",
    "plt.hist([is_churn_yes, is_churn_no], color = ['green', 'red'], label = ['Churn = Yes', 'Churn = No'])\n",
    "plt.legend()"
   ]
  },
  {
   "cell_type": "markdown",
   "id": "e2b3f396",
   "metadata": {},
   "source": [
    "### Results:\n",
    "    1. Customer Churn is highest for Fiber Optic Internet Service and lowest for those with no internet (If their bills are paid in person everytime, this could be a routine factor or our telecom service could be the closest and fastest in their localities).  \n",
    "    2. There are three cases for Fiber Optic services.  \n",
    "        i. Case one: The service provider is our telecom company similar to Reliance Jio and Airtel, in which case we have to enhance our services provided.  \n",
    "        ii. Case two: The service provider is a third party and our company does provide such services means we need to convert our telecom customers into using our fiber optic services.  \n",
    "        iii. Case three: The service provider is a third party and our company does not provide such services in which case we  enter the optic fiber internet market and convert the customer churn to customers retained.  "
   ]
  },
  {
   "cell_type": "markdown",
   "id": "197fedb3",
   "metadata": {},
   "source": [
    "### Customer Churn with respect to Contract type"
   ]
  },
  {
   "cell_type": "code",
   "execution_count": 28,
   "id": "962a3b90",
   "metadata": {},
   "outputs": [
    {
     "data": {
      "text/plain": [
       "<matplotlib.legend.Legend at 0x260a5fb7a90>"
      ]
     },
     "execution_count": 28,
     "metadata": {},
     "output_type": "execute_result"
    },
    {
     "data": {
      "image/png": "[encoded data removed]",
      "text/plain": [
       "<Figure size 1080x720 with 1 Axes>"
      ]
     },
     "metadata": {
      "needs_background": "light"
     },
     "output_type": "display_data"
    }
   ],
   "source": [
    "contract_churn_no = df1[df1.Churn == 'No'].Contract\n",
    "contract_churn_yes = df1[df1.Churn == 'Yes'].Contract\n",
    "\n",
    "plt.figure(figsize=(15,10))\n",
    "plt.xlabel('Contract')\n",
    "plt.ylabel('Number of Customers')\n",
    "plt.title('Customer Churn vs. Contract')\n",
    "plt.hist([contract_churn_yes, contract_churn_no], color = ['green', 'red'], label = ['Churn = Yes', 'Churn = No'])\n",
    "plt.legend()"
   ]
  },
  {
   "cell_type": "markdown",
   "id": "0c7a837b",
   "metadata": {},
   "source": [
    "### Results\n",
    "    1. We can see that Month-to-Month contracts have the highest customer churn rates and this decrease as the contract duration increases. "
   ]
  },
  {
   "cell_type": "code",
   "execution_count": 29,
   "id": "1a8a501e",
   "metadata": {},
   "outputs": [
    {
     "data": {
      "text/plain": [
       "<AxesSubplot:title={'center':'Parter availability, Gender vs. Tenure'}, xlabel='Partner', ylabel='tenure'>"
      ]
     },
     "execution_count": 29,
     "metadata": {},
     "output_type": "execute_result"
    },
    {
     "data": {
      "image/png": "[encoded data removed]",
      "text/plain": [
       "<Figure size 1080x720 with 1 Axes>"
      ]
     },
     "metadata": {
      "needs_background": "light"
     },
     "output_type": "display_data"
    }
   ],
   "source": [
    "plt.figure(figsize=(15,10))\n",
    "plt.xlabel('Partner')\n",
    "plt.ylabel('Tenure')\n",
    "plt.title('Parter availability, Gender vs. Tenure')\n",
    "sns.boxplot(x = 'Partner', y = 'tenure', data = df1, hue = 'gender')"
   ]
  },
  {
   "cell_type": "markdown",
   "id": "0c89ef8e",
   "metadata": {},
   "source": [
    "### Results:\n",
    "    1. If the customer has a partner they're likely to stay with the telecom company longer, meaning the company should focus their campaigns towards married/in-relationship customers for maximum effectiveness."
   ]
  },
  {
   "cell_type": "code",
   "execution_count": 30,
   "id": "1ae23c41",
   "metadata": {},
   "outputs": [
    {
     "data": {
      "text/plain": [
       "<AxesSubplot:title={'center':'Monthly Charges vs. Tenure'}, xlabel='Tenure', ylabel='Monthly Charges'>"
      ]
     },
     "execution_count": 30,
     "metadata": {},
     "output_type": "execute_result"
    },
    {
     "data": {
      "image/png": "[encoded data removed]",
      "text/plain": [
       "<Figure size 1080x720 with 1 Axes>"
      ]
     },
     "metadata": {
      "needs_background": "light"
     },
     "output_type": "display_data"
    }
   ],
   "source": [
    "plt.figure(figsize=(15,10))\n",
    "plt.xlabel('Tenure')\n",
    "plt.ylabel('Monthly Charges')\n",
    "plt.title('Monthly Charges vs. Tenure')\n",
    "sns.lineplot(x = 'tenure', y = 'MonthlyCharges', data = df1, hue = 'SeniorCitizen')"
   ]
  },
  {
   "cell_type": "markdown",
   "id": "a7689de5",
   "metadata": {},
   "source": [
    "### Results:\n",
    "    1. Monthly Charges gradually increase over time the customer's tenure increases with the company for the younger population but the monthly charges are saturated for seniors citizens.\n",
    "    2. It is also noted that the senior citizens are willing to pay more monthly charges as compared to the younger population."
   ]
  },
  {
   "cell_type": "markdown",
   "id": "46eaadd6",
   "metadata": {},
   "source": [
    "## Label Encoding"
   ]
  },
  {
   "cell_type": "code",
   "execution_count": 31,
   "id": "8cd41980",
   "metadata": {},
   "outputs": [],
   "source": [
    "def print_unique_col_values(df1):\n",
    "    for column in df1:\n",
    "        if df1[column].dtypes == 'object':\n",
    "            print(f'{column}: {df1[column].unique()}')"
   ]
  },
  {
   "cell_type": "code",
   "execution_count": 32,
   "id": "ed2c9a52",
   "metadata": {},
   "outputs": [
    {
     "name": "stdout",
     "output_type": "stream",
     "text": [
      "gender: ['Female' 'Male']\n",
      "Partner: ['Yes' 'No']\n",
      "Dependents: ['No' 'Yes']\n",
      "PhoneService: ['No' 'Yes']\n",
      "MultipleLines: ['No phone service' 'No' 'Yes']\n",
      "InternetService: ['DSL' 'Fiber optic' 'No']\n",
      "OnlineSecurity: ['No' 'Yes' 'No internet service']\n",
      "OnlineBackup: ['Yes' 'No' 'No internet service']\n",
      "DeviceProtection: ['No' 'Yes' 'No internet service']\n",
      "TechSupport: ['No' 'Yes' 'No internet service']\n",
      "StreamingTV: ['No' 'Yes' 'No internet service']\n",
      "StreamingMovies: ['No' 'Yes' 'No internet service']\n",
      "Contract: ['Month-to-month' 'One year' 'Two year']\n",
      "PaperlessBilling: ['Yes' 'No']\n",
      "PaymentMethod: ['Electronic check' 'Mailed check' 'Bank transfer (automatic)'\n",
      " 'Credit card (automatic)']\n",
      "Churn: ['No' 'Yes']\n"
     ]
    }
   ],
   "source": [
    "print_unique_col_values(df1)"
   ]
  },
  {
   "cell_type": "code",
   "execution_count": 33,
   "id": "2aa7ccb3",
   "metadata": {},
   "outputs": [
    {
     "name": "stderr",
     "output_type": "stream",
     "text": [
      "C:\\Users\\Appa\\AppData\\Local\\Temp\\ipykernel_24556\\4245438437.py:1: SettingWithCopyWarning: \n",
      "A value is trying to be set on a copy of a slice from a DataFrame\n",
      "\n",
      "See the caveats in the documentation: https://pandas.pydata.org/pandas-docs/stable/user_guide/indexing.html#returning-a-view-versus-a-copy\n",
      "  df1.replace('No internet service', 'No', inplace=True)\n",
      "C:\\Users\\Appa\\AppData\\Local\\Temp\\ipykernel_24556\\4245438437.py:2: SettingWithCopyWarning: \n",
      "A value is trying to be set on a copy of a slice from a DataFrame\n",
      "\n",
      "See the caveats in the documentation: https://pandas.pydata.org/pandas-docs/stable/user_guide/indexing.html#returning-a-view-versus-a-copy\n",
      "  df1.replace('No phone service', 'No', inplace=True)\n"
     ]
    }
   ],
   "source": [
    "df1.replace('No internet service', 'No', inplace=True)\n",
    "df1.replace('No phone service', 'No', inplace=True)"
   ]
  },
  {
   "cell_type": "code",
   "execution_count": 34,
   "id": "cc231e60",
   "metadata": {},
   "outputs": [
    {
     "name": "stdout",
     "output_type": "stream",
     "text": [
      "gender: ['Female' 'Male']\n",
      "Partner: ['Yes' 'No']\n",
      "Dependents: ['No' 'Yes']\n",
      "PhoneService: ['No' 'Yes']\n",
      "MultipleLines: ['No' 'Yes']\n",
      "InternetService: ['DSL' 'Fiber optic' 'No']\n",
      "OnlineSecurity: ['No' 'Yes']\n",
      "OnlineBackup: ['Yes' 'No']\n",
      "DeviceProtection: ['No' 'Yes']\n",
      "TechSupport: ['No' 'Yes']\n",
      "StreamingTV: ['No' 'Yes']\n",
      "StreamingMovies: ['No' 'Yes']\n",
      "Contract: ['Month-to-month' 'One year' 'Two year']\n",
      "PaperlessBilling: ['Yes' 'No']\n",
      "PaymentMethod: ['Electronic check' 'Mailed check' 'Bank transfer (automatic)'\n",
      " 'Credit card (automatic)']\n",
      "Churn: ['No' 'Yes']\n"
     ]
    }
   ],
   "source": [
    "print_unique_col_values(df1)"
   ]
  },
  {
   "cell_type": "code",
   "execution_count": 35,
   "id": "a7bf2bd2",
   "metadata": {},
   "outputs": [
    {
     "name": "stderr",
     "output_type": "stream",
     "text": [
      "C:\\Users\\Appa\\AppData\\Local\\Temp\\ipykernel_24556\\810064644.py:3: SettingWithCopyWarning: \n",
      "A value is trying to be set on a copy of a slice from a DataFrame\n",
      "\n",
      "See the caveats in the documentation: https://pandas.pydata.org/pandas-docs/stable/user_guide/indexing.html#returning-a-view-versus-a-copy\n",
      "  df1[col].replace({'Yes': 1, 'No': 0}, inplace=True)\n"
     ]
    }
   ],
   "source": [
    "yes_no_columns = {'Partner', 'Dependents', 'PhoneService', 'MultipleLines', 'OnlineSecurity', 'OnlineBackup', 'DeviceProtection', 'TechSupport', 'StreamingTV', 'StreamingMovies', 'PaperlessBilling', 'Churn'}\n",
    "for col in yes_no_columns:\n",
    "    df1[col].replace({'Yes': 1, 'No': 0}, inplace=True)"
   ]
  },
  {
   "cell_type": "code",
   "execution_count": 36,
   "id": "c43f8f09",
   "metadata": {},
   "outputs": [
    {
     "name": "stdout",
     "output_type": "stream",
     "text": [
      "gender: ['Female' 'Male']\n",
      "SeniorCitizen: [0 1]\n",
      "Partner: [1 0]\n",
      "Dependents: [0 1]\n",
      "tenure: [ 1 34  2 45  8 22 10 28 62 13 16 58 49 25 69 52 71 21 12 30 47 72 17 27\n",
      "  5 46 11 70 63 43 15 60 18 66  9  3 31 50 64 56  7 42 35 48 29 65 38 68\n",
      " 32 55 37 36 41  6  4 33 67 23 57 61 14 20 53 40 59 24 44 19 54 51 26 39]\n",
      "PhoneService: [0 1]\n",
      "MultipleLines: [0 1]\n",
      "InternetService: ['DSL' 'Fiber optic' 'No']\n",
      "OnlineSecurity: [0 1]\n",
      "OnlineBackup: [1 0]\n",
      "DeviceProtection: [0 1]\n",
      "TechSupport: [0 1]\n",
      "StreamingTV: [0 1]\n",
      "StreamingMovies: [0 1]\n",
      "Contract: ['Month-to-month' 'One year' 'Two year']\n",
      "PaperlessBilling: [1 0]\n",
      "PaymentMethod: ['Electronic check' 'Mailed check' 'Bank transfer (automatic)'\n",
      " 'Credit card (automatic)']\n",
      "MonthlyCharges: [29.85 56.95 53.85 ... 63.1  44.2  78.7 ]\n",
      "TotalCharges: [  29.85 1889.5   108.15 ...  346.45  306.6  6844.5 ]\n",
      "Churn: [0 1]\n"
     ]
    }
   ],
   "source": [
    "for col in df1:\n",
    "    print(f'{col}: {df1[col].unique()}')"
   ]
  },
  {
   "cell_type": "code",
   "execution_count": 37,
   "id": "5e9244a6",
   "metadata": {},
   "outputs": [
    {
     "name": "stderr",
     "output_type": "stream",
     "text": [
      "C:\\Users\\Appa\\AppData\\Local\\Temp\\ipykernel_24556\\822800750.py:1: SettingWithCopyWarning: \n",
      "A value is trying to be set on a copy of a slice from a DataFrame\n",
      "\n",
      "See the caveats in the documentation: https://pandas.pydata.org/pandas-docs/stable/user_guide/indexing.html#returning-a-view-versus-a-copy\n",
      "  df1['gender'].replace({'Male': 0, 'Female': 1}, inplace=True)\n"
     ]
    }
   ],
   "source": [
    "df1['gender'].replace({'Male': 0, 'Female': 1}, inplace=True)"
   ]
  },
  {
   "cell_type": "code",
   "execution_count": 38,
   "id": "efa87fde",
   "metadata": {},
   "outputs": [
    {
     "data": {
      "text/plain": [
       "array([1, 0], dtype=int64)"
      ]
     },
     "execution_count": 38,
     "metadata": {},
     "output_type": "execute_result"
    }
   ],
   "source": [
    "df1['gender'].unique()"
   ]
  },
  {
   "cell_type": "code",
   "execution_count": 39,
   "id": "e7f3d9fc",
   "metadata": {},
   "outputs": [
    {
     "data": {
      "text/plain": [
       "<AxesSubplot:>"
      ]
     },
     "execution_count": 39,
     "metadata": {},
     "output_type": "execute_result"
    },
    {
     "data": {
      "image/png": "[encoded data removed]",
      "text/plain": [
       "<Figure size 1080x720 with 2 Axes>"
      ]
     },
     "metadata": {
      "needs_background": "light"
     },
     "output_type": "display_data"
    }
   ],
   "source": [
    "plt.figure(figsize=(15,10))\n",
    "df1_corr = df1.corr()\n",
    "\n",
    "sns.heatmap(df1_corr, annot=True, cmap = 'Blues')"
   ]
  },
  {
   "cell_type": "code",
   "execution_count": 40,
   "id": "832970c1",
   "metadata": {},
   "outputs": [
    {
     "data": {
      "text/plain": [
       "Index(['gender', 'SeniorCitizen', 'Partner', 'Dependents', 'tenure',\n",
       "       'PhoneService', 'MultipleLines', 'OnlineSecurity', 'OnlineBackup',\n",
       "       'DeviceProtection', 'TechSupport', 'StreamingTV', 'StreamingMovies',\n",
       "       'PaperlessBilling', 'MonthlyCharges', 'TotalCharges', 'Churn',\n",
       "       'InternetService_DSL', 'InternetService_Fiber optic',\n",
       "       'InternetService_No', 'Contract_Month-to-month', 'Contract_One year',\n",
       "       'Contract_Two year', 'PaymentMethod_Bank transfer (automatic)',\n",
       "       'PaymentMethod_Credit card (automatic)',\n",
       "       'PaymentMethod_Electronic check', 'PaymentMethod_Mailed check'],\n",
       "      dtype='object')"
      ]
     },
     "execution_count": 40,
     "metadata": {},
     "output_type": "execute_result"
    }
   ],
   "source": [
    "df2 = pd.get_dummies(data=df1, columns=['InternetService', 'Contract', 'PaymentMethod'])\n",
    "df2.columns"
   ]
  },
  {
   "cell_type": "code",
   "execution_count": 41,
   "id": "e5ebfc8a",
   "metadata": {},
   "outputs": [
    {
     "data": {
      "text/html": [
       "<div>\n",
       "<style scoped>\n",
       "    .dataframe tbody tr th:only-of-type {\n",
       "        vertical-align: middle;\n",
       "    }\n",
       "\n",
       "    .dataframe tbody tr th {\n",
       "        vertical-align: top;\n",
       "    }\n",
       "\n",
       "    .dataframe thead th {\n",
       "        text-align: right;\n",
       "    }\n",
       "</style>\n",
       "<table border=\"1\" class=\"dataframe\">\n",
       "  <thead>\n",
       "    <tr style=\"text-align: right;\">\n",
       "      <th></th>\n",
       "      <th>gender</th>\n",
       "      <th>SeniorCitizen</th>\n",
       "      <th>Partner</th>\n",
       "      <th>Dependents</th>\n",
       "      <th>tenure</th>\n",
       "      <th>PhoneService</th>\n",
       "      <th>MultipleLines</th>\n",
       "      <th>OnlineSecurity</th>\n",
       "      <th>OnlineBackup</th>\n",
       "      <th>DeviceProtection</th>\n",
       "      <th>...</th>\n",
       "      <th>InternetService_DSL</th>\n",
       "      <th>InternetService_Fiber optic</th>\n",
       "      <th>InternetService_No</th>\n",
       "      <th>Contract_Month-to-month</th>\n",
       "      <th>Contract_One year</th>\n",
       "      <th>Contract_Two year</th>\n",
       "      <th>PaymentMethod_Bank transfer (automatic)</th>\n",
       "      <th>PaymentMethod_Credit card (automatic)</th>\n",
       "      <th>PaymentMethod_Electronic check</th>\n",
       "      <th>PaymentMethod_Mailed check</th>\n",
       "    </tr>\n",
       "  </thead>\n",
       "  <tbody>\n",
       "    <tr>\n",
       "      <th>0</th>\n",
       "      <td>1</td>\n",
       "      <td>0</td>\n",
       "      <td>1</td>\n",
       "      <td>0</td>\n",
       "      <td>1</td>\n",
       "      <td>0</td>\n",
       "      <td>0</td>\n",
       "      <td>0</td>\n",
       "      <td>1</td>\n",
       "      <td>0</td>\n",
       "      <td>...</td>\n",
       "      <td>1</td>\n",
       "      <td>0</td>\n",
       "      <td>0</td>\n",
       "      <td>1</td>\n",
       "      <td>0</td>\n",
       "      <td>0</td>\n",
       "      <td>0</td>\n",
       "      <td>0</td>\n",
       "      <td>1</td>\n",
       "      <td>0</td>\n",
       "    </tr>\n",
       "    <tr>\n",
       "      <th>1</th>\n",
       "      <td>0</td>\n",
       "      <td>0</td>\n",
       "      <td>0</td>\n",
       "      <td>0</td>\n",
       "      <td>34</td>\n",
       "      <td>1</td>\n",
       "      <td>0</td>\n",
       "      <td>1</td>\n",
       "      <td>0</td>\n",
       "      <td>1</td>\n",
       "      <td>...</td>\n",
       "      <td>1</td>\n",
       "      <td>0</td>\n",
       "      <td>0</td>\n",
       "      <td>0</td>\n",
       "      <td>1</td>\n",
       "      <td>0</td>\n",
       "      <td>0</td>\n",
       "      <td>0</td>\n",
       "      <td>0</td>\n",
       "      <td>1</td>\n",
       "    </tr>\n",
       "    <tr>\n",
       "      <th>2</th>\n",
       "      <td>0</td>\n",
       "      <td>0</td>\n",
       "      <td>0</td>\n",
       "      <td>0</td>\n",
       "      <td>2</td>\n",
       "      <td>1</td>\n",
       "      <td>0</td>\n",
       "      <td>1</td>\n",
       "      <td>1</td>\n",
       "      <td>0</td>\n",
       "      <td>...</td>\n",
       "      <td>1</td>\n",
       "      <td>0</td>\n",
       "      <td>0</td>\n",
       "      <td>1</td>\n",
       "      <td>0</td>\n",
       "      <td>0</td>\n",
       "      <td>0</td>\n",
       "      <td>0</td>\n",
       "      <td>0</td>\n",
       "      <td>1</td>\n",
       "    </tr>\n",
       "    <tr>\n",
       "      <th>3</th>\n",
       "      <td>0</td>\n",
       "      <td>0</td>\n",
       "      <td>0</td>\n",
       "      <td>0</td>\n",
       "      <td>45</td>\n",
       "      <td>0</td>\n",
       "      <td>0</td>\n",
       "      <td>1</td>\n",
       "      <td>0</td>\n",
       "      <td>1</td>\n",
       "      <td>...</td>\n",
       "      <td>1</td>\n",
       "      <td>0</td>\n",
       "      <td>0</td>\n",
       "      <td>0</td>\n",
       "      <td>1</td>\n",
       "      <td>0</td>\n",
       "      <td>1</td>\n",
       "      <td>0</td>\n",
       "      <td>0</td>\n",
       "      <td>0</td>\n",
       "    </tr>\n",
       "    <tr>\n",
       "      <th>4</th>\n",
       "      <td>1</td>\n",
       "      <td>0</td>\n",
       "      <td>0</td>\n",
       "      <td>0</td>\n",
       "      <td>2</td>\n",
       "      <td>1</td>\n",
       "      <td>0</td>\n",
       "      <td>0</td>\n",
       "      <td>0</td>\n",
       "      <td>0</td>\n",
       "      <td>...</td>\n",
       "      <td>0</td>\n",
       "      <td>1</td>\n",
       "      <td>0</td>\n",
       "      <td>1</td>\n",
       "      <td>0</td>\n",
       "      <td>0</td>\n",
       "      <td>0</td>\n",
       "      <td>0</td>\n",
       "      <td>1</td>\n",
       "      <td>0</td>\n",
       "    </tr>\n",
       "  </tbody>\n",
       "</table>\n",
       "<p>5 rows × 27 columns</p>\n",
       "</div>"
      ],
      "text/plain": [
       "   gender  SeniorCitizen  Partner  Dependents  tenure  PhoneService  \\\n",
       "0       1              0        1           0       1             0   \n",
       "1       0              0        0           0      34             1   \n",
       "2       0              0        0           0       2             1   \n",
       "3       0              0        0           0      45             0   \n",
       "4       1              0        0           0       2             1   \n",
       "\n",
       "   MultipleLines  OnlineSecurity  OnlineBackup  DeviceProtection  ...  \\\n",
       "0              0               0             1                 0  ...   \n",
       "1              0               1             0                 1  ...   \n",
       "2              0               1             1                 0  ...   \n",
       "3              0               1             0                 1  ...   \n",
       "4              0               0             0                 0  ...   \n",
       "\n",
       "   InternetService_DSL  InternetService_Fiber optic  InternetService_No  \\\n",
       "0                    1                            0                   0   \n",
       "1                    1                            0                   0   \n",
       "2                    1                            0                   0   \n",
       "3                    1                            0                   0   \n",
       "4                    0                            1                   0   \n",
       "\n",
       "   Contract_Month-to-month  Contract_One year  Contract_Two year  \\\n",
       "0                        1                  0                  0   \n",
       "1                        0                  1                  0   \n",
       "2                        1                  0                  0   \n",
       "3                        0                  1                  0   \n",
       "4                        1                  0                  0   \n",
       "\n",
       "   PaymentMethod_Bank transfer (automatic)  \\\n",
       "0                                        0   \n",
       "1                                        0   \n",
       "2                                        0   \n",
       "3                                        1   \n",
       "4                                        0   \n",
       "\n",
       "   PaymentMethod_Credit card (automatic)  PaymentMethod_Electronic check  \\\n",
       "0                                      0                               1   \n",
       "1                                      0                               0   \n",
       "2                                      0                               0   \n",
       "3                                      0                               0   \n",
       "4                                      0                               1   \n",
       "\n",
       "   PaymentMethod_Mailed check  \n",
       "0                           0  \n",
       "1                           1  \n",
       "2                           1  \n",
       "3                           0  \n",
       "4                           0  \n",
       "\n",
       "[5 rows x 27 columns]"
      ]
     },
     "execution_count": 41,
     "metadata": {},
     "output_type": "execute_result"
    }
   ],
   "source": [
    "df2.head()"
   ]
  },
  {
   "cell_type": "code",
   "execution_count": 42,
   "id": "b64f1f4a",
   "metadata": {},
   "outputs": [
    {
     "data": {
      "text/plain": [
       "gender                                       int64\n",
       "SeniorCitizen                                int64\n",
       "Partner                                      int64\n",
       "Dependents                                   int64\n",
       "tenure                                       int64\n",
       "PhoneService                                 int64\n",
       "MultipleLines                                int64\n",
       "OnlineSecurity                               int64\n",
       "OnlineBackup                                 int64\n",
       "DeviceProtection                             int64\n",
       "TechSupport                                  int64\n",
       "StreamingTV                                  int64\n",
       "StreamingMovies                              int64\n",
       "PaperlessBilling                             int64\n",
       "MonthlyCharges                             float64\n",
       "TotalCharges                               float64\n",
       "Churn                                        int64\n",
       "InternetService_DSL                          uint8\n",
       "InternetService_Fiber optic                  uint8\n",
       "InternetService_No                           uint8\n",
       "Contract_Month-to-month                      uint8\n",
       "Contract_One year                            uint8\n",
       "Contract_Two year                            uint8\n",
       "PaymentMethod_Bank transfer (automatic)      uint8\n",
       "PaymentMethod_Credit card (automatic)        uint8\n",
       "PaymentMethod_Electronic check               uint8\n",
       "PaymentMethod_Mailed check                   uint8\n",
       "dtype: object"
      ]
     },
     "execution_count": 42,
     "metadata": {},
     "output_type": "execute_result"
    }
   ],
   "source": [
    "df2.dtypes"
   ]
  },
  {
   "cell_type": "code",
   "execution_count": 43,
   "id": "586b1a2d",
   "metadata": {},
   "outputs": [],
   "source": [
    "#Proceeding with One Hot Encoding for these columns with multiple Categorical values\n",
    "cols_to_scale = ['tenure', 'MonthlyCharges', 'TotalCharges']\n",
    "\n",
    "from sklearn.preprocessing import MinMaxScaler\n",
    "scaler = MinMaxScaler()\n",
    "\n",
    "df2[cols_to_scale] = scaler.fit_transform(df2[cols_to_scale])"
   ]
  },
  {
   "cell_type": "code",
   "execution_count": 44,
   "id": "8a48fac4",
   "metadata": {},
   "outputs": [
    {
     "data": {
      "text/html": [
       "<div>\n",
       "<style scoped>\n",
       "    .dataframe tbody tr th:only-of-type {\n",
       "        vertical-align: middle;\n",
       "    }\n",
       "\n",
       "    .dataframe tbody tr th {\n",
       "        vertical-align: top;\n",
       "    }\n",
       "\n",
       "    .dataframe thead th {\n",
       "        text-align: right;\n",
       "    }\n",
       "</style>\n",
       "<table border=\"1\" class=\"dataframe\">\n",
       "  <thead>\n",
       "    <tr style=\"text-align: right;\">\n",
       "      <th></th>\n",
       "      <th>gender</th>\n",
       "      <th>SeniorCitizen</th>\n",
       "      <th>Partner</th>\n",
       "      <th>Dependents</th>\n",
       "      <th>tenure</th>\n",
       "      <th>PhoneService</th>\n",
       "      <th>MultipleLines</th>\n",
       "      <th>OnlineSecurity</th>\n",
       "      <th>OnlineBackup</th>\n",
       "      <th>DeviceProtection</th>\n",
       "      <th>...</th>\n",
       "      <th>InternetService_DSL</th>\n",
       "      <th>InternetService_Fiber optic</th>\n",
       "      <th>InternetService_No</th>\n",
       "      <th>Contract_Month-to-month</th>\n",
       "      <th>Contract_One year</th>\n",
       "      <th>Contract_Two year</th>\n",
       "      <th>PaymentMethod_Bank transfer (automatic)</th>\n",
       "      <th>PaymentMethod_Credit card (automatic)</th>\n",
       "      <th>PaymentMethod_Electronic check</th>\n",
       "      <th>PaymentMethod_Mailed check</th>\n",
       "    </tr>\n",
       "  </thead>\n",
       "  <tbody>\n",
       "    <tr>\n",
       "      <th>0</th>\n",
       "      <td>1</td>\n",
       "      <td>0</td>\n",
       "      <td>1</td>\n",
       "      <td>0</td>\n",
       "      <td>0.000000</td>\n",
       "      <td>0</td>\n",
       "      <td>0</td>\n",
       "      <td>0</td>\n",
       "      <td>1</td>\n",
       "      <td>0</td>\n",
       "      <td>...</td>\n",
       "      <td>1</td>\n",
       "      <td>0</td>\n",
       "      <td>0</td>\n",
       "      <td>1</td>\n",
       "      <td>0</td>\n",
       "      <td>0</td>\n",
       "      <td>0</td>\n",
       "      <td>0</td>\n",
       "      <td>1</td>\n",
       "      <td>0</td>\n",
       "    </tr>\n",
       "    <tr>\n",
       "      <th>1</th>\n",
       "      <td>0</td>\n",
       "      <td>0</td>\n",
       "      <td>0</td>\n",
       "      <td>0</td>\n",
       "      <td>0.464789</td>\n",
       "      <td>1</td>\n",
       "      <td>0</td>\n",
       "      <td>1</td>\n",
       "      <td>0</td>\n",
       "      <td>1</td>\n",
       "      <td>...</td>\n",
       "      <td>1</td>\n",
       "      <td>0</td>\n",
       "      <td>0</td>\n",
       "      <td>0</td>\n",
       "      <td>1</td>\n",
       "      <td>0</td>\n",
       "      <td>0</td>\n",
       "      <td>0</td>\n",
       "      <td>0</td>\n",
       "      <td>1</td>\n",
       "    </tr>\n",
       "    <tr>\n",
       "      <th>2</th>\n",
       "      <td>0</td>\n",
       "      <td>0</td>\n",
       "      <td>0</td>\n",
       "      <td>0</td>\n",
       "      <td>0.014085</td>\n",
       "      <td>1</td>\n",
       "      <td>0</td>\n",
       "      <td>1</td>\n",
       "      <td>1</td>\n",
       "      <td>0</td>\n",
       "      <td>...</td>\n",
       "      <td>1</td>\n",
       "      <td>0</td>\n",
       "      <td>0</td>\n",
       "      <td>1</td>\n",
       "      <td>0</td>\n",
       "      <td>0</td>\n",
       "      <td>0</td>\n",
       "      <td>0</td>\n",
       "      <td>0</td>\n",
       "      <td>1</td>\n",
       "    </tr>\n",
       "    <tr>\n",
       "      <th>3</th>\n",
       "      <td>0</td>\n",
       "      <td>0</td>\n",
       "      <td>0</td>\n",
       "      <td>0</td>\n",
       "      <td>0.619718</td>\n",
       "      <td>0</td>\n",
       "      <td>0</td>\n",
       "      <td>1</td>\n",
       "      <td>0</td>\n",
       "      <td>1</td>\n",
       "      <td>...</td>\n",
       "      <td>1</td>\n",
       "      <td>0</td>\n",
       "      <td>0</td>\n",
       "      <td>0</td>\n",
       "      <td>1</td>\n",
       "      <td>0</td>\n",
       "      <td>1</td>\n",
       "      <td>0</td>\n",
       "      <td>0</td>\n",
       "      <td>0</td>\n",
       "    </tr>\n",
       "    <tr>\n",
       "      <th>4</th>\n",
       "      <td>1</td>\n",
       "      <td>0</td>\n",
       "      <td>0</td>\n",
       "      <td>0</td>\n",
       "      <td>0.014085</td>\n",
       "      <td>1</td>\n",
       "      <td>0</td>\n",
       "      <td>0</td>\n",
       "      <td>0</td>\n",
       "      <td>0</td>\n",
       "      <td>...</td>\n",
       "      <td>0</td>\n",
       "      <td>1</td>\n",
       "      <td>0</td>\n",
       "      <td>1</td>\n",
       "      <td>0</td>\n",
       "      <td>0</td>\n",
       "      <td>0</td>\n",
       "      <td>0</td>\n",
       "      <td>1</td>\n",
       "      <td>0</td>\n",
       "    </tr>\n",
       "  </tbody>\n",
       "</table>\n",
       "<p>5 rows × 27 columns</p>\n",
       "</div>"
      ],
      "text/plain": [
       "   gender  SeniorCitizen  Partner  Dependents    tenure  PhoneService  \\\n",
       "0       1              0        1           0  0.000000             0   \n",
       "1       0              0        0           0  0.464789             1   \n",
       "2       0              0        0           0  0.014085             1   \n",
       "3       0              0        0           0  0.619718             0   \n",
       "4       1              0        0           0  0.014085             1   \n",
       "\n",
       "   MultipleLines  OnlineSecurity  OnlineBackup  DeviceProtection  ...  \\\n",
       "0              0               0             1                 0  ...   \n",
       "1              0               1             0                 1  ...   \n",
       "2              0               1             1                 0  ...   \n",
       "3              0               1             0                 1  ...   \n",
       "4              0               0             0                 0  ...   \n",
       "\n",
       "   InternetService_DSL  InternetService_Fiber optic  InternetService_No  \\\n",
       "0                    1                            0                   0   \n",
       "1                    1                            0                   0   \n",
       "2                    1                            0                   0   \n",
       "3                    1                            0                   0   \n",
       "4                    0                            1                   0   \n",
       "\n",
       "   Contract_Month-to-month  Contract_One year  Contract_Two year  \\\n",
       "0                        1                  0                  0   \n",
       "1                        0                  1                  0   \n",
       "2                        1                  0                  0   \n",
       "3                        0                  1                  0   \n",
       "4                        1                  0                  0   \n",
       "\n",
       "   PaymentMethod_Bank transfer (automatic)  \\\n",
       "0                                        0   \n",
       "1                                        0   \n",
       "2                                        0   \n",
       "3                                        1   \n",
       "4                                        0   \n",
       "\n",
       "   PaymentMethod_Credit card (automatic)  PaymentMethod_Electronic check  \\\n",
       "0                                      0                               1   \n",
       "1                                      0                               0   \n",
       "2                                      0                               0   \n",
       "3                                      0                               0   \n",
       "4                                      0                               1   \n",
       "\n",
       "   PaymentMethod_Mailed check  \n",
       "0                           0  \n",
       "1                           1  \n",
       "2                           1  \n",
       "3                           0  \n",
       "4                           0  \n",
       "\n",
       "[5 rows x 27 columns]"
      ]
     },
     "execution_count": 44,
     "metadata": {},
     "output_type": "execute_result"
    }
   ],
   "source": [
    "df2.head()"
   ]
  },
  {
   "cell_type": "markdown",
   "id": "595a2ebd",
   "metadata": {},
   "source": [
    "### Training a models"
   ]
  },
  {
   "cell_type": "code",
   "execution_count": 45,
   "id": "63daaee5",
   "metadata": {},
   "outputs": [],
   "source": [
    "X = df2.drop('Churn', axis='columns')\n",
    "Y = df2['Churn']"
   ]
  },
  {
   "cell_type": "code",
   "execution_count": 46,
   "id": "0a8e8abf",
   "metadata": {},
   "outputs": [],
   "source": [
    "from sklearn.model_selection import train_test_split\n",
    "X_train, X_test, Y_train, Y_test = train_test_split(X, Y, test_size = 0.25, stratify=Y, random_state = 5)"
   ]
  },
  {
   "cell_type": "code",
   "execution_count": 47,
   "id": "b9df14cc",
   "metadata": {},
   "outputs": [
    {
     "data": {
      "text/plain": [
       "(5274, 26)"
      ]
     },
     "execution_count": 47,
     "metadata": {},
     "output_type": "execute_result"
    }
   ],
   "source": [
    "X_train.shape"
   ]
  },
  {
   "cell_type": "code",
   "execution_count": 48,
   "id": "cc3f935a",
   "metadata": {},
   "outputs": [
    {
     "data": {
      "text/plain": [
       "(1758, 26)"
      ]
     },
     "execution_count": 48,
     "metadata": {},
     "output_type": "execute_result"
    }
   ],
   "source": [
    "X_test.shape"
   ]
  },
  {
   "cell_type": "code",
   "execution_count": 49,
   "id": "59d917e2",
   "metadata": {},
   "outputs": [
    {
     "name": "stderr",
     "output_type": "stream",
     "text": [
      "C:\\Users\\Appa\\anaconda3\\lib\\site-packages\\sklearn\\linear_model\\_logistic.py:814: ConvergenceWarning: lbfgs failed to converge (status=1):\n",
      "STOP: TOTAL NO. of ITERATIONS REACHED LIMIT.\n",
      "\n",
      "Increase the number of iterations (max_iter) or scale the data as shown in:\n",
      "    https://scikit-learn.org/stable/modules/preprocessing.html\n",
      "Please also refer to the documentation for alternative solver options:\n",
      "    https://scikit-learn.org/stable/modules/linear_model.html#logistic-regression\n",
      "  n_iter_i = _check_optimize_result(\n"
     ]
    },
    {
     "data": {
      "text/plain": [
       "LogisticRegression()"
      ]
     },
     "execution_count": 49,
     "metadata": {},
     "output_type": "execute_result"
    }
   ],
   "source": [
    "from sklearn.linear_model import LogisticRegression\n",
    "from sklearn.metrics import accuracy_score\n",
    "model = LogisticRegression()\n",
    "model.fit(X_train, Y_train)"
   ]
  },
  {
   "cell_type": "code",
   "execution_count": 50,
   "id": "c480fd6d",
   "metadata": {},
   "outputs": [
    {
     "name": "stdout",
     "output_type": "stream",
     "text": [
      "Accuracy on Training Data:  0.8130451270383011\n"
     ]
    }
   ],
   "source": [
    "X_train_prediction = model.predict(X_train)\n",
    "training_data_accuracy = accuracy_score(X_train_prediction, Y_train)\n",
    "print('Accuracy on Training Data: ', training_data_accuracy)"
   ]
  },
  {
   "cell_type": "code",
   "execution_count": 51,
   "id": "0a5edf99",
   "metadata": {},
   "outputs": [
    {
     "data": {
      "text/plain": [
       "array([0, 0, 0, 0, 1], dtype=int64)"
      ]
     },
     "execution_count": 51,
     "metadata": {},
     "output_type": "execute_result"
    }
   ],
   "source": [
    "X_train_prediction[:5]"
   ]
  },
  {
   "cell_type": "code",
   "execution_count": 52,
   "id": "c4134c1e",
   "metadata": {},
   "outputs": [
    {
     "data": {
      "text/plain": [
       "1465    0\n",
       "3856    0\n",
       "3766    1\n",
       "6571    0\n",
       "6599    1\n",
       "Name: Churn, dtype: int64"
      ]
     },
     "execution_count": 52,
     "metadata": {},
     "output_type": "execute_result"
    }
   ],
   "source": [
    "Y_train[:5]"
   ]
  },
  {
   "cell_type": "code",
   "execution_count": 53,
   "id": "c186f248",
   "metadata": {},
   "outputs": [
    {
     "name": "stdout",
     "output_type": "stream",
     "text": [
      "Accuracy on Testing Data:  0.7838452787258248\n"
     ]
    }
   ],
   "source": [
    "X_test_prediction = model.predict(X_test)\n",
    "testing_data_accuracy = accuracy_score(X_test_prediction, Y_test)\n",
    "print('Accuracy on Testing Data: ', testing_data_accuracy)"
   ]
  },
  {
   "cell_type": "code",
   "execution_count": 54,
   "id": "ab44ed11",
   "metadata": {},
   "outputs": [
    {
     "data": {
      "text/plain": [
       "array([0, 0, 0, 0, 1], dtype=int64)"
      ]
     },
     "execution_count": 54,
     "metadata": {},
     "output_type": "execute_result"
    }
   ],
   "source": [
    "X_test_prediction[:5]"
   ]
  },
  {
   "cell_type": "code",
   "execution_count": 55,
   "id": "e9c71238",
   "metadata": {},
   "outputs": [
    {
     "name": "stdout",
     "output_type": "stream",
     "text": [
      "              precision    recall  f1-score   support\n",
      "\n",
      "           0       0.83      0.88      0.86      1291\n",
      "           1       0.61      0.51      0.56       467\n",
      "\n",
      "    accuracy                           0.78      1758\n",
      "   macro avg       0.72      0.70      0.71      1758\n",
      "weighted avg       0.77      0.78      0.78      1758\n",
      "\n"
     ]
    }
   ],
   "source": [
    "from sklearn.metrics import classification_report, confusion_matrix\n",
    "print(classification_report(Y_test, X_test_prediction))"
   ]
  },
  {
   "cell_type": "code",
   "execution_count": 56,
   "id": "d93fa8d9",
   "metadata": {},
   "outputs": [
    {
     "data": {
      "text/plain": [
       "Text(114.0, 0.5, 'Truth')"
      ]
     },
     "execution_count": 56,
     "metadata": {},
     "output_type": "execute_result"
    },
    {
     "data": {
      "image/png": "[encoded data removed]",
      "text/plain": [
       "<Figure size 1080x720 with 2 Axes>"
      ]
     },
     "metadata": {
      "needs_background": "light"
     },
     "output_type": "display_data"
    }
   ],
   "source": [
    "cm = confusion_matrix(Y_test, X_test_prediction)\n",
    "plt.figure(figsize = (15, 10))\n",
    "sns.heatmap(cm, annot = True, fmt ='d')\n",
    "plt.xlabel('Predicted')\n",
    "plt.ylabel('Truth')"
   ]
  },
  {
   "cell_type": "markdown",
   "id": "4c4026e8",
   "metadata": {},
   "source": [
    "### Results:\n",
    "    1. We receive an accuracy of 78.38% when Logistic Regression model is used."
   ]
  },
  {
   "cell_type": "markdown",
   "id": "b92c2a22",
   "metadata": {},
   "source": [
    "### Training a model using Random Forest"
   ]
  },
  {
   "cell_type": "code",
   "execution_count": 57,
   "id": "2a8ab49c",
   "metadata": {},
   "outputs": [
    {
     "data": {
      "text/plain": [
       "RandomForestClassifier(n_estimators=50)"
      ]
     },
     "execution_count": 57,
     "metadata": {},
     "output_type": "execute_result"
    }
   ],
   "source": [
    "from sklearn.ensemble import RandomForestClassifier\n",
    "model2 = RandomForestClassifier(n_estimators=50)\n",
    "model2.fit(X_train, Y_train)"
   ]
  },
  {
   "cell_type": "code",
   "execution_count": 58,
   "id": "99e62e94",
   "metadata": {},
   "outputs": [
    {
     "data": {
      "text/plain": [
       "0.7844141069397043"
      ]
     },
     "execution_count": 58,
     "metadata": {},
     "output_type": "execute_result"
    }
   ],
   "source": [
    "model2.score(X_test, Y_test)"
   ]
  },
  {
   "cell_type": "code",
   "execution_count": 59,
   "id": "0dfbc275",
   "metadata": {},
   "outputs": [],
   "source": [
    "X_test_predicted2 = model2.predict(X_test)"
   ]
  },
  {
   "cell_type": "code",
   "execution_count": 60,
   "id": "8c30c4f1",
   "metadata": {},
   "outputs": [
    {
     "name": "stdout",
     "output_type": "stream",
     "text": [
      "              precision    recall  f1-score   support\n",
      "\n",
      "           0       0.82      0.90      0.86      1291\n",
      "           1       0.62      0.47      0.54       467\n",
      "\n",
      "    accuracy                           0.78      1758\n",
      "   macro avg       0.72      0.69      0.70      1758\n",
      "weighted avg       0.77      0.78      0.77      1758\n",
      "\n"
     ]
    }
   ],
   "source": [
    "print(classification_report(Y_test, X_test_predicted2))"
   ]
  },
  {
   "cell_type": "code",
   "execution_count": 61,
   "id": "8238a99f",
   "metadata": {},
   "outputs": [
    {
     "data": {
      "text/plain": [
       "Text(114.0, 0.5, 'Truth')"
      ]
     },
     "execution_count": 61,
     "metadata": {},
     "output_type": "execute_result"
    },
    {
     "data": {
      "image/png": "[encoded data removed]",
      "text/plain": [
       "<Figure size 1080x720 with 2 Axes>"
      ]
     },
     "metadata": {
      "needs_background": "light"
     },
     "output_type": "display_data"
    }
   ],
   "source": [
    "cm = confusion_matrix(Y_test, X_test_predicted2)\n",
    "plt.figure(figsize = (15, 10))\n",
    "sns.heatmap(cm, annot = True, fmt ='d')\n",
    "plt.xlabel('Predicted')\n",
    "plt.ylabel('Truth')"
   ]
  },
  {
   "cell_type": "markdown",
   "id": "79803279",
   "metadata": {},
   "source": [
    "### Results:\n",
    "    1. We receive an accuracy of 78.61% when Random Forest model is used with 50 ensemble trees."
   ]
  },
  {
   "cell_type": "markdown",
   "id": "1a57a7a6",
   "metadata": {},
   "source": [
    "### Training multiple boosting models"
   ]
  },
  {
   "cell_type": "code",
   "execution_count": 62,
   "id": "2b14817a",
   "metadata": {},
   "outputs": [
    {
     "data": {
      "text/plain": [
       "GradientBoostingClassifier()"
      ]
     },
     "execution_count": 62,
     "metadata": {},
     "output_type": "execute_result"
    }
   ],
   "source": [
    "from sklearn.ensemble import GradientBoostingClassifier\n",
    "model3 = GradientBoostingClassifier()\n",
    "model3.fit(X_train, Y_train)"
   ]
  },
  {
   "cell_type": "code",
   "execution_count": 63,
   "id": "775823f1",
   "metadata": {},
   "outputs": [
    {
     "data": {
      "text/plain": [
       "0.7918088737201365"
      ]
     },
     "execution_count": 63,
     "metadata": {},
     "output_type": "execute_result"
    }
   ],
   "source": [
    "model3.score(X_test, Y_test)"
   ]
  },
  {
   "cell_type": "code",
   "execution_count": 64,
   "id": "74371cf4",
   "metadata": {},
   "outputs": [
    {
     "name": "stdout",
     "output_type": "stream",
     "text": [
      "Learning rate set to 0.020955\n",
      "0:\tlearn: 0.6784540\ttotal: 162ms\tremaining: 2m 42s\n",
      "1:\tlearn: 0.6644280\ttotal: 165ms\tremaining: 1m 22s\n",
      "2:\tlearn: 0.6509649\ttotal: 168ms\tremaining: 55.9s\n",
      "3:\tlearn: 0.6384540\ttotal: 171ms\tremaining: 42.7s\n",
      "4:\tlearn: 0.6274826\ttotal: 175ms\tremaining: 34.7s\n",
      "5:\tlearn: 0.6157152\ttotal: 178ms\tremaining: 29.4s\n",
      "6:\tlearn: 0.6058628\ttotal: 181ms\tremaining: 25.6s\n",
      "7:\tlearn: 0.5954996\ttotal: 198ms\tremaining: 24.5s\n",
      "8:\tlearn: 0.5859542\ttotal: 200ms\tremaining: 22.1s\n",
      "9:\tlearn: 0.5768301\ttotal: 203ms\tremaining: 20.1s\n",
      "10:\tlearn: 0.5685020\ttotal: 207ms\tremaining: 18.6s\n",
      "11:\tlearn: 0.5624261\ttotal: 209ms\tremaining: 17.2s\n",
      "12:\tlearn: 0.5550347\ttotal: 212ms\tremaining: 16.1s\n",
      "13:\tlearn: 0.5476471\ttotal: 215ms\tremaining: 15.1s\n",
      "14:\tlearn: 0.5412730\ttotal: 218ms\tremaining: 14.3s\n",
      "15:\tlearn: 0.5352300\ttotal: 221ms\tremaining: 13.6s\n",
      "16:\tlearn: 0.5289565\ttotal: 224ms\tremaining: 12.9s\n",
      "17:\tlearn: 0.5236531\ttotal: 227ms\tremaining: 12.4s\n",
      "18:\tlearn: 0.5184155\ttotal: 230ms\tremaining: 11.9s\n",
      "19:\tlearn: 0.5133243\ttotal: 233ms\tremaining: 11.4s\n",
      "20:\tlearn: 0.5084359\ttotal: 236ms\tremaining: 11s\n",
      "21:\tlearn: 0.5040260\ttotal: 239ms\tremaining: 10.6s\n",
      "22:\tlearn: 0.5007569\ttotal: 241ms\tremaining: 10.2s\n",
      "23:\tlearn: 0.4972419\ttotal: 243ms\tremaining: 9.86s\n",
      "24:\tlearn: 0.4934321\ttotal: 245ms\tremaining: 9.56s\n",
      "25:\tlearn: 0.4898928\ttotal: 248ms\tremaining: 9.3s\n",
      "26:\tlearn: 0.4862485\ttotal: 251ms\tremaining: 9.05s\n",
      "27:\tlearn: 0.4826780\ttotal: 254ms\tremaining: 8.83s\n",
      "28:\tlearn: 0.4796440\ttotal: 257ms\tremaining: 8.61s\n",
      "29:\tlearn: 0.4762501\ttotal: 260ms\tremaining: 8.41s\n",
      "30:\tlearn: 0.4740542\ttotal: 262ms\tremaining: 8.2s\n",
      "31:\tlearn: 0.4712608\ttotal: 265ms\tremaining: 8.01s\n",
      "32:\tlearn: 0.4686126\ttotal: 268ms\tremaining: 7.85s\n",
      "33:\tlearn: 0.4661217\ttotal: 271ms\tremaining: 7.68s\n",
      "34:\tlearn: 0.4635862\ttotal: 273ms\tremaining: 7.53s\n",
      "35:\tlearn: 0.4613836\ttotal: 276ms\tremaining: 7.39s\n",
      "36:\tlearn: 0.4591048\ttotal: 279ms\tremaining: 7.25s\n",
      "37:\tlearn: 0.4570206\ttotal: 282ms\tremaining: 7.13s\n",
      "38:\tlearn: 0.4552928\ttotal: 284ms\tremaining: 7s\n",
      "39:\tlearn: 0.4532997\ttotal: 287ms\tremaining: 6.88s\n",
      "40:\tlearn: 0.4514065\ttotal: 290ms\tremaining: 6.78s\n",
      "41:\tlearn: 0.4496764\ttotal: 292ms\tremaining: 6.66s\n",
      "42:\tlearn: 0.4479038\ttotal: 295ms\tremaining: 6.56s\n",
      "43:\tlearn: 0.4465420\ttotal: 297ms\tremaining: 6.46s\n",
      "44:\tlearn: 0.4449884\ttotal: 300ms\tremaining: 6.37s\n",
      "45:\tlearn: 0.4433306\ttotal: 303ms\tremaining: 6.29s\n",
      "46:\tlearn: 0.4417609\ttotal: 306ms\tremaining: 6.2s\n",
      "47:\tlearn: 0.4402396\ttotal: 309ms\tremaining: 6.12s\n",
      "48:\tlearn: 0.4389730\ttotal: 311ms\tremaining: 6.04s\n",
      "49:\tlearn: 0.4375920\ttotal: 314ms\tremaining: 5.97s\n",
      "50:\tlearn: 0.4361901\ttotal: 317ms\tremaining: 5.9s\n",
      "51:\tlearn: 0.4350494\ttotal: 320ms\tremaining: 5.83s\n",
      "52:\tlearn: 0.4339776\ttotal: 322ms\tremaining: 5.76s\n",
      "53:\tlearn: 0.4329254\ttotal: 325ms\tremaining: 5.7s\n",
      "54:\tlearn: 0.4319149\ttotal: 328ms\tremaining: 5.64s\n",
      "55:\tlearn: 0.4309733\ttotal: 331ms\tremaining: 5.58s\n",
      "56:\tlearn: 0.4301094\ttotal: 334ms\tremaining: 5.52s\n",
      "57:\tlearn: 0.4290202\ttotal: 337ms\tremaining: 5.47s\n",
      "58:\tlearn: 0.4279691\ttotal: 339ms\tremaining: 5.41s\n",
      "59:\tlearn: 0.4271410\ttotal: 343ms\tremaining: 5.37s\n",
      "60:\tlearn: 0.4261827\ttotal: 345ms\tremaining: 5.32s\n",
      "61:\tlearn: 0.4253655\ttotal: 349ms\tremaining: 5.28s\n",
      "62:\tlearn: 0.4245424\ttotal: 352ms\tremaining: 5.23s\n",
      "63:\tlearn: 0.4238326\ttotal: 354ms\tremaining: 5.18s\n",
      "64:\tlearn: 0.4230389\ttotal: 357ms\tremaining: 5.14s\n",
      "65:\tlearn: 0.4222467\ttotal: 361ms\tremaining: 5.1s\n",
      "66:\tlearn: 0.4214597\ttotal: 364ms\tremaining: 5.06s\n",
      "67:\tlearn: 0.4207386\ttotal: 368ms\tremaining: 5.04s\n",
      "68:\tlearn: 0.4201157\ttotal: 371ms\tremaining: 5s\n",
      "69:\tlearn: 0.4194259\ttotal: 374ms\tremaining: 4.97s\n",
      "70:\tlearn: 0.4188289\ttotal: 376ms\tremaining: 4.92s\n",
      "71:\tlearn: 0.4181656\ttotal: 379ms\tremaining: 4.89s\n",
      "72:\tlearn: 0.4174676\ttotal: 382ms\tremaining: 4.85s\n",
      "73:\tlearn: 0.4167121\ttotal: 385ms\tremaining: 4.81s\n",
      "74:\tlearn: 0.4162334\ttotal: 387ms\tremaining: 4.78s\n",
      "75:\tlearn: 0.4156957\ttotal: 390ms\tremaining: 4.74s\n",
      "76:\tlearn: 0.4152111\ttotal: 393ms\tremaining: 4.71s\n",
      "77:\tlearn: 0.4146972\ttotal: 396ms\tremaining: 4.67s\n",
      "78:\tlearn: 0.4140997\ttotal: 398ms\tremaining: 4.64s\n",
      "79:\tlearn: 0.4135893\ttotal: 401ms\tremaining: 4.61s\n",
      "80:\tlearn: 0.4131829\ttotal: 404ms\tremaining: 4.58s\n",
      "81:\tlearn: 0.4125854\ttotal: 407ms\tremaining: 4.55s\n",
      "82:\tlearn: 0.4121063\ttotal: 410ms\tremaining: 4.53s\n",
      "83:\tlearn: 0.4115798\ttotal: 413ms\tremaining: 4.5s\n",
      "84:\tlearn: 0.4112563\ttotal: 415ms\tremaining: 4.47s\n",
      "85:\tlearn: 0.4108593\ttotal: 418ms\tremaining: 4.44s\n",
      "86:\tlearn: 0.4103893\ttotal: 421ms\tremaining: 4.42s\n",
      "87:\tlearn: 0.4099128\ttotal: 425ms\tremaining: 4.41s\n",
      "88:\tlearn: 0.4094405\ttotal: 434ms\tremaining: 4.44s\n",
      "89:\tlearn: 0.4089865\ttotal: 437ms\tremaining: 4.42s\n",
      "90:\tlearn: 0.4085938\ttotal: 441ms\tremaining: 4.4s\n",
      "91:\tlearn: 0.4082245\ttotal: 443ms\tremaining: 4.38s\n",
      "92:\tlearn: 0.4078161\ttotal: 446ms\tremaining: 4.35s\n",
      "93:\tlearn: 0.4073635\ttotal: 448ms\tremaining: 4.32s\n",
      "94:\tlearn: 0.4069791\ttotal: 451ms\tremaining: 4.3s\n",
      "95:\tlearn: 0.4064620\ttotal: 455ms\tremaining: 4.28s\n",
      "96:\tlearn: 0.4060355\ttotal: 458ms\tremaining: 4.26s\n",
      "97:\tlearn: 0.4057406\ttotal: 461ms\tremaining: 4.24s\n",
      "98:\tlearn: 0.4054174\ttotal: 464ms\tremaining: 4.22s\n",
      "99:\tlearn: 0.4050468\ttotal: 467ms\tremaining: 4.2s\n",
      "100:\tlearn: 0.4047485\ttotal: 471ms\tremaining: 4.19s\n",
      "101:\tlearn: 0.4043723\ttotal: 475ms\tremaining: 4.18s\n",
      "102:\tlearn: 0.4039735\ttotal: 478ms\tremaining: 4.17s\n",
      "103:\tlearn: 0.4036212\ttotal: 482ms\tremaining: 4.15s\n",
      "104:\tlearn: 0.4034015\ttotal: 487ms\tremaining: 4.15s\n",
      "105:\tlearn: 0.4031646\ttotal: 490ms\tremaining: 4.13s\n",
      "106:\tlearn: 0.4028205\ttotal: 494ms\tremaining: 4.12s\n",
      "107:\tlearn: 0.4023994\ttotal: 498ms\tremaining: 4.11s\n",
      "108:\tlearn: 0.4021391\ttotal: 504ms\tremaining: 4.12s\n",
      "109:\tlearn: 0.4018435\ttotal: 508ms\tremaining: 4.11s\n",
      "110:\tlearn: 0.4014454\ttotal: 512ms\tremaining: 4.1s\n",
      "111:\tlearn: 0.4011737\ttotal: 516ms\tremaining: 4.09s\n",
      "112:\tlearn: 0.4008861\ttotal: 539ms\tremaining: 4.23s\n",
      "113:\tlearn: 0.4006307\ttotal: 543ms\tremaining: 4.22s\n",
      "114:\tlearn: 0.4003281\ttotal: 555ms\tremaining: 4.27s\n",
      "115:\tlearn: 0.4000567\ttotal: 559ms\tremaining: 4.26s\n",
      "116:\tlearn: 0.3998384\ttotal: 564ms\tremaining: 4.25s\n",
      "117:\tlearn: 0.3996874\ttotal: 568ms\tremaining: 4.25s\n",
      "118:\tlearn: 0.3994642\ttotal: 572ms\tremaining: 4.24s\n",
      "119:\tlearn: 0.3992005\ttotal: 579ms\tremaining: 4.25s\n",
      "120:\tlearn: 0.3989945\ttotal: 592ms\tremaining: 4.3s\n",
      "121:\tlearn: 0.3987914\ttotal: 597ms\tremaining: 4.3s\n",
      "122:\tlearn: 0.3985430\ttotal: 601ms\tremaining: 4.29s\n",
      "123:\tlearn: 0.3982693\ttotal: 606ms\tremaining: 4.28s\n",
      "124:\tlearn: 0.3980814\ttotal: 612ms\tremaining: 4.28s\n",
      "125:\tlearn: 0.3978358\ttotal: 616ms\tremaining: 4.28s\n",
      "126:\tlearn: 0.3975626\ttotal: 620ms\tremaining: 4.26s\n",
      "127:\tlearn: 0.3971922\ttotal: 624ms\tremaining: 4.25s\n",
      "128:\tlearn: 0.3969737\ttotal: 628ms\tremaining: 4.24s\n",
      "129:\tlearn: 0.3966379\ttotal: 632ms\tremaining: 4.23s\n",
      "130:\tlearn: 0.3963696\ttotal: 636ms\tremaining: 4.21s\n",
      "131:\tlearn: 0.3961123\ttotal: 639ms\tremaining: 4.2s\n",
      "132:\tlearn: 0.3958776\ttotal: 643ms\tremaining: 4.19s\n",
      "133:\tlearn: 0.3957868\ttotal: 645ms\tremaining: 4.17s\n",
      "134:\tlearn: 0.3955295\ttotal: 648ms\tremaining: 4.15s\n",
      "135:\tlearn: 0.3954552\ttotal: 651ms\tremaining: 4.14s\n",
      "136:\tlearn: 0.3952871\ttotal: 655ms\tremaining: 4.12s\n",
      "137:\tlearn: 0.3950210\ttotal: 658ms\tremaining: 4.11s\n",
      "138:\tlearn: 0.3948637\ttotal: 662ms\tremaining: 4.1s\n",
      "139:\tlearn: 0.3946458\ttotal: 665ms\tremaining: 4.08s\n",
      "140:\tlearn: 0.3943955\ttotal: 668ms\tremaining: 4.07s\n",
      "141:\tlearn: 0.3941797\ttotal: 671ms\tremaining: 4.06s\n",
      "142:\tlearn: 0.3940181\ttotal: 675ms\tremaining: 4.04s\n",
      "143:\tlearn: 0.3938624\ttotal: 678ms\tremaining: 4.03s\n",
      "144:\tlearn: 0.3937269\ttotal: 681ms\tremaining: 4.02s\n",
      "145:\tlearn: 0.3935169\ttotal: 685ms\tremaining: 4.01s\n",
      "146:\tlearn: 0.3932657\ttotal: 689ms\tremaining: 4s\n",
      "147:\tlearn: 0.3930540\ttotal: 693ms\tremaining: 3.99s\n",
      "148:\tlearn: 0.3928893\ttotal: 696ms\tremaining: 3.98s\n",
      "149:\tlearn: 0.3926602\ttotal: 699ms\tremaining: 3.96s\n",
      "150:\tlearn: 0.3924474\ttotal: 702ms\tremaining: 3.95s\n",
      "151:\tlearn: 0.3922238\ttotal: 705ms\tremaining: 3.94s\n",
      "152:\tlearn: 0.3920118\ttotal: 709ms\tremaining: 3.92s\n",
      "153:\tlearn: 0.3917962\ttotal: 712ms\tremaining: 3.91s\n",
      "154:\tlearn: 0.3914882\ttotal: 716ms\tremaining: 3.9s\n",
      "155:\tlearn: 0.3913164\ttotal: 720ms\tremaining: 3.89s\n",
      "156:\tlearn: 0.3910966\ttotal: 724ms\tremaining: 3.89s\n",
      "157:\tlearn: 0.3909754\ttotal: 728ms\tremaining: 3.88s\n",
      "158:\tlearn: 0.3906178\ttotal: 732ms\tremaining: 3.87s\n",
      "159:\tlearn: 0.3904048\ttotal: 738ms\tremaining: 3.88s\n",
      "160:\tlearn: 0.3902816\ttotal: 743ms\tremaining: 3.87s\n",
      "161:\tlearn: 0.3900642\ttotal: 746ms\tremaining: 3.86s\n",
      "162:\tlearn: 0.3898925\ttotal: 750ms\tremaining: 3.85s\n",
      "163:\tlearn: 0.3896670\ttotal: 753ms\tremaining: 3.84s\n",
      "164:\tlearn: 0.3894320\ttotal: 757ms\tremaining: 3.83s\n",
      "165:\tlearn: 0.3892653\ttotal: 761ms\tremaining: 3.82s\n",
      "166:\tlearn: 0.3891088\ttotal: 764ms\tremaining: 3.81s\n",
      "167:\tlearn: 0.3889125\ttotal: 768ms\tremaining: 3.8s\n",
      "168:\tlearn: 0.3887491\ttotal: 772ms\tremaining: 3.8s\n",
      "169:\tlearn: 0.3885425\ttotal: 776ms\tremaining: 3.79s\n",
      "170:\tlearn: 0.3883792\ttotal: 779ms\tremaining: 3.78s\n",
      "171:\tlearn: 0.3881715\ttotal: 783ms\tremaining: 3.77s\n",
      "172:\tlearn: 0.3879861\ttotal: 787ms\tremaining: 3.76s\n",
      "173:\tlearn: 0.3878257\ttotal: 791ms\tremaining: 3.75s\n",
      "174:\tlearn: 0.3876452\ttotal: 794ms\tremaining: 3.75s\n",
      "175:\tlearn: 0.3874936\ttotal: 799ms\tremaining: 3.74s\n",
      "176:\tlearn: 0.3872264\ttotal: 805ms\tremaining: 3.74s\n",
      "177:\tlearn: 0.3870857\ttotal: 808ms\tremaining: 3.73s\n",
      "178:\tlearn: 0.3868716\ttotal: 812ms\tremaining: 3.72s\n",
      "179:\tlearn: 0.3866802\ttotal: 816ms\tremaining: 3.72s\n",
      "180:\tlearn: 0.3864899\ttotal: 821ms\tremaining: 3.71s\n",
      "181:\tlearn: 0.3863314\ttotal: 824ms\tremaining: 3.7s\n",
      "182:\tlearn: 0.3861854\ttotal: 827ms\tremaining: 3.69s\n",
      "183:\tlearn: 0.3860660\ttotal: 832ms\tremaining: 3.69s\n",
      "184:\tlearn: 0.3859045\ttotal: 835ms\tremaining: 3.68s\n",
      "185:\tlearn: 0.3857960\ttotal: 839ms\tremaining: 3.67s\n",
      "186:\tlearn: 0.3856865\ttotal: 843ms\tremaining: 3.66s\n",
      "187:\tlearn: 0.3856160\ttotal: 847ms\tremaining: 3.66s\n",
      "188:\tlearn: 0.3854628\ttotal: 850ms\tremaining: 3.65s\n",
      "189:\tlearn: 0.3853612\ttotal: 854ms\tremaining: 3.64s\n",
      "190:\tlearn: 0.3851569\ttotal: 857ms\tremaining: 3.63s\n",
      "191:\tlearn: 0.3850235\ttotal: 861ms\tremaining: 3.62s\n",
      "192:\tlearn: 0.3848732\ttotal: 866ms\tremaining: 3.62s\n",
      "193:\tlearn: 0.3846332\ttotal: 869ms\tremaining: 3.61s\n",
      "194:\tlearn: 0.3844720\ttotal: 872ms\tremaining: 3.6s\n",
      "195:\tlearn: 0.3843821\ttotal: 876ms\tremaining: 3.59s\n",
      "196:\tlearn: 0.3842297\ttotal: 881ms\tremaining: 3.59s\n",
      "197:\tlearn: 0.3840293\ttotal: 884ms\tremaining: 3.58s\n",
      "198:\tlearn: 0.3839201\ttotal: 887ms\tremaining: 3.57s\n",
      "199:\tlearn: 0.3837948\ttotal: 890ms\tremaining: 3.56s\n"
     ]
    },
    {
     "name": "stdout",
     "output_type": "stream",
     "text": [
      "200:\tlearn: 0.3834823\ttotal: 895ms\tremaining: 3.56s\n",
      "201:\tlearn: 0.3833804\ttotal: 898ms\tremaining: 3.55s\n",
      "202:\tlearn: 0.3831829\ttotal: 901ms\tremaining: 3.54s\n",
      "203:\tlearn: 0.3830135\ttotal: 904ms\tremaining: 3.53s\n",
      "204:\tlearn: 0.3829114\ttotal: 907ms\tremaining: 3.52s\n",
      "205:\tlearn: 0.3828126\ttotal: 910ms\tremaining: 3.51s\n",
      "206:\tlearn: 0.3826009\ttotal: 913ms\tremaining: 3.5s\n",
      "207:\tlearn: 0.3824040\ttotal: 916ms\tremaining: 3.49s\n",
      "208:\tlearn: 0.3822575\ttotal: 920ms\tremaining: 3.48s\n",
      "209:\tlearn: 0.3820767\ttotal: 924ms\tremaining: 3.48s\n",
      "210:\tlearn: 0.3819936\ttotal: 927ms\tremaining: 3.47s\n",
      "211:\tlearn: 0.3818645\ttotal: 930ms\tremaining: 3.46s\n",
      "212:\tlearn: 0.3817615\ttotal: 933ms\tremaining: 3.45s\n",
      "213:\tlearn: 0.3816458\ttotal: 936ms\tremaining: 3.44s\n",
      "214:\tlearn: 0.3815010\ttotal: 938ms\tremaining: 3.42s\n",
      "215:\tlearn: 0.3814716\ttotal: 942ms\tremaining: 3.42s\n",
      "216:\tlearn: 0.3813287\ttotal: 945ms\tremaining: 3.41s\n",
      "217:\tlearn: 0.3812526\ttotal: 948ms\tremaining: 3.4s\n",
      "218:\tlearn: 0.3810666\ttotal: 951ms\tremaining: 3.39s\n",
      "219:\tlearn: 0.3809495\ttotal: 954ms\tremaining: 3.38s\n",
      "220:\tlearn: 0.3808294\ttotal: 959ms\tremaining: 3.38s\n",
      "221:\tlearn: 0.3807290\ttotal: 961ms\tremaining: 3.37s\n",
      "222:\tlearn: 0.3805575\ttotal: 964ms\tremaining: 3.36s\n",
      "223:\tlearn: 0.3804378\ttotal: 967ms\tremaining: 3.35s\n",
      "224:\tlearn: 0.3803013\ttotal: 970ms\tremaining: 3.34s\n",
      "225:\tlearn: 0.3801538\ttotal: 974ms\tremaining: 3.34s\n",
      "226:\tlearn: 0.3798821\ttotal: 977ms\tremaining: 3.33s\n",
      "227:\tlearn: 0.3797281\ttotal: 980ms\tremaining: 3.32s\n",
      "228:\tlearn: 0.3795904\ttotal: 983ms\tremaining: 3.31s\n",
      "229:\tlearn: 0.3794234\ttotal: 985ms\tremaining: 3.3s\n",
      "230:\tlearn: 0.3792989\ttotal: 989ms\tremaining: 3.29s\n",
      "231:\tlearn: 0.3792244\ttotal: 992ms\tremaining: 3.28s\n",
      "232:\tlearn: 0.3791345\ttotal: 995ms\tremaining: 3.27s\n",
      "233:\tlearn: 0.3790200\ttotal: 998ms\tremaining: 3.27s\n",
      "234:\tlearn: 0.3788983\ttotal: 1s\tremaining: 3.26s\n",
      "235:\tlearn: 0.3787144\ttotal: 1s\tremaining: 3.25s\n",
      "236:\tlearn: 0.3785388\ttotal: 1.01s\tremaining: 3.24s\n",
      "237:\tlearn: 0.3783061\ttotal: 1.01s\tremaining: 3.23s\n",
      "238:\tlearn: 0.3782656\ttotal: 1.01s\tremaining: 3.23s\n",
      "239:\tlearn: 0.3781356\ttotal: 1.02s\tremaining: 3.22s\n",
      "240:\tlearn: 0.3779251\ttotal: 1.02s\tremaining: 3.21s\n",
      "241:\tlearn: 0.3777913\ttotal: 1.02s\tremaining: 3.2s\n",
      "242:\tlearn: 0.3776792\ttotal: 1.02s\tremaining: 3.19s\n",
      "243:\tlearn: 0.3775926\ttotal: 1.03s\tremaining: 3.18s\n",
      "244:\tlearn: 0.3774112\ttotal: 1.03s\tremaining: 3.18s\n",
      "245:\tlearn: 0.3772047\ttotal: 1.03s\tremaining: 3.17s\n",
      "246:\tlearn: 0.3770564\ttotal: 1.04s\tremaining: 3.16s\n",
      "247:\tlearn: 0.3769898\ttotal: 1.04s\tremaining: 3.15s\n",
      "248:\tlearn: 0.3767876\ttotal: 1.04s\tremaining: 3.14s\n",
      "249:\tlearn: 0.3765843\ttotal: 1.04s\tremaining: 3.14s\n",
      "250:\tlearn: 0.3764844\ttotal: 1.05s\tremaining: 3.13s\n",
      "251:\tlearn: 0.3763514\ttotal: 1.05s\tremaining: 3.12s\n",
      "252:\tlearn: 0.3761913\ttotal: 1.05s\tremaining: 3.12s\n",
      "253:\tlearn: 0.3760769\ttotal: 1.06s\tremaining: 3.11s\n",
      "254:\tlearn: 0.3758891\ttotal: 1.06s\tremaining: 3.1s\n",
      "255:\tlearn: 0.3757834\ttotal: 1.07s\tremaining: 3.1s\n",
      "256:\tlearn: 0.3756317\ttotal: 1.07s\tremaining: 3.09s\n",
      "257:\tlearn: 0.3754932\ttotal: 1.07s\tremaining: 3.09s\n",
      "258:\tlearn: 0.3752337\ttotal: 1.08s\tremaining: 3.08s\n",
      "259:\tlearn: 0.3750646\ttotal: 1.08s\tremaining: 3.08s\n",
      "260:\tlearn: 0.3749506\ttotal: 1.09s\tremaining: 3.08s\n",
      "261:\tlearn: 0.3748439\ttotal: 1.09s\tremaining: 3.07s\n",
      "262:\tlearn: 0.3747257\ttotal: 1.09s\tremaining: 3.06s\n",
      "263:\tlearn: 0.3746218\ttotal: 1.1s\tremaining: 3.06s\n",
      "264:\tlearn: 0.3744976\ttotal: 1.1s\tremaining: 3.05s\n",
      "265:\tlearn: 0.3743712\ttotal: 1.1s\tremaining: 3.05s\n",
      "266:\tlearn: 0.3742238\ttotal: 1.11s\tremaining: 3.04s\n",
      "267:\tlearn: 0.3741282\ttotal: 1.11s\tremaining: 3.04s\n",
      "268:\tlearn: 0.3739595\ttotal: 1.11s\tremaining: 3.03s\n",
      "269:\tlearn: 0.3738305\ttotal: 1.12s\tremaining: 3.03s\n",
      "270:\tlearn: 0.3736197\ttotal: 1.12s\tremaining: 3.02s\n",
      "271:\tlearn: 0.3734600\ttotal: 1.13s\tremaining: 3.02s\n",
      "272:\tlearn: 0.3733065\ttotal: 1.13s\tremaining: 3.01s\n",
      "273:\tlearn: 0.3731715\ttotal: 1.13s\tremaining: 3s\n",
      "274:\tlearn: 0.3730708\ttotal: 1.14s\tremaining: 3s\n",
      "275:\tlearn: 0.3729877\ttotal: 1.14s\tremaining: 2.99s\n",
      "276:\tlearn: 0.3728213\ttotal: 1.14s\tremaining: 2.99s\n",
      "277:\tlearn: 0.3726154\ttotal: 1.15s\tremaining: 2.98s\n",
      "278:\tlearn: 0.3723906\ttotal: 1.15s\tremaining: 2.98s\n",
      "279:\tlearn: 0.3722665\ttotal: 1.15s\tremaining: 2.97s\n",
      "280:\tlearn: 0.3721153\ttotal: 1.16s\tremaining: 2.96s\n",
      "281:\tlearn: 0.3718801\ttotal: 1.16s\tremaining: 2.96s\n",
      "282:\tlearn: 0.3717870\ttotal: 1.17s\tremaining: 2.95s\n",
      "283:\tlearn: 0.3716841\ttotal: 1.17s\tremaining: 2.95s\n",
      "284:\tlearn: 0.3714067\ttotal: 1.17s\tremaining: 2.94s\n",
      "285:\tlearn: 0.3713160\ttotal: 1.18s\tremaining: 2.94s\n",
      "286:\tlearn: 0.3713146\ttotal: 1.18s\tremaining: 2.93s\n",
      "287:\tlearn: 0.3712144\ttotal: 1.18s\tremaining: 2.92s\n",
      "288:\tlearn: 0.3711589\ttotal: 1.19s\tremaining: 2.92s\n",
      "289:\tlearn: 0.3710647\ttotal: 1.19s\tremaining: 2.91s\n",
      "290:\tlearn: 0.3708845\ttotal: 1.19s\tremaining: 2.91s\n",
      "291:\tlearn: 0.3707965\ttotal: 1.2s\tremaining: 2.9s\n",
      "292:\tlearn: 0.3706339\ttotal: 1.2s\tremaining: 2.9s\n",
      "293:\tlearn: 0.3705085\ttotal: 1.2s\tremaining: 2.89s\n",
      "294:\tlearn: 0.3703784\ttotal: 1.21s\tremaining: 2.88s\n",
      "295:\tlearn: 0.3702304\ttotal: 1.21s\tremaining: 2.88s\n",
      "296:\tlearn: 0.3701344\ttotal: 1.21s\tremaining: 2.87s\n",
      "297:\tlearn: 0.3700296\ttotal: 1.21s\tremaining: 2.86s\n",
      "298:\tlearn: 0.3700178\ttotal: 1.22s\tremaining: 2.85s\n",
      "299:\tlearn: 0.3698790\ttotal: 1.22s\tremaining: 2.84s\n",
      "300:\tlearn: 0.3697279\ttotal: 1.22s\tremaining: 2.84s\n",
      "301:\tlearn: 0.3696456\ttotal: 1.22s\tremaining: 2.83s\n",
      "302:\tlearn: 0.3695806\ttotal: 1.23s\tremaining: 2.82s\n",
      "303:\tlearn: 0.3694651\ttotal: 1.23s\tremaining: 2.82s\n",
      "304:\tlearn: 0.3694077\ttotal: 1.23s\tremaining: 2.81s\n",
      "305:\tlearn: 0.3693543\ttotal: 1.24s\tremaining: 2.8s\n",
      "306:\tlearn: 0.3692301\ttotal: 1.24s\tremaining: 2.8s\n",
      "307:\tlearn: 0.3691075\ttotal: 1.24s\tremaining: 2.79s\n",
      "308:\tlearn: 0.3689680\ttotal: 1.25s\tremaining: 2.79s\n",
      "309:\tlearn: 0.3689645\ttotal: 1.25s\tremaining: 2.78s\n",
      "310:\tlearn: 0.3687643\ttotal: 1.25s\tremaining: 2.77s\n",
      "311:\tlearn: 0.3687051\ttotal: 1.25s\tremaining: 2.77s\n",
      "312:\tlearn: 0.3685377\ttotal: 1.26s\tremaining: 2.77s\n",
      "313:\tlearn: 0.3683320\ttotal: 1.26s\tremaining: 2.76s\n",
      "314:\tlearn: 0.3683254\ttotal: 1.27s\tremaining: 2.75s\n",
      "315:\tlearn: 0.3680979\ttotal: 1.27s\tremaining: 2.75s\n",
      "316:\tlearn: 0.3678982\ttotal: 1.27s\tremaining: 2.74s\n",
      "317:\tlearn: 0.3678078\ttotal: 1.28s\tremaining: 2.74s\n",
      "318:\tlearn: 0.3676041\ttotal: 1.28s\tremaining: 2.73s\n",
      "319:\tlearn: 0.3675208\ttotal: 1.28s\tremaining: 2.73s\n",
      "320:\tlearn: 0.3673742\ttotal: 1.29s\tremaining: 2.72s\n",
      "321:\tlearn: 0.3671898\ttotal: 1.29s\tremaining: 2.72s\n",
      "322:\tlearn: 0.3671192\ttotal: 1.29s\tremaining: 2.71s\n",
      "323:\tlearn: 0.3669209\ttotal: 1.3s\tremaining: 2.71s\n",
      "324:\tlearn: 0.3667477\ttotal: 1.3s\tremaining: 2.71s\n",
      "325:\tlearn: 0.3666429\ttotal: 1.31s\tremaining: 2.7s\n",
      "326:\tlearn: 0.3665386\ttotal: 1.31s\tremaining: 2.69s\n",
      "327:\tlearn: 0.3664831\ttotal: 1.31s\tremaining: 2.69s\n",
      "328:\tlearn: 0.3663523\ttotal: 1.31s\tremaining: 2.68s\n",
      "329:\tlearn: 0.3661837\ttotal: 1.32s\tremaining: 2.68s\n",
      "330:\tlearn: 0.3660389\ttotal: 1.32s\tremaining: 2.67s\n",
      "331:\tlearn: 0.3658283\ttotal: 1.32s\tremaining: 2.67s\n",
      "332:\tlearn: 0.3656967\ttotal: 1.33s\tremaining: 2.66s\n",
      "333:\tlearn: 0.3656530\ttotal: 1.33s\tremaining: 2.66s\n",
      "334:\tlearn: 0.3656399\ttotal: 1.33s\tremaining: 2.65s\n",
      "335:\tlearn: 0.3654960\ttotal: 1.34s\tremaining: 2.65s\n",
      "336:\tlearn: 0.3654385\ttotal: 1.34s\tremaining: 2.64s\n",
      "337:\tlearn: 0.3653508\ttotal: 1.35s\tremaining: 2.64s\n",
      "338:\tlearn: 0.3652499\ttotal: 1.35s\tremaining: 2.63s\n",
      "339:\tlearn: 0.3651449\ttotal: 1.35s\tremaining: 2.63s\n",
      "340:\tlearn: 0.3651049\ttotal: 1.36s\tremaining: 2.62s\n",
      "341:\tlearn: 0.3650418\ttotal: 1.36s\tremaining: 2.62s\n",
      "342:\tlearn: 0.3648930\ttotal: 1.36s\tremaining: 2.61s\n",
      "343:\tlearn: 0.3647534\ttotal: 1.37s\tremaining: 2.61s\n",
      "344:\tlearn: 0.3645986\ttotal: 1.37s\tremaining: 2.6s\n",
      "345:\tlearn: 0.3644702\ttotal: 1.37s\tremaining: 2.6s\n",
      "346:\tlearn: 0.3643921\ttotal: 1.38s\tremaining: 2.59s\n",
      "347:\tlearn: 0.3642133\ttotal: 1.38s\tremaining: 2.59s\n",
      "348:\tlearn: 0.3641429\ttotal: 1.38s\tremaining: 2.58s\n",
      "349:\tlearn: 0.3639601\ttotal: 1.39s\tremaining: 2.58s\n",
      "350:\tlearn: 0.3637299\ttotal: 1.39s\tremaining: 2.57s\n",
      "351:\tlearn: 0.3636333\ttotal: 1.39s\tremaining: 2.57s\n",
      "352:\tlearn: 0.3635266\ttotal: 1.4s\tremaining: 2.56s\n",
      "353:\tlearn: 0.3634219\ttotal: 1.4s\tremaining: 2.56s\n",
      "354:\tlearn: 0.3633615\ttotal: 1.4s\tremaining: 2.55s\n",
      "355:\tlearn: 0.3633326\ttotal: 1.41s\tremaining: 2.54s\n",
      "356:\tlearn: 0.3631137\ttotal: 1.41s\tremaining: 2.54s\n",
      "357:\tlearn: 0.3630625\ttotal: 1.41s\tremaining: 2.53s\n",
      "358:\tlearn: 0.3629924\ttotal: 1.41s\tremaining: 2.52s\n",
      "359:\tlearn: 0.3628440\ttotal: 1.42s\tremaining: 2.52s\n",
      "360:\tlearn: 0.3627689\ttotal: 1.42s\tremaining: 2.51s\n",
      "361:\tlearn: 0.3626819\ttotal: 1.42s\tremaining: 2.51s\n"
     ]
    },
    {
     "name": "stdout",
     "output_type": "stream",
     "text": [
      "362:\tlearn: 0.3626149\ttotal: 1.43s\tremaining: 2.5s\n",
      "363:\tlearn: 0.3624873\ttotal: 1.43s\tremaining: 2.5s\n",
      "364:\tlearn: 0.3623678\ttotal: 1.43s\tremaining: 2.49s\n",
      "365:\tlearn: 0.3622806\ttotal: 1.44s\tremaining: 2.49s\n",
      "366:\tlearn: 0.3621936\ttotal: 1.44s\tremaining: 2.48s\n",
      "367:\tlearn: 0.3621031\ttotal: 1.44s\tremaining: 2.47s\n",
      "368:\tlearn: 0.3620072\ttotal: 1.44s\tremaining: 2.47s\n",
      "369:\tlearn: 0.3618939\ttotal: 1.45s\tremaining: 2.46s\n",
      "370:\tlearn: 0.3617343\ttotal: 1.45s\tremaining: 2.46s\n",
      "371:\tlearn: 0.3616363\ttotal: 1.45s\tremaining: 2.45s\n",
      "372:\tlearn: 0.3615987\ttotal: 1.46s\tremaining: 2.45s\n",
      "373:\tlearn: 0.3614943\ttotal: 1.46s\tremaining: 2.44s\n",
      "374:\tlearn: 0.3613133\ttotal: 1.46s\tremaining: 2.44s\n",
      "375:\tlearn: 0.3612154\ttotal: 1.47s\tremaining: 2.43s\n",
      "376:\tlearn: 0.3610210\ttotal: 1.47s\tremaining: 2.43s\n",
      "377:\tlearn: 0.3609479\ttotal: 1.47s\tremaining: 2.42s\n",
      "378:\tlearn: 0.3607981\ttotal: 1.48s\tremaining: 2.42s\n",
      "379:\tlearn: 0.3606070\ttotal: 1.48s\tremaining: 2.42s\n",
      "380:\tlearn: 0.3604745\ttotal: 1.49s\tremaining: 2.42s\n",
      "381:\tlearn: 0.3603811\ttotal: 1.49s\tremaining: 2.41s\n",
      "382:\tlearn: 0.3602679\ttotal: 1.49s\tremaining: 2.41s\n",
      "383:\tlearn: 0.3601996\ttotal: 1.5s\tremaining: 2.4s\n",
      "384:\tlearn: 0.3600379\ttotal: 1.5s\tremaining: 2.4s\n",
      "385:\tlearn: 0.3599389\ttotal: 1.5s\tremaining: 2.39s\n",
      "386:\tlearn: 0.3596893\ttotal: 1.51s\tremaining: 2.39s\n",
      "387:\tlearn: 0.3596057\ttotal: 1.51s\tremaining: 2.38s\n",
      "388:\tlearn: 0.3594541\ttotal: 1.51s\tremaining: 2.38s\n",
      "389:\tlearn: 0.3593089\ttotal: 1.52s\tremaining: 2.37s\n",
      "390:\tlearn: 0.3592169\ttotal: 1.52s\tremaining: 2.37s\n",
      "391:\tlearn: 0.3590826\ttotal: 1.52s\tremaining: 2.36s\n",
      "392:\tlearn: 0.3588462\ttotal: 1.53s\tremaining: 2.36s\n",
      "393:\tlearn: 0.3587919\ttotal: 1.53s\tremaining: 2.35s\n",
      "394:\tlearn: 0.3585684\ttotal: 1.53s\tremaining: 2.35s\n",
      "395:\tlearn: 0.3583802\ttotal: 1.54s\tremaining: 2.34s\n",
      "396:\tlearn: 0.3582010\ttotal: 1.54s\tremaining: 2.34s\n",
      "397:\tlearn: 0.3581101\ttotal: 1.54s\tremaining: 2.34s\n",
      "398:\tlearn: 0.3580178\ttotal: 1.55s\tremaining: 2.33s\n",
      "399:\tlearn: 0.3579087\ttotal: 1.55s\tremaining: 2.33s\n",
      "400:\tlearn: 0.3576983\ttotal: 1.55s\tremaining: 2.32s\n",
      "401:\tlearn: 0.3575591\ttotal: 1.56s\tremaining: 2.32s\n",
      "402:\tlearn: 0.3575063\ttotal: 1.56s\tremaining: 2.31s\n",
      "403:\tlearn: 0.3573936\ttotal: 1.57s\tremaining: 2.31s\n",
      "404:\tlearn: 0.3572537\ttotal: 1.57s\tremaining: 2.31s\n",
      "405:\tlearn: 0.3571267\ttotal: 1.57s\tremaining: 2.3s\n",
      "406:\tlearn: 0.3570901\ttotal: 1.58s\tremaining: 2.3s\n",
      "407:\tlearn: 0.3570111\ttotal: 1.58s\tremaining: 2.3s\n",
      "408:\tlearn: 0.3569318\ttotal: 1.59s\tremaining: 2.29s\n",
      "409:\tlearn: 0.3568270\ttotal: 1.59s\tremaining: 2.29s\n",
      "410:\tlearn: 0.3567150\ttotal: 1.59s\tremaining: 2.29s\n",
      "411:\tlearn: 0.3564376\ttotal: 1.6s\tremaining: 2.28s\n",
      "412:\tlearn: 0.3564304\ttotal: 1.6s\tremaining: 2.28s\n",
      "413:\tlearn: 0.3563303\ttotal: 1.61s\tremaining: 2.27s\n",
      "414:\tlearn: 0.3562164\ttotal: 1.61s\tremaining: 2.27s\n",
      "415:\tlearn: 0.3561061\ttotal: 1.61s\tremaining: 2.27s\n",
      "416:\tlearn: 0.3559974\ttotal: 1.62s\tremaining: 2.26s\n",
      "417:\tlearn: 0.3557633\ttotal: 1.62s\tremaining: 2.26s\n",
      "418:\tlearn: 0.3556053\ttotal: 1.63s\tremaining: 2.26s\n",
      "419:\tlearn: 0.3554586\ttotal: 1.63s\tremaining: 2.26s\n",
      "420:\tlearn: 0.3553563\ttotal: 1.64s\tremaining: 2.25s\n",
      "421:\tlearn: 0.3552329\ttotal: 1.64s\tremaining: 2.25s\n",
      "422:\tlearn: 0.3551042\ttotal: 1.65s\tremaining: 2.25s\n",
      "423:\tlearn: 0.3550308\ttotal: 1.65s\tremaining: 2.24s\n",
      "424:\tlearn: 0.3549021\ttotal: 1.66s\tremaining: 2.24s\n",
      "425:\tlearn: 0.3547614\ttotal: 1.66s\tremaining: 2.24s\n",
      "426:\tlearn: 0.3546331\ttotal: 1.67s\tremaining: 2.23s\n",
      "427:\tlearn: 0.3545726\ttotal: 1.67s\tremaining: 2.23s\n",
      "428:\tlearn: 0.3544515\ttotal: 1.67s\tremaining: 2.23s\n",
      "429:\tlearn: 0.3543592\ttotal: 1.68s\tremaining: 2.22s\n",
      "430:\tlearn: 0.3542226\ttotal: 1.68s\tremaining: 2.22s\n",
      "431:\tlearn: 0.3540830\ttotal: 1.69s\tremaining: 2.21s\n",
      "432:\tlearn: 0.3540276\ttotal: 1.69s\tremaining: 2.21s\n",
      "433:\tlearn: 0.3539353\ttotal: 1.69s\tremaining: 2.21s\n",
      "434:\tlearn: 0.3537461\ttotal: 1.7s\tremaining: 2.2s\n",
      "435:\tlearn: 0.3536516\ttotal: 1.7s\tremaining: 2.2s\n",
      "436:\tlearn: 0.3535351\ttotal: 1.7s\tremaining: 2.19s\n",
      "437:\tlearn: 0.3534105\ttotal: 1.71s\tremaining: 2.19s\n",
      "438:\tlearn: 0.3533255\ttotal: 1.71s\tremaining: 2.19s\n",
      "439:\tlearn: 0.3532092\ttotal: 1.72s\tremaining: 2.18s\n",
      "440:\tlearn: 0.3531013\ttotal: 1.72s\tremaining: 2.18s\n",
      "441:\tlearn: 0.3529749\ttotal: 1.72s\tremaining: 2.17s\n",
      "442:\tlearn: 0.3528773\ttotal: 1.72s\tremaining: 2.17s\n",
      "443:\tlearn: 0.3527509\ttotal: 1.73s\tremaining: 2.16s\n",
      "444:\tlearn: 0.3526345\ttotal: 1.73s\tremaining: 2.16s\n",
      "445:\tlearn: 0.3525286\ttotal: 1.73s\tremaining: 2.15s\n",
      "446:\tlearn: 0.3524498\ttotal: 1.74s\tremaining: 2.15s\n",
      "447:\tlearn: 0.3523146\ttotal: 1.74s\tremaining: 2.14s\n",
      "448:\tlearn: 0.3521906\ttotal: 1.74s\tremaining: 2.14s\n",
      "449:\tlearn: 0.3520482\ttotal: 1.74s\tremaining: 2.13s\n",
      "450:\tlearn: 0.3519151\ttotal: 1.75s\tremaining: 2.13s\n",
      "451:\tlearn: 0.3517791\ttotal: 1.75s\tremaining: 2.12s\n",
      "452:\tlearn: 0.3516288\ttotal: 1.75s\tremaining: 2.12s\n",
      "453:\tlearn: 0.3515206\ttotal: 1.75s\tremaining: 2.11s\n",
      "454:\tlearn: 0.3513740\ttotal: 1.76s\tremaining: 2.11s\n",
      "455:\tlearn: 0.3512059\ttotal: 1.76s\tremaining: 2.1s\n",
      "456:\tlearn: 0.3510450\ttotal: 1.76s\tremaining: 2.1s\n",
      "457:\tlearn: 0.3509528\ttotal: 1.77s\tremaining: 2.09s\n",
      "458:\tlearn: 0.3507835\ttotal: 1.77s\tremaining: 2.09s\n",
      "459:\tlearn: 0.3506959\ttotal: 1.77s\tremaining: 2.08s\n",
      "460:\tlearn: 0.3506029\ttotal: 1.78s\tremaining: 2.08s\n",
      "461:\tlearn: 0.3504885\ttotal: 1.78s\tremaining: 2.07s\n",
      "462:\tlearn: 0.3503983\ttotal: 1.78s\tremaining: 2.07s\n",
      "463:\tlearn: 0.3502303\ttotal: 1.79s\tremaining: 2.06s\n",
      "464:\tlearn: 0.3500789\ttotal: 1.79s\tremaining: 2.06s\n",
      "465:\tlearn: 0.3499949\ttotal: 1.79s\tremaining: 2.05s\n",
      "466:\tlearn: 0.3498930\ttotal: 1.8s\tremaining: 2.05s\n",
      "467:\tlearn: 0.3497823\ttotal: 1.8s\tremaining: 2.05s\n",
      "468:\tlearn: 0.3496471\ttotal: 1.8s\tremaining: 2.04s\n",
      "469:\tlearn: 0.3494822\ttotal: 1.81s\tremaining: 2.04s\n",
      "470:\tlearn: 0.3493744\ttotal: 1.81s\tremaining: 2.03s\n",
      "471:\tlearn: 0.3492394\ttotal: 1.81s\tremaining: 2.03s\n",
      "472:\tlearn: 0.3491089\ttotal: 1.81s\tremaining: 2.02s\n",
      "473:\tlearn: 0.3490242\ttotal: 1.82s\tremaining: 2.02s\n",
      "474:\tlearn: 0.3489054\ttotal: 1.82s\tremaining: 2.01s\n",
      "475:\tlearn: 0.3487918\ttotal: 1.82s\tremaining: 2.01s\n",
      "476:\tlearn: 0.3487110\ttotal: 1.83s\tremaining: 2s\n",
      "477:\tlearn: 0.3485700\ttotal: 1.83s\tremaining: 2s\n",
      "478:\tlearn: 0.3484930\ttotal: 1.83s\tremaining: 1.99s\n",
      "479:\tlearn: 0.3483900\ttotal: 1.83s\tremaining: 1.99s\n",
      "480:\tlearn: 0.3482768\ttotal: 1.85s\tremaining: 2s\n",
      "481:\tlearn: 0.3481841\ttotal: 1.87s\tremaining: 2.01s\n",
      "482:\tlearn: 0.3480447\ttotal: 1.87s\tremaining: 2s\n",
      "483:\tlearn: 0.3479459\ttotal: 1.87s\tremaining: 2s\n",
      "484:\tlearn: 0.3478395\ttotal: 1.87s\tremaining: 1.99s\n",
      "485:\tlearn: 0.3477276\ttotal: 1.88s\tremaining: 1.99s\n",
      "486:\tlearn: 0.3476989\ttotal: 1.88s\tremaining: 1.98s\n",
      "487:\tlearn: 0.3476135\ttotal: 1.88s\tremaining: 1.97s\n",
      "488:\tlearn: 0.3474899\ttotal: 1.88s\tremaining: 1.97s\n",
      "489:\tlearn: 0.3473817\ttotal: 1.9s\tremaining: 1.97s\n",
      "490:\tlearn: 0.3472914\ttotal: 1.9s\tremaining: 1.97s\n",
      "491:\tlearn: 0.3471507\ttotal: 1.9s\tremaining: 1.96s\n",
      "492:\tlearn: 0.3470151\ttotal: 1.9s\tremaining: 1.96s\n",
      "493:\tlearn: 0.3469317\ttotal: 1.91s\tremaining: 1.95s\n",
      "494:\tlearn: 0.3467808\ttotal: 1.91s\tremaining: 1.95s\n",
      "495:\tlearn: 0.3466511\ttotal: 1.91s\tremaining: 1.94s\n",
      "496:\tlearn: 0.3465063\ttotal: 1.92s\tremaining: 1.94s\n",
      "497:\tlearn: 0.3464297\ttotal: 1.92s\tremaining: 1.93s\n",
      "498:\tlearn: 0.3463420\ttotal: 1.92s\tremaining: 1.93s\n",
      "499:\tlearn: 0.3462241\ttotal: 1.92s\tremaining: 1.92s\n",
      "500:\tlearn: 0.3461062\ttotal: 1.93s\tremaining: 1.92s\n",
      "501:\tlearn: 0.3459407\ttotal: 1.93s\tremaining: 1.91s\n",
      "502:\tlearn: 0.3458557\ttotal: 1.93s\tremaining: 1.91s\n",
      "503:\tlearn: 0.3457555\ttotal: 1.94s\tremaining: 1.9s\n",
      "504:\tlearn: 0.3457041\ttotal: 1.94s\tremaining: 1.9s\n",
      "505:\tlearn: 0.3456146\ttotal: 1.94s\tremaining: 1.89s\n",
      "506:\tlearn: 0.3455313\ttotal: 1.94s\tremaining: 1.89s\n",
      "507:\tlearn: 0.3454426\ttotal: 1.95s\tremaining: 1.89s\n",
      "508:\tlearn: 0.3453184\ttotal: 1.95s\tremaining: 1.88s\n",
      "509:\tlearn: 0.3452427\ttotal: 1.95s\tremaining: 1.88s\n",
      "510:\tlearn: 0.3451158\ttotal: 1.96s\tremaining: 1.87s\n",
      "511:\tlearn: 0.3450389\ttotal: 1.96s\tremaining: 1.87s\n",
      "512:\tlearn: 0.3449231\ttotal: 1.96s\tremaining: 1.86s\n",
      "513:\tlearn: 0.3448370\ttotal: 1.96s\tremaining: 1.86s\n",
      "514:\tlearn: 0.3446973\ttotal: 1.97s\tremaining: 1.85s\n",
      "515:\tlearn: 0.3446104\ttotal: 1.97s\tremaining: 1.85s\n",
      "516:\tlearn: 0.3444081\ttotal: 1.97s\tremaining: 1.84s\n",
      "517:\tlearn: 0.3442657\ttotal: 1.98s\tremaining: 1.84s\n",
      "518:\tlearn: 0.3441126\ttotal: 1.98s\tremaining: 1.83s\n",
      "519:\tlearn: 0.3439980\ttotal: 1.98s\tremaining: 1.83s\n",
      "520:\tlearn: 0.3439334\ttotal: 1.99s\tremaining: 1.82s\n",
      "521:\tlearn: 0.3438851\ttotal: 1.99s\tremaining: 1.82s\n",
      "522:\tlearn: 0.3437599\ttotal: 1.99s\tremaining: 1.82s\n",
      "523:\tlearn: 0.3437321\ttotal: 1.99s\tremaining: 1.81s\n",
      "524:\tlearn: 0.3436417\ttotal: 2s\tremaining: 1.81s\n",
      "525:\tlearn: 0.3435488\ttotal: 2s\tremaining: 1.8s\n",
      "526:\tlearn: 0.3435017\ttotal: 2s\tremaining: 1.8s\n",
      "527:\tlearn: 0.3434681\ttotal: 2s\tremaining: 1.79s\n",
      "528:\tlearn: 0.3433494\ttotal: 2.01s\tremaining: 1.79s\n",
      "529:\tlearn: 0.3432317\ttotal: 2.01s\tremaining: 1.78s\n",
      "530:\tlearn: 0.3431873\ttotal: 2.01s\tremaining: 1.78s\n",
      "531:\tlearn: 0.3430686\ttotal: 2.02s\tremaining: 1.77s\n",
      "532:\tlearn: 0.3429573\ttotal: 2.02s\tremaining: 1.77s\n",
      "533:\tlearn: 0.3428723\ttotal: 2.02s\tremaining: 1.76s\n",
      "534:\tlearn: 0.3427186\ttotal: 2.02s\tremaining: 1.76s\n",
      "535:\tlearn: 0.3426534\ttotal: 2.03s\tremaining: 1.75s\n",
      "536:\tlearn: 0.3425748\ttotal: 2.03s\tremaining: 1.75s\n",
      "537:\tlearn: 0.3424545\ttotal: 2.03s\tremaining: 1.75s\n",
      "538:\tlearn: 0.3423448\ttotal: 2.04s\tremaining: 1.74s\n",
      "539:\tlearn: 0.3422681\ttotal: 2.04s\tremaining: 1.74s\n",
      "540:\tlearn: 0.3422064\ttotal: 2.04s\tremaining: 1.73s\n",
      "541:\tlearn: 0.3421032\ttotal: 2.04s\tremaining: 1.73s\n",
      "542:\tlearn: 0.3419626\ttotal: 2.05s\tremaining: 1.72s\n",
      "543:\tlearn: 0.3418568\ttotal: 2.05s\tremaining: 1.72s\n",
      "544:\tlearn: 0.3417193\ttotal: 2.05s\tremaining: 1.71s\n",
      "545:\tlearn: 0.3416417\ttotal: 2.06s\tremaining: 1.71s\n",
      "546:\tlearn: 0.3415467\ttotal: 2.06s\tremaining: 1.71s\n",
      "547:\tlearn: 0.3414693\ttotal: 2.06s\tremaining: 1.7s\n",
      "548:\tlearn: 0.3413294\ttotal: 2.06s\tremaining: 1.7s\n",
      "549:\tlearn: 0.3412703\ttotal: 2.07s\tremaining: 1.69s\n",
      "550:\tlearn: 0.3412351\ttotal: 2.07s\tremaining: 1.69s\n",
      "551:\tlearn: 0.3411952\ttotal: 2.07s\tremaining: 1.68s\n",
      "552:\tlearn: 0.3410745\ttotal: 2.08s\tremaining: 1.68s\n",
      "553:\tlearn: 0.3410037\ttotal: 2.08s\tremaining: 1.67s\n",
      "554:\tlearn: 0.3408959\ttotal: 2.08s\tremaining: 1.67s\n",
      "555:\tlearn: 0.3407022\ttotal: 2.09s\tremaining: 1.67s\n",
      "556:\tlearn: 0.3406237\ttotal: 2.09s\tremaining: 1.66s\n",
      "557:\tlearn: 0.3405371\ttotal: 2.09s\tremaining: 1.66s\n",
      "558:\tlearn: 0.3404711\ttotal: 2.1s\tremaining: 1.65s\n",
      "559:\tlearn: 0.3403693\ttotal: 2.1s\tremaining: 1.65s\n",
      "560:\tlearn: 0.3402742\ttotal: 2.1s\tremaining: 1.65s\n",
      "561:\tlearn: 0.3402369\ttotal: 2.11s\tremaining: 1.64s\n",
      "562:\tlearn: 0.3401154\ttotal: 2.11s\tremaining: 1.64s\n",
      "563:\tlearn: 0.3400459\ttotal: 2.11s\tremaining: 1.63s\n",
      "564:\tlearn: 0.3399305\ttotal: 2.12s\tremaining: 1.63s\n",
      "565:\tlearn: 0.3398923\ttotal: 2.12s\tremaining: 1.63s\n",
      "566:\tlearn: 0.3398575\ttotal: 2.13s\tremaining: 1.62s\n",
      "567:\tlearn: 0.3398274\ttotal: 2.13s\tremaining: 1.62s\n",
      "568:\tlearn: 0.3397282\ttotal: 2.13s\tremaining: 1.61s\n"
     ]
    },
    {
     "name": "stdout",
     "output_type": "stream",
     "text": [
      "569:\tlearn: 0.3396137\ttotal: 2.14s\tremaining: 1.61s\n",
      "570:\tlearn: 0.3395851\ttotal: 2.14s\tremaining: 1.61s\n",
      "571:\tlearn: 0.3394935\ttotal: 2.14s\tremaining: 1.6s\n",
      "572:\tlearn: 0.3394732\ttotal: 2.15s\tremaining: 1.6s\n",
      "573:\tlearn: 0.3393897\ttotal: 2.15s\tremaining: 1.6s\n",
      "574:\tlearn: 0.3393104\ttotal: 2.15s\tremaining: 1.59s\n",
      "575:\tlearn: 0.3391904\ttotal: 2.16s\tremaining: 1.59s\n",
      "576:\tlearn: 0.3389873\ttotal: 2.16s\tremaining: 1.59s\n",
      "577:\tlearn: 0.3388839\ttotal: 2.17s\tremaining: 1.58s\n",
      "578:\tlearn: 0.3388163\ttotal: 2.17s\tremaining: 1.58s\n",
      "579:\tlearn: 0.3387190\ttotal: 2.17s\tremaining: 1.57s\n",
      "580:\tlearn: 0.3386530\ttotal: 2.18s\tremaining: 1.57s\n",
      "581:\tlearn: 0.3385215\ttotal: 2.18s\tremaining: 1.57s\n",
      "582:\tlearn: 0.3384642\ttotal: 2.19s\tremaining: 1.56s\n",
      "583:\tlearn: 0.3383549\ttotal: 2.19s\tremaining: 1.56s\n",
      "584:\tlearn: 0.3382342\ttotal: 2.19s\tremaining: 1.56s\n",
      "585:\tlearn: 0.3381647\ttotal: 2.2s\tremaining: 1.55s\n",
      "586:\tlearn: 0.3379806\ttotal: 2.2s\tremaining: 1.55s\n",
      "587:\tlearn: 0.3379107\ttotal: 2.21s\tremaining: 1.55s\n",
      "588:\tlearn: 0.3377228\ttotal: 2.21s\tremaining: 1.54s\n",
      "589:\tlearn: 0.3376120\ttotal: 2.21s\tremaining: 1.54s\n",
      "590:\tlearn: 0.3375837\ttotal: 2.22s\tremaining: 1.53s\n",
      "591:\tlearn: 0.3374894\ttotal: 2.22s\tremaining: 1.53s\n",
      "592:\tlearn: 0.3373722\ttotal: 2.23s\tremaining: 1.53s\n",
      "593:\tlearn: 0.3372792\ttotal: 2.23s\tremaining: 1.52s\n",
      "594:\tlearn: 0.3371883\ttotal: 2.23s\tremaining: 1.52s\n",
      "595:\tlearn: 0.3371089\ttotal: 2.24s\tremaining: 1.52s\n",
      "596:\tlearn: 0.3370019\ttotal: 2.24s\tremaining: 1.51s\n",
      "597:\tlearn: 0.3369486\ttotal: 2.25s\tremaining: 1.51s\n",
      "598:\tlearn: 0.3368232\ttotal: 2.25s\tremaining: 1.5s\n",
      "599:\tlearn: 0.3367564\ttotal: 2.25s\tremaining: 1.5s\n",
      "600:\tlearn: 0.3367186\ttotal: 2.26s\tremaining: 1.5s\n",
      "601:\tlearn: 0.3366628\ttotal: 2.26s\tremaining: 1.49s\n",
      "602:\tlearn: 0.3365725\ttotal: 2.26s\tremaining: 1.49s\n",
      "603:\tlearn: 0.3364896\ttotal: 2.27s\tremaining: 1.49s\n",
      "604:\tlearn: 0.3364492\ttotal: 2.27s\tremaining: 1.48s\n",
      "605:\tlearn: 0.3363499\ttotal: 2.27s\tremaining: 1.48s\n",
      "606:\tlearn: 0.3362713\ttotal: 2.28s\tremaining: 1.48s\n",
      "607:\tlearn: 0.3362353\ttotal: 2.28s\tremaining: 1.47s\n",
      "608:\tlearn: 0.3361272\ttotal: 2.29s\tremaining: 1.47s\n",
      "609:\tlearn: 0.3359674\ttotal: 2.29s\tremaining: 1.46s\n",
      "610:\tlearn: 0.3357762\ttotal: 2.29s\tremaining: 1.46s\n",
      "611:\tlearn: 0.3357209\ttotal: 2.29s\tremaining: 1.46s\n",
      "612:\tlearn: 0.3356205\ttotal: 2.3s\tremaining: 1.45s\n",
      "613:\tlearn: 0.3355970\ttotal: 2.3s\tremaining: 1.45s\n",
      "614:\tlearn: 0.3354296\ttotal: 2.31s\tremaining: 1.44s\n",
      "615:\tlearn: 0.3353001\ttotal: 2.31s\tremaining: 1.44s\n",
      "616:\tlearn: 0.3351310\ttotal: 2.31s\tremaining: 1.44s\n",
      "617:\tlearn: 0.3350360\ttotal: 2.32s\tremaining: 1.43s\n",
      "618:\tlearn: 0.3349168\ttotal: 2.32s\tremaining: 1.43s\n",
      "619:\tlearn: 0.3348926\ttotal: 2.33s\tremaining: 1.43s\n",
      "620:\tlearn: 0.3348052\ttotal: 2.33s\tremaining: 1.42s\n",
      "621:\tlearn: 0.3347030\ttotal: 2.33s\tremaining: 1.42s\n",
      "622:\tlearn: 0.3345963\ttotal: 2.34s\tremaining: 1.41s\n",
      "623:\tlearn: 0.3345079\ttotal: 2.34s\tremaining: 1.41s\n",
      "624:\tlearn: 0.3343959\ttotal: 2.34s\tremaining: 1.41s\n",
      "625:\tlearn: 0.3343217\ttotal: 2.35s\tremaining: 1.4s\n",
      "626:\tlearn: 0.3342477\ttotal: 2.35s\tremaining: 1.4s\n",
      "627:\tlearn: 0.3341532\ttotal: 2.35s\tremaining: 1.39s\n",
      "628:\tlearn: 0.3340247\ttotal: 2.35s\tremaining: 1.39s\n",
      "629:\tlearn: 0.3339396\ttotal: 2.36s\tremaining: 1.38s\n",
      "630:\tlearn: 0.3338398\ttotal: 2.36s\tremaining: 1.38s\n",
      "631:\tlearn: 0.3337495\ttotal: 2.36s\tremaining: 1.38s\n",
      "632:\tlearn: 0.3336424\ttotal: 2.37s\tremaining: 1.37s\n",
      "633:\tlearn: 0.3335297\ttotal: 2.37s\tremaining: 1.37s\n",
      "634:\tlearn: 0.3334426\ttotal: 2.37s\tremaining: 1.36s\n",
      "635:\tlearn: 0.3332714\ttotal: 2.37s\tremaining: 1.36s\n",
      "636:\tlearn: 0.3332381\ttotal: 2.38s\tremaining: 1.35s\n",
      "637:\tlearn: 0.3330827\ttotal: 2.38s\tremaining: 1.35s\n",
      "638:\tlearn: 0.3329431\ttotal: 2.38s\tremaining: 1.35s\n",
      "639:\tlearn: 0.3328855\ttotal: 2.38s\tremaining: 1.34s\n",
      "640:\tlearn: 0.3327870\ttotal: 2.39s\tremaining: 1.34s\n",
      "641:\tlearn: 0.3327220\ttotal: 2.39s\tremaining: 1.33s\n",
      "642:\tlearn: 0.3326311\ttotal: 2.39s\tremaining: 1.33s\n",
      "643:\tlearn: 0.3325659\ttotal: 2.4s\tremaining: 1.32s\n",
      "644:\tlearn: 0.3324319\ttotal: 2.4s\tremaining: 1.32s\n",
      "645:\tlearn: 0.3323623\ttotal: 2.4s\tremaining: 1.32s\n",
      "646:\tlearn: 0.3322317\ttotal: 2.4s\tremaining: 1.31s\n",
      "647:\tlearn: 0.3321335\ttotal: 2.41s\tremaining: 1.31s\n",
      "648:\tlearn: 0.3321056\ttotal: 2.41s\tremaining: 1.3s\n",
      "649:\tlearn: 0.3320262\ttotal: 2.41s\tremaining: 1.3s\n",
      "650:\tlearn: 0.3319183\ttotal: 2.42s\tremaining: 1.29s\n",
      "651:\tlearn: 0.3318268\ttotal: 2.42s\tremaining: 1.29s\n",
      "652:\tlearn: 0.3317633\ttotal: 2.42s\tremaining: 1.29s\n",
      "653:\tlearn: 0.3316759\ttotal: 2.42s\tremaining: 1.28s\n",
      "654:\tlearn: 0.3315658\ttotal: 2.43s\tremaining: 1.28s\n",
      "655:\tlearn: 0.3314749\ttotal: 2.43s\tremaining: 1.27s\n",
      "656:\tlearn: 0.3313818\ttotal: 2.43s\tremaining: 1.27s\n",
      "657:\tlearn: 0.3313504\ttotal: 2.44s\tremaining: 1.27s\n",
      "658:\tlearn: 0.3312849\ttotal: 2.44s\tremaining: 1.26s\n",
      "659:\tlearn: 0.3311761\ttotal: 2.44s\tremaining: 1.26s\n",
      "660:\tlearn: 0.3311057\ttotal: 2.45s\tremaining: 1.25s\n",
      "661:\tlearn: 0.3310884\ttotal: 2.45s\tremaining: 1.25s\n",
      "662:\tlearn: 0.3309153\ttotal: 2.45s\tremaining: 1.25s\n",
      "663:\tlearn: 0.3308015\ttotal: 2.46s\tremaining: 1.24s\n",
      "664:\tlearn: 0.3307685\ttotal: 2.46s\tremaining: 1.24s\n",
      "665:\tlearn: 0.3306595\ttotal: 2.46s\tremaining: 1.23s\n",
      "666:\tlearn: 0.3305133\ttotal: 2.46s\tremaining: 1.23s\n",
      "667:\tlearn: 0.3303979\ttotal: 2.47s\tremaining: 1.23s\n",
      "668:\tlearn: 0.3303815\ttotal: 2.47s\tremaining: 1.22s\n",
      "669:\tlearn: 0.3302950\ttotal: 2.47s\tremaining: 1.22s\n",
      "670:\tlearn: 0.3301923\ttotal: 2.48s\tremaining: 1.21s\n",
      "671:\tlearn: 0.3300702\ttotal: 2.48s\tremaining: 1.21s\n",
      "672:\tlearn: 0.3299417\ttotal: 2.48s\tremaining: 1.21s\n",
      "673:\tlearn: 0.3298425\ttotal: 2.48s\tremaining: 1.2s\n",
      "674:\tlearn: 0.3297563\ttotal: 2.49s\tremaining: 1.2s\n",
      "675:\tlearn: 0.3296925\ttotal: 2.49s\tremaining: 1.19s\n",
      "676:\tlearn: 0.3295925\ttotal: 2.49s\tremaining: 1.19s\n",
      "677:\tlearn: 0.3295257\ttotal: 2.5s\tremaining: 1.19s\n",
      "678:\tlearn: 0.3294342\ttotal: 2.5s\tremaining: 1.18s\n",
      "679:\tlearn: 0.3293196\ttotal: 2.5s\tremaining: 1.18s\n",
      "680:\tlearn: 0.3292284\ttotal: 2.51s\tremaining: 1.17s\n",
      "681:\tlearn: 0.3291405\ttotal: 2.51s\tremaining: 1.17s\n",
      "682:\tlearn: 0.3290912\ttotal: 2.51s\tremaining: 1.17s\n",
      "683:\tlearn: 0.3289263\ttotal: 2.52s\tremaining: 1.16s\n",
      "684:\tlearn: 0.3287820\ttotal: 2.52s\tremaining: 1.16s\n",
      "685:\tlearn: 0.3287002\ttotal: 2.52s\tremaining: 1.16s\n",
      "686:\tlearn: 0.3285438\ttotal: 2.53s\tremaining: 1.15s\n",
      "687:\tlearn: 0.3284497\ttotal: 2.53s\tremaining: 1.15s\n",
      "688:\tlearn: 0.3282892\ttotal: 2.53s\tremaining: 1.14s\n",
      "689:\tlearn: 0.3281509\ttotal: 2.54s\tremaining: 1.14s\n",
      "690:\tlearn: 0.3280847\ttotal: 2.54s\tremaining: 1.14s\n",
      "691:\tlearn: 0.3279803\ttotal: 2.54s\tremaining: 1.13s\n",
      "692:\tlearn: 0.3278971\ttotal: 2.55s\tremaining: 1.13s\n",
      "693:\tlearn: 0.3278533\ttotal: 2.55s\tremaining: 1.12s\n",
      "694:\tlearn: 0.3277624\ttotal: 2.55s\tremaining: 1.12s\n",
      "695:\tlearn: 0.3277025\ttotal: 2.56s\tremaining: 1.12s\n",
      "696:\tlearn: 0.3276230\ttotal: 2.56s\tremaining: 1.11s\n",
      "697:\tlearn: 0.3275686\ttotal: 2.56s\tremaining: 1.11s\n",
      "698:\tlearn: 0.3275184\ttotal: 2.56s\tremaining: 1.1s\n",
      "699:\tlearn: 0.3274411\ttotal: 2.57s\tremaining: 1.1s\n",
      "700:\tlearn: 0.3272175\ttotal: 2.57s\tremaining: 1.1s\n",
      "701:\tlearn: 0.3270744\ttotal: 2.57s\tremaining: 1.09s\n",
      "702:\tlearn: 0.3269911\ttotal: 2.58s\tremaining: 1.09s\n",
      "703:\tlearn: 0.3269443\ttotal: 2.58s\tremaining: 1.08s\n",
      "704:\tlearn: 0.3268477\ttotal: 2.58s\tremaining: 1.08s\n",
      "705:\tlearn: 0.3267434\ttotal: 2.58s\tremaining: 1.08s\n",
      "706:\tlearn: 0.3266135\ttotal: 2.59s\tremaining: 1.07s\n",
      "707:\tlearn: 0.3265326\ttotal: 2.59s\tremaining: 1.07s\n",
      "708:\tlearn: 0.3265128\ttotal: 2.59s\tremaining: 1.06s\n",
      "709:\tlearn: 0.3263741\ttotal: 2.59s\tremaining: 1.06s\n",
      "710:\tlearn: 0.3263237\ttotal: 2.6s\tremaining: 1.06s\n",
      "711:\tlearn: 0.3261925\ttotal: 2.6s\tremaining: 1.05s\n",
      "712:\tlearn: 0.3260771\ttotal: 2.6s\tremaining: 1.05s\n",
      "713:\tlearn: 0.3259753\ttotal: 2.61s\tremaining: 1.04s\n",
      "714:\tlearn: 0.3258971\ttotal: 2.61s\tremaining: 1.04s\n",
      "715:\tlearn: 0.3258410\ttotal: 2.61s\tremaining: 1.04s\n",
      "716:\tlearn: 0.3257902\ttotal: 2.62s\tremaining: 1.03s\n",
      "717:\tlearn: 0.3257012\ttotal: 2.62s\tremaining: 1.03s\n",
      "718:\tlearn: 0.3256242\ttotal: 2.62s\tremaining: 1.02s\n",
      "719:\tlearn: 0.3254880\ttotal: 2.62s\tremaining: 1.02s\n",
      "720:\tlearn: 0.3254690\ttotal: 2.63s\tremaining: 1.02s\n",
      "721:\tlearn: 0.3253292\ttotal: 2.63s\tremaining: 1.01s\n",
      "722:\tlearn: 0.3252036\ttotal: 2.63s\tremaining: 1.01s\n",
      "723:\tlearn: 0.3250939\ttotal: 2.63s\tremaining: 1s\n",
      "724:\tlearn: 0.3250061\ttotal: 2.64s\tremaining: 1s\n",
      "725:\tlearn: 0.3249469\ttotal: 2.64s\tremaining: 996ms\n",
      "726:\tlearn: 0.3248371\ttotal: 2.64s\tremaining: 992ms\n",
      "727:\tlearn: 0.3247478\ttotal: 2.65s\tremaining: 988ms\n",
      "728:\tlearn: 0.3246203\ttotal: 2.65s\tremaining: 985ms\n",
      "729:\tlearn: 0.3244087\ttotal: 2.65s\tremaining: 981ms\n",
      "730:\tlearn: 0.3242658\ttotal: 2.65s\tremaining: 977ms\n",
      "731:\tlearn: 0.3241139\ttotal: 2.66s\tremaining: 973ms\n",
      "732:\tlearn: 0.3240482\ttotal: 2.66s\tremaining: 969ms\n"
     ]
    },
    {
     "name": "stdout",
     "output_type": "stream",
     "text": [
      "733:\tlearn: 0.3239163\ttotal: 2.66s\tremaining: 965ms\n",
      "734:\tlearn: 0.3238300\ttotal: 2.67s\tremaining: 961ms\n",
      "735:\tlearn: 0.3237220\ttotal: 2.67s\tremaining: 957ms\n",
      "736:\tlearn: 0.3236547\ttotal: 2.67s\tremaining: 954ms\n",
      "737:\tlearn: 0.3235475\ttotal: 2.69s\tremaining: 954ms\n",
      "738:\tlearn: 0.3234507\ttotal: 2.69s\tremaining: 950ms\n",
      "739:\tlearn: 0.3233069\ttotal: 2.69s\tremaining: 946ms\n",
      "740:\tlearn: 0.3232007\ttotal: 2.69s\tremaining: 942ms\n",
      "741:\tlearn: 0.3230308\ttotal: 2.7s\tremaining: 938ms\n",
      "742:\tlearn: 0.3228632\ttotal: 2.7s\tremaining: 934ms\n",
      "743:\tlearn: 0.3227599\ttotal: 2.7s\tremaining: 930ms\n",
      "744:\tlearn: 0.3226820\ttotal: 2.71s\tremaining: 926ms\n",
      "745:\tlearn: 0.3226091\ttotal: 2.71s\tremaining: 922ms\n",
      "746:\tlearn: 0.3225800\ttotal: 2.71s\tremaining: 919ms\n",
      "747:\tlearn: 0.3224709\ttotal: 2.71s\tremaining: 915ms\n",
      "748:\tlearn: 0.3223712\ttotal: 2.72s\tremaining: 911ms\n",
      "749:\tlearn: 0.3223175\ttotal: 2.72s\tremaining: 907ms\n",
      "750:\tlearn: 0.3221866\ttotal: 2.73s\tremaining: 904ms\n",
      "751:\tlearn: 0.3221117\ttotal: 2.73s\tremaining: 900ms\n",
      "752:\tlearn: 0.3219701\ttotal: 2.73s\tremaining: 896ms\n",
      "753:\tlearn: 0.3219310\ttotal: 2.74s\tremaining: 893ms\n",
      "754:\tlearn: 0.3217807\ttotal: 2.74s\tremaining: 889ms\n",
      "755:\tlearn: 0.3216544\ttotal: 2.74s\tremaining: 885ms\n",
      "756:\tlearn: 0.3215104\ttotal: 2.75s\tremaining: 882ms\n",
      "757:\tlearn: 0.3214835\ttotal: 2.75s\tremaining: 878ms\n",
      "758:\tlearn: 0.3214090\ttotal: 2.75s\tremaining: 875ms\n",
      "759:\tlearn: 0.3213628\ttotal: 2.76s\tremaining: 871ms\n",
      "760:\tlearn: 0.3212760\ttotal: 2.76s\tremaining: 867ms\n",
      "761:\tlearn: 0.3211809\ttotal: 2.77s\tremaining: 864ms\n",
      "762:\tlearn: 0.3211313\ttotal: 2.77s\tremaining: 860ms\n",
      "763:\tlearn: 0.3210415\ttotal: 2.77s\tremaining: 856ms\n",
      "764:\tlearn: 0.3209625\ttotal: 2.78s\tremaining: 853ms\n",
      "765:\tlearn: 0.3208550\ttotal: 2.78s\tremaining: 849ms\n",
      "766:\tlearn: 0.3206707\ttotal: 2.78s\tremaining: 846ms\n",
      "767:\tlearn: 0.3205709\ttotal: 2.79s\tremaining: 842ms\n",
      "768:\tlearn: 0.3204131\ttotal: 2.79s\tremaining: 838ms\n",
      "769:\tlearn: 0.3203263\ttotal: 2.79s\tremaining: 835ms\n",
      "770:\tlearn: 0.3203078\ttotal: 2.8s\tremaining: 831ms\n",
      "771:\tlearn: 0.3202435\ttotal: 2.8s\tremaining: 828ms\n",
      "772:\tlearn: 0.3201234\ttotal: 2.81s\tremaining: 824ms\n",
      "773:\tlearn: 0.3199509\ttotal: 2.81s\tremaining: 820ms\n",
      "774:\tlearn: 0.3199004\ttotal: 2.81s\tremaining: 817ms\n",
      "775:\tlearn: 0.3198099\ttotal: 2.82s\tremaining: 813ms\n",
      "776:\tlearn: 0.3197288\ttotal: 2.82s\tremaining: 809ms\n",
      "777:\tlearn: 0.3196347\ttotal: 2.82s\tremaining: 806ms\n",
      "778:\tlearn: 0.3195696\ttotal: 2.83s\tremaining: 802ms\n",
      "779:\tlearn: 0.3194912\ttotal: 2.83s\tremaining: 800ms\n",
      "780:\tlearn: 0.3194102\ttotal: 2.84s\tremaining: 796ms\n",
      "781:\tlearn: 0.3192252\ttotal: 2.84s\tremaining: 792ms\n",
      "782:\tlearn: 0.3191139\ttotal: 2.85s\tremaining: 789ms\n",
      "783:\tlearn: 0.3190861\ttotal: 2.85s\tremaining: 785ms\n",
      "784:\tlearn: 0.3190103\ttotal: 2.85s\tremaining: 781ms\n",
      "785:\tlearn: 0.3189669\ttotal: 2.86s\tremaining: 778ms\n",
      "786:\tlearn: 0.3188582\ttotal: 2.86s\tremaining: 774ms\n",
      "787:\tlearn: 0.3187235\ttotal: 2.86s\tremaining: 770ms\n",
      "788:\tlearn: 0.3186554\ttotal: 2.87s\tremaining: 766ms\n",
      "789:\tlearn: 0.3185787\ttotal: 2.87s\tremaining: 763ms\n",
      "790:\tlearn: 0.3184421\ttotal: 2.87s\tremaining: 759ms\n",
      "791:\tlearn: 0.3183503\ttotal: 2.88s\tremaining: 755ms\n",
      "792:\tlearn: 0.3182621\ttotal: 2.88s\tremaining: 751ms\n",
      "793:\tlearn: 0.3182458\ttotal: 2.88s\tremaining: 748ms\n",
      "794:\tlearn: 0.3181750\ttotal: 2.88s\tremaining: 744ms\n",
      "795:\tlearn: 0.3180491\ttotal: 2.89s\tremaining: 740ms\n",
      "796:\tlearn: 0.3179472\ttotal: 2.89s\tremaining: 736ms\n",
      "797:\tlearn: 0.3179193\ttotal: 2.89s\tremaining: 732ms\n",
      "798:\tlearn: 0.3177904\ttotal: 2.9s\tremaining: 729ms\n",
      "799:\tlearn: 0.3177002\ttotal: 2.9s\tremaining: 725ms\n",
      "800:\tlearn: 0.3175971\ttotal: 2.9s\tremaining: 721ms\n",
      "801:\tlearn: 0.3175173\ttotal: 2.9s\tremaining: 717ms\n",
      "802:\tlearn: 0.3174388\ttotal: 2.91s\tremaining: 713ms\n",
      "803:\tlearn: 0.3173147\ttotal: 2.91s\tremaining: 709ms\n",
      "804:\tlearn: 0.3172086\ttotal: 2.91s\tremaining: 706ms\n",
      "805:\tlearn: 0.3171125\ttotal: 2.92s\tremaining: 702ms\n",
      "806:\tlearn: 0.3169943\ttotal: 2.92s\tremaining: 698ms\n",
      "807:\tlearn: 0.3169289\ttotal: 2.92s\tremaining: 694ms\n",
      "808:\tlearn: 0.3167996\ttotal: 2.94s\tremaining: 693ms\n",
      "809:\tlearn: 0.3167548\ttotal: 2.94s\tremaining: 689ms\n",
      "810:\tlearn: 0.3166795\ttotal: 2.94s\tremaining: 686ms\n",
      "811:\tlearn: 0.3165711\ttotal: 2.94s\tremaining: 682ms\n",
      "812:\tlearn: 0.3164392\ttotal: 2.95s\tremaining: 678ms\n",
      "813:\tlearn: 0.3162999\ttotal: 2.95s\tremaining: 674ms\n",
      "814:\tlearn: 0.3161750\ttotal: 2.95s\tremaining: 670ms\n",
      "815:\tlearn: 0.3160569\ttotal: 2.95s\tremaining: 666ms\n",
      "816:\tlearn: 0.3159324\ttotal: 2.96s\tremaining: 662ms\n",
      "817:\tlearn: 0.3158578\ttotal: 2.96s\tremaining: 659ms\n",
      "818:\tlearn: 0.3156980\ttotal: 2.96s\tremaining: 655ms\n",
      "819:\tlearn: 0.3155966\ttotal: 2.96s\tremaining: 651ms\n",
      "820:\tlearn: 0.3154917\ttotal: 2.97s\tremaining: 647ms\n",
      "821:\tlearn: 0.3153725\ttotal: 2.97s\tremaining: 644ms\n",
      "822:\tlearn: 0.3153130\ttotal: 2.97s\tremaining: 640ms\n",
      "823:\tlearn: 0.3152325\ttotal: 2.98s\tremaining: 636ms\n",
      "824:\tlearn: 0.3151555\ttotal: 2.98s\tremaining: 632ms\n",
      "825:\tlearn: 0.3150612\ttotal: 2.98s\tremaining: 628ms\n",
      "826:\tlearn: 0.3149855\ttotal: 2.99s\tremaining: 625ms\n",
      "827:\tlearn: 0.3149102\ttotal: 2.99s\tremaining: 621ms\n",
      "828:\tlearn: 0.3147623\ttotal: 2.99s\tremaining: 617ms\n",
      "829:\tlearn: 0.3146266\ttotal: 3s\tremaining: 614ms\n",
      "830:\tlearn: 0.3145791\ttotal: 3s\tremaining: 610ms\n",
      "831:\tlearn: 0.3144733\ttotal: 3s\tremaining: 606ms\n",
      "832:\tlearn: 0.3142941\ttotal: 3s\tremaining: 602ms\n",
      "833:\tlearn: 0.3142378\ttotal: 3.01s\tremaining: 599ms\n",
      "834:\tlearn: 0.3141137\ttotal: 3.01s\tremaining: 595ms\n",
      "835:\tlearn: 0.3140306\ttotal: 3.01s\tremaining: 591ms\n",
      "836:\tlearn: 0.3139100\ttotal: 3.02s\tremaining: 587ms\n",
      "837:\tlearn: 0.3137917\ttotal: 3.02s\tremaining: 584ms\n",
      "838:\tlearn: 0.3136742\ttotal: 3.02s\tremaining: 580ms\n",
      "839:\tlearn: 0.3135552\ttotal: 3.03s\tremaining: 576ms\n",
      "840:\tlearn: 0.3134703\ttotal: 3.03s\tremaining: 573ms\n",
      "841:\tlearn: 0.3133909\ttotal: 3.03s\tremaining: 569ms\n",
      "842:\tlearn: 0.3133044\ttotal: 3.04s\tremaining: 565ms\n",
      "843:\tlearn: 0.3132434\ttotal: 3.04s\tremaining: 562ms\n",
      "844:\tlearn: 0.3131119\ttotal: 3.04s\tremaining: 558ms\n",
      "845:\tlearn: 0.3130429\ttotal: 3.04s\tremaining: 554ms\n",
      "846:\tlearn: 0.3129425\ttotal: 3.05s\tremaining: 550ms\n",
      "847:\tlearn: 0.3127690\ttotal: 3.05s\tremaining: 547ms\n",
      "848:\tlearn: 0.3127148\ttotal: 3.06s\tremaining: 544ms\n",
      "849:\tlearn: 0.3126335\ttotal: 3.06s\tremaining: 540ms\n",
      "850:\tlearn: 0.3125076\ttotal: 3.06s\tremaining: 536ms\n",
      "851:\tlearn: 0.3123571\ttotal: 3.06s\tremaining: 532ms\n",
      "852:\tlearn: 0.3123296\ttotal: 3.07s\tremaining: 529ms\n",
      "853:\tlearn: 0.3121806\ttotal: 3.07s\tremaining: 525ms\n",
      "854:\tlearn: 0.3121802\ttotal: 3.07s\tremaining: 521ms\n",
      "855:\tlearn: 0.3121199\ttotal: 3.08s\tremaining: 517ms\n",
      "856:\tlearn: 0.3120018\ttotal: 3.08s\tremaining: 514ms\n",
      "857:\tlearn: 0.3119391\ttotal: 3.08s\tremaining: 510ms\n",
      "858:\tlearn: 0.3118503\ttotal: 3.08s\tremaining: 506ms\n",
      "859:\tlearn: 0.3117515\ttotal: 3.09s\tremaining: 503ms\n",
      "860:\tlearn: 0.3116133\ttotal: 3.09s\tremaining: 499ms\n",
      "861:\tlearn: 0.3115064\ttotal: 3.09s\tremaining: 495ms\n",
      "862:\tlearn: 0.3114628\ttotal: 3.1s\tremaining: 491ms\n",
      "863:\tlearn: 0.3113826\ttotal: 3.1s\tremaining: 488ms\n",
      "864:\tlearn: 0.3113057\ttotal: 3.1s\tremaining: 484ms\n",
      "865:\tlearn: 0.3111891\ttotal: 3.1s\tremaining: 480ms\n",
      "866:\tlearn: 0.3111011\ttotal: 3.11s\tremaining: 477ms\n",
      "867:\tlearn: 0.3109357\ttotal: 3.11s\tremaining: 473ms\n",
      "868:\tlearn: 0.3108228\ttotal: 3.11s\tremaining: 469ms\n",
      "869:\tlearn: 0.3107672\ttotal: 3.12s\tremaining: 466ms\n",
      "870:\tlearn: 0.3106393\ttotal: 3.12s\tremaining: 462ms\n",
      "871:\tlearn: 0.3105729\ttotal: 3.12s\tremaining: 458ms\n",
      "872:\tlearn: 0.3104857\ttotal: 3.12s\tremaining: 454ms\n",
      "873:\tlearn: 0.3103704\ttotal: 3.13s\tremaining: 451ms\n",
      "874:\tlearn: 0.3102853\ttotal: 3.13s\tremaining: 447ms\n",
      "875:\tlearn: 0.3102162\ttotal: 3.13s\tremaining: 443ms\n",
      "876:\tlearn: 0.3101635\ttotal: 3.13s\tremaining: 440ms\n",
      "877:\tlearn: 0.3100635\ttotal: 3.14s\tremaining: 436ms\n",
      "878:\tlearn: 0.3099348\ttotal: 3.14s\tremaining: 432ms\n",
      "879:\tlearn: 0.3097749\ttotal: 3.14s\tremaining: 429ms\n",
      "880:\tlearn: 0.3096551\ttotal: 3.15s\tremaining: 425ms\n",
      "881:\tlearn: 0.3095751\ttotal: 3.15s\tremaining: 421ms\n",
      "882:\tlearn: 0.3094821\ttotal: 3.15s\tremaining: 418ms\n",
      "883:\tlearn: 0.3093678\ttotal: 3.15s\tremaining: 414ms\n",
      "884:\tlearn: 0.3092725\ttotal: 3.16s\tremaining: 410ms\n",
      "885:\tlearn: 0.3091477\ttotal: 3.16s\tremaining: 407ms\n",
      "886:\tlearn: 0.3090658\ttotal: 3.16s\tremaining: 403ms\n",
      "887:\tlearn: 0.3089963\ttotal: 3.17s\tremaining: 399ms\n",
      "888:\tlearn: 0.3088926\ttotal: 3.17s\tremaining: 396ms\n",
      "889:\tlearn: 0.3088203\ttotal: 3.17s\tremaining: 392ms\n",
      "890:\tlearn: 0.3086581\ttotal: 3.17s\tremaining: 388ms\n",
      "891:\tlearn: 0.3086106\ttotal: 3.18s\tremaining: 385ms\n",
      "892:\tlearn: 0.3085022\ttotal: 3.18s\tremaining: 381ms\n",
      "893:\tlearn: 0.3084261\ttotal: 3.18s\tremaining: 377ms\n",
      "894:\tlearn: 0.3083068\ttotal: 3.19s\tremaining: 374ms\n",
      "895:\tlearn: 0.3082084\ttotal: 3.19s\tremaining: 370ms\n",
      "896:\tlearn: 0.3080883\ttotal: 3.19s\tremaining: 367ms\n"
     ]
    },
    {
     "name": "stdout",
     "output_type": "stream",
     "text": [
      "897:\tlearn: 0.3079800\ttotal: 3.2s\tremaining: 363ms\n",
      "898:\tlearn: 0.3079308\ttotal: 3.2s\tremaining: 360ms\n",
      "899:\tlearn: 0.3078639\ttotal: 3.2s\tremaining: 356ms\n",
      "900:\tlearn: 0.3077378\ttotal: 3.21s\tremaining: 352ms\n",
      "901:\tlearn: 0.3076577\ttotal: 3.22s\tremaining: 350ms\n",
      "902:\tlearn: 0.3076402\ttotal: 3.22s\tremaining: 346ms\n",
      "903:\tlearn: 0.3075336\ttotal: 3.22s\tremaining: 342ms\n",
      "904:\tlearn: 0.3074668\ttotal: 3.23s\tremaining: 339ms\n",
      "905:\tlearn: 0.3073930\ttotal: 3.23s\tremaining: 335ms\n",
      "906:\tlearn: 0.3073320\ttotal: 3.23s\tremaining: 331ms\n",
      "907:\tlearn: 0.3071976\ttotal: 3.23s\tremaining: 328ms\n",
      "908:\tlearn: 0.3071022\ttotal: 3.24s\tremaining: 324ms\n",
      "909:\tlearn: 0.3070460\ttotal: 3.24s\tremaining: 320ms\n",
      "910:\tlearn: 0.3068841\ttotal: 3.24s\tremaining: 317ms\n",
      "911:\tlearn: 0.3068497\ttotal: 3.24s\tremaining: 313ms\n",
      "912:\tlearn: 0.3068108\ttotal: 3.25s\tremaining: 309ms\n",
      "913:\tlearn: 0.3067533\ttotal: 3.25s\tremaining: 306ms\n",
      "914:\tlearn: 0.3066907\ttotal: 3.25s\tremaining: 302ms\n",
      "915:\tlearn: 0.3065985\ttotal: 3.26s\tremaining: 299ms\n",
      "916:\tlearn: 0.3064968\ttotal: 3.26s\tremaining: 295ms\n",
      "917:\tlearn: 0.3064269\ttotal: 3.26s\tremaining: 291ms\n",
      "918:\tlearn: 0.3062769\ttotal: 3.27s\tremaining: 288ms\n",
      "919:\tlearn: 0.3061863\ttotal: 3.27s\tremaining: 284ms\n",
      "920:\tlearn: 0.3060910\ttotal: 3.27s\tremaining: 281ms\n",
      "921:\tlearn: 0.3060187\ttotal: 3.27s\tremaining: 277ms\n",
      "922:\tlearn: 0.3059128\ttotal: 3.28s\tremaining: 273ms\n",
      "923:\tlearn: 0.3058146\ttotal: 3.28s\tremaining: 270ms\n",
      "924:\tlearn: 0.3057700\ttotal: 3.28s\tremaining: 266ms\n",
      "925:\tlearn: 0.3056892\ttotal: 3.29s\tremaining: 263ms\n",
      "926:\tlearn: 0.3056119\ttotal: 3.29s\tremaining: 259ms\n",
      "927:\tlearn: 0.3055548\ttotal: 3.29s\tremaining: 256ms\n",
      "928:\tlearn: 0.3054315\ttotal: 3.3s\tremaining: 252ms\n",
      "929:\tlearn: 0.3053665\ttotal: 3.3s\tremaining: 249ms\n",
      "930:\tlearn: 0.3052703\ttotal: 3.31s\tremaining: 245ms\n",
      "931:\tlearn: 0.3051756\ttotal: 3.31s\tremaining: 241ms\n",
      "932:\tlearn: 0.3051276\ttotal: 3.31s\tremaining: 238ms\n",
      "933:\tlearn: 0.3050356\ttotal: 3.32s\tremaining: 234ms\n",
      "934:\tlearn: 0.3049072\ttotal: 3.32s\tremaining: 231ms\n",
      "935:\tlearn: 0.3047813\ttotal: 3.32s\tremaining: 227ms\n",
      "936:\tlearn: 0.3047587\ttotal: 3.33s\tremaining: 224ms\n",
      "937:\tlearn: 0.3046848\ttotal: 3.33s\tremaining: 220ms\n",
      "938:\tlearn: 0.3046522\ttotal: 3.33s\tremaining: 217ms\n",
      "939:\tlearn: 0.3045911\ttotal: 3.34s\tremaining: 213ms\n",
      "940:\tlearn: 0.3045319\ttotal: 3.34s\tremaining: 210ms\n",
      "941:\tlearn: 0.3044485\ttotal: 3.35s\tremaining: 206ms\n",
      "942:\tlearn: 0.3043248\ttotal: 3.35s\tremaining: 202ms\n",
      "943:\tlearn: 0.3042474\ttotal: 3.35s\tremaining: 199ms\n",
      "944:\tlearn: 0.3041231\ttotal: 3.36s\tremaining: 195ms\n",
      "945:\tlearn: 0.3040712\ttotal: 3.36s\tremaining: 192ms\n",
      "946:\tlearn: 0.3039944\ttotal: 3.37s\tremaining: 188ms\n",
      "947:\tlearn: 0.3038627\ttotal: 3.37s\tremaining: 185ms\n",
      "948:\tlearn: 0.3037391\ttotal: 3.37s\tremaining: 181ms\n",
      "949:\tlearn: 0.3036381\ttotal: 3.38s\tremaining: 178ms\n",
      "950:\tlearn: 0.3035668\ttotal: 3.38s\tremaining: 174ms\n",
      "951:\tlearn: 0.3034847\ttotal: 3.38s\tremaining: 171ms\n",
      "952:\tlearn: 0.3033900\ttotal: 3.39s\tremaining: 167ms\n",
      "953:\tlearn: 0.3033452\ttotal: 3.39s\tremaining: 164ms\n",
      "954:\tlearn: 0.3032854\ttotal: 3.41s\tremaining: 161ms\n",
      "955:\tlearn: 0.3031940\ttotal: 3.42s\tremaining: 157ms\n",
      "956:\tlearn: 0.3031432\ttotal: 3.42s\tremaining: 154ms\n",
      "957:\tlearn: 0.3030147\ttotal: 3.42s\tremaining: 150ms\n",
      "958:\tlearn: 0.3029388\ttotal: 3.43s\tremaining: 147ms\n",
      "959:\tlearn: 0.3028389\ttotal: 3.43s\tremaining: 143ms\n",
      "960:\tlearn: 0.3027577\ttotal: 3.44s\tremaining: 139ms\n",
      "961:\tlearn: 0.3026553\ttotal: 3.44s\tremaining: 136ms\n",
      "962:\tlearn: 0.3025898\ttotal: 3.44s\tremaining: 132ms\n",
      "963:\tlearn: 0.3025143\ttotal: 3.45s\tremaining: 129ms\n",
      "964:\tlearn: 0.3024560\ttotal: 3.45s\tremaining: 125ms\n",
      "965:\tlearn: 0.3023466\ttotal: 3.45s\tremaining: 122ms\n",
      "966:\tlearn: 0.3022968\ttotal: 3.46s\tremaining: 118ms\n",
      "967:\tlearn: 0.3021992\ttotal: 3.46s\tremaining: 114ms\n",
      "968:\tlearn: 0.3021072\ttotal: 3.46s\tremaining: 111ms\n",
      "969:\tlearn: 0.3020559\ttotal: 3.47s\tremaining: 107ms\n",
      "970:\tlearn: 0.3019514\ttotal: 3.47s\tremaining: 104ms\n",
      "971:\tlearn: 0.3018932\ttotal: 3.48s\tremaining: 100ms\n",
      "972:\tlearn: 0.3018631\ttotal: 3.48s\tremaining: 96.5ms\n",
      "973:\tlearn: 0.3017527\ttotal: 3.48s\tremaining: 93ms\n",
      "974:\tlearn: 0.3016512\ttotal: 3.49s\tremaining: 89.4ms\n",
      "975:\tlearn: 0.3016352\ttotal: 3.49s\tremaining: 85.8ms\n",
      "976:\tlearn: 0.3015352\ttotal: 3.49s\tremaining: 82.3ms\n",
      "977:\tlearn: 0.3014417\ttotal: 3.5s\tremaining: 78.7ms\n",
      "978:\tlearn: 0.3013841\ttotal: 3.5s\tremaining: 75.1ms\n",
      "979:\tlearn: 0.3012930\ttotal: 3.5s\tremaining: 71.5ms\n",
      "980:\tlearn: 0.3012441\ttotal: 3.51s\tremaining: 68ms\n",
      "981:\tlearn: 0.3011874\ttotal: 3.51s\tremaining: 64.4ms\n",
      "982:\tlearn: 0.3010583\ttotal: 3.52s\tremaining: 60.8ms\n",
      "983:\tlearn: 0.3009747\ttotal: 3.52s\tremaining: 57.3ms\n",
      "984:\tlearn: 0.3008946\ttotal: 3.52s\tremaining: 53.7ms\n",
      "985:\tlearn: 0.3008016\ttotal: 3.53s\tremaining: 50.1ms\n",
      "986:\tlearn: 0.3007467\ttotal: 3.53s\tremaining: 46.5ms\n",
      "987:\tlearn: 0.3006652\ttotal: 3.54s\tremaining: 43ms\n",
      "988:\tlearn: 0.3005421\ttotal: 3.54s\tremaining: 39.4ms\n",
      "989:\tlearn: 0.3004664\ttotal: 3.54s\tremaining: 35.8ms\n",
      "990:\tlearn: 0.3004448\ttotal: 3.55s\tremaining: 32.2ms\n",
      "991:\tlearn: 0.3004076\ttotal: 3.55s\tremaining: 28.7ms\n",
      "992:\tlearn: 0.3003913\ttotal: 3.56s\tremaining: 25.1ms\n",
      "993:\tlearn: 0.3003727\ttotal: 3.56s\tremaining: 21.5ms\n",
      "994:\tlearn: 0.3002492\ttotal: 3.57s\tremaining: 17.9ms\n",
      "995:\tlearn: 0.3000898\ttotal: 3.57s\tremaining: 14.3ms\n",
      "996:\tlearn: 0.2999942\ttotal: 3.57s\tremaining: 10.8ms\n",
      "997:\tlearn: 0.2999626\ttotal: 3.58s\tremaining: 7.17ms\n",
      "998:\tlearn: 0.2998529\ttotal: 3.58s\tremaining: 3.58ms\n",
      "999:\tlearn: 0.2997947\ttotal: 3.59s\tremaining: 0us\n"
     ]
    },
    {
     "data": {
      "text/plain": [
       "<catboost.core.CatBoostClassifier at 0x260a7a68b20>"
      ]
     },
     "execution_count": 64,
     "metadata": {},
     "output_type": "execute_result"
    }
   ],
   "source": [
    "from catboost import CatBoostClassifier\n",
    "model4 = CatBoostClassifier()\n",
    "model4.fit(X_train, Y_train)"
   ]
  },
  {
   "cell_type": "code",
   "execution_count": 65,
   "id": "2bd8e20b",
   "metadata": {},
   "outputs": [
    {
     "data": {
      "text/plain": [
       "0.7997724687144482"
      ]
     },
     "execution_count": 65,
     "metadata": {},
     "output_type": "execute_result"
    }
   ],
   "source": [
    "model4.score(X_test, Y_test)"
   ]
  },
  {
   "cell_type": "code",
   "execution_count": 66,
   "id": "48b25a9c",
   "metadata": {},
   "outputs": [
    {
     "name": "stdout",
     "output_type": "stream",
     "text": [
      "[LightGBM] [Warning] Found whitespace in feature_names, replace with underlines\n",
      "[LightGBM] [Info] Number of positive: 1402, number of negative: 3872\n",
      "[LightGBM] [Info] Auto-choosing row-wise multi-threading, the overhead of testing was 0.001011 seconds.\n",
      "You can set `force_row_wise=true` to remove the overhead.\n",
      "And if memory is not enough, you can set `force_col_wise=true`.\n",
      "[LightGBM] [Info] Total Bins 628\n",
      "[LightGBM] [Info] Number of data points in the train set: 5274, number of used features: 26\n",
      "[LightGBM] [Info] [binary:BoostFromScore]: pavg=0.265832 -> initscore=-1.015871\n",
      "[LightGBM] [Info] Start training from score -1.015871\n"
     ]
    },
    {
     "data": {
      "text/plain": [
       "LGBMClassifier()"
      ]
     },
     "execution_count": 66,
     "metadata": {},
     "output_type": "execute_result"
    }
   ],
   "source": [
    "from lightgbm import LGBMClassifier\n",
    "model5 = LGBMClassifier()\n",
    "model5.fit(X_train, Y_train)"
   ]
  },
  {
   "cell_type": "code",
   "execution_count": 67,
   "id": "8084bad9",
   "metadata": {},
   "outputs": [
    {
     "data": {
      "text/plain": [
       "0.7895335608646189"
      ]
     },
     "execution_count": 67,
     "metadata": {},
     "output_type": "execute_result"
    }
   ],
   "source": [
    "model5.score(X_test, Y_test)"
   ]
  },
  {
   "cell_type": "code",
   "execution_count": 68,
   "id": "39c7fee6",
   "metadata": {},
   "outputs": [
    {
     "data": {
      "text/plain": [
       "XGBClassifier(base_score=0.5, booster='gbtree', callbacks=None,\n",
       "              colsample_bylevel=1, colsample_bynode=1, colsample_bytree=1,\n",
       "              early_stopping_rounds=None, enable_categorical=False,\n",
       "              eval_metric=None, gamma=0, gpu_id=-1, grow_policy='depthwise',\n",
       "              importance_type=None, interaction_constraints='',\n",
       "              learning_rate=0.300000012, max_bin=256, max_cat_to_onehot=4,\n",
       "              max_delta_step=0, max_depth=6, max_leaves=0, min_child_weight=1,\n",
       "              missing=nan, monotone_constraints='()', n_estimators=100,\n",
       "              n_jobs=0, num_parallel_tree=1, predictor='auto', random_state=0,\n",
       "              reg_alpha=0, reg_lambda=1, ...)"
      ]
     },
     "execution_count": 68,
     "metadata": {},
     "output_type": "execute_result"
    }
   ],
   "source": [
    "from xgboost import XGBClassifier\n",
    "model6 = XGBClassifier()\n",
    "model6.fit(X_train, Y_train)"
   ]
  },
  {
   "cell_type": "code",
   "execution_count": 69,
   "id": "df00cff3",
   "metadata": {},
   "outputs": [
    {
     "data": {
      "text/plain": [
       "0.7832764505119454"
      ]
     },
     "execution_count": 69,
     "metadata": {},
     "output_type": "execute_result"
    }
   ],
   "source": [
    "model6.score(X_test, Y_test)"
   ]
  },
  {
   "cell_type": "code",
   "execution_count": 70,
   "id": "c8be1a85",
   "metadata": {},
   "outputs": [
    {
     "data": {
      "text/plain": [
       "HistGradientBoostingClassifier()"
      ]
     },
     "execution_count": 70,
     "metadata": {},
     "output_type": "execute_result"
    }
   ],
   "source": [
    "from sklearn.ensemble import HistGradientBoostingClassifier\n",
    "model7 = HistGradientBoostingClassifier()\n",
    "model7.fit(X_train, Y_train)"
   ]
  },
  {
   "cell_type": "code",
   "execution_count": 71,
   "id": "6fe1d3d5",
   "metadata": {},
   "outputs": [
    {
     "data": {
      "text/plain": [
       "0.7895335608646189"
      ]
     },
     "execution_count": 71,
     "metadata": {},
     "output_type": "execute_result"
    }
   ],
   "source": [
    "model7.score(X_test, Y_test)"
   ]
  },
  {
   "cell_type": "code",
   "execution_count": 72,
   "id": "533ca574",
   "metadata": {},
   "outputs": [],
   "source": [
    "X_test_predicted4 = model4.predict(X_test)"
   ]
  },
  {
   "cell_type": "code",
   "execution_count": 73,
   "id": "c2599083",
   "metadata": {},
   "outputs": [
    {
     "name": "stdout",
     "output_type": "stream",
     "text": [
      "              precision    recall  f1-score   support\n",
      "\n",
      "           0       0.84      0.91      0.87      1291\n",
      "           1       0.66      0.51      0.57       467\n",
      "\n",
      "    accuracy                           0.80      1758\n",
      "   macro avg       0.75      0.71      0.72      1758\n",
      "weighted avg       0.79      0.80      0.79      1758\n",
      "\n"
     ]
    }
   ],
   "source": [
    "print(classification_report(Y_test, X_test_predicted4))"
   ]
  },
  {
   "cell_type": "code",
   "execution_count": 74,
   "id": "fbeb36a0",
   "metadata": {},
   "outputs": [
    {
     "data": {
      "text/plain": [
       "Text(114.0, 0.5, 'Truth')"
      ]
     },
     "execution_count": 74,
     "metadata": {},
     "output_type": "execute_result"
    },
    {
     "data": {
      "image/png": "[encoded data removed]",
      "text/plain": [
       "<Figure size 1080x720 with 2 Axes>"
      ]
     },
     "metadata": {
      "needs_background": "light"
     },
     "output_type": "display_data"
    }
   ],
   "source": [
    "cm = confusion_matrix(Y_test, X_test_predicted4)\n",
    "plt.figure(figsize = (15, 10))\n",
    "sns.heatmap(cm, annot = True, fmt ='d')\n",
    "plt.xlabel('Predicted')\n",
    "plt.ylabel('Truth')"
   ]
  },
  {
   "cell_type": "markdown",
   "id": "03ef7b17",
   "metadata": {},
   "source": [
    "### Results:\n",
    "    1. We receive an accuracy of 79.98% when Cat Boosting model is used which is greater than all the other boosting algorithms such as GradientBoosting, HistGradientBoosting, XGBoosting, and LightGBoosting."
   ]
  },
  {
   "cell_type": "code",
   "execution_count": 79,
   "id": "65925101",
   "metadata": {},
   "outputs": [
    {
     "data": {
      "text/plain": [
       "SVC()"
      ]
     },
     "execution_count": 79,
     "metadata": {},
     "output_type": "execute_result"
    }
   ],
   "source": []
  },
  {
   "cell_type": "code",
   "execution_count": 80,
   "id": "ae2820b4",
   "metadata": {},
   "outputs": [
    {
     "data": {
      "text/plain": [
       "0.7889647326507395"
      ]
     },
     "execution_count": 80,
     "metadata": {},
     "output_type": "execute_result"
    }
   ],
   "source": []
  }
 ],
 "metadata": {
  "kernelspec": {
   "display_name": "Python 3 (ipykernel)",
   "language": "python",
   "name": "python3"
  },
  "language_info": {
   "codemirror_mode": {
    "name": "ipython",
    "version": 3
   },
   "file_extension": ".py",
   "mimetype": "text/x-python",
   "name": "python",
   "nbconvert_exporter": "python",
   "pygments_lexer": "ipython3",
   "version": "3.9.12"
  }
 },
 "nbformat": 4,
 "nbformat_minor": 5
}
